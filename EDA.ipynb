{
 "cells": [
  {
   "cell_type": "markdown",
   "id": "a303fc30",
   "metadata": {},
   "source": [
    "# EDA"
   ]
  },
  {
   "cell_type": "markdown",
   "id": "5a503bb8",
   "metadata": {},
   "source": [
    "- Load in your csv.gz's of results for each year extracted.\n",
    "- Concatenate the data into 1 dataframe for the remainder of the analysis.\n",
    "\n",
    "\n",
    "- Once you have your data from the API, they would like you to perform some light EDA to show:\n",
    "    - How many movies had at least some valid financial information (values > 0 for budget OR revenue)?\n",
    "        - Please exclude any movies with 0's for budget AND revenue from the remaining visualizations.\n",
    "    - How many movies are there in each of the certification categories (G/PG/PG-13/R)?\n",
    "    - What is the average revenue per certification category?\n",
    "    - What is the average budget per certification category"
   ]
  },
  {
   "cell_type": "code",
   "execution_count": 1,
   "id": "30cf3995",
   "metadata": {},
   "outputs": [],
   "source": [
    "import pandas as pd\n",
    "import matplotlib.pyplot as plt\n",
    "import seaborn as sns\n",
    "import numpy as np\n",
    "import os\n",
    "from matplotlib.ticker import FuncFormatter\n",
    "plt.style.use('ggplot')"
   ]
  },
  {
   "cell_type": "code",
   "execution_count": 2,
   "id": "ac61844b",
   "metadata": {},
   "outputs": [
    {
     "data": {
      "text/plain": [
       "['final_tmdb_data_2006.csv.gz',\n",
       " 'tmdb_api_results_2010.json',\n",
       " 'final_tmdb_data_2018.csv.gz',\n",
       " 'final_tmdb_data_2014.csv.gz',\n",
       " 'tmdb_api_results_2006.json',\n",
       " 'final_tmdb_data_2022.csv.gz',\n",
       " 'title_basics_cleaned.csv.gz',\n",
       " 'final_tmdb_data_2008.csv.gz',\n",
       " 'final_tmdb_data_2016.csv.gz',\n",
       " 'final_tmdb_data_2004.csv.gz',\n",
       " 'tmdb_api_results_2007.json',\n",
       " 'final_tmdb_data_2020.csv.gz',\n",
       " 'tmdb_api_results_2011.json',\n",
       " 'title_ratings_cleaned.csv.gz',\n",
       " 'tmdb_api_results_2020.json',\n",
       " 'tmdb_api_results_2016.json',\n",
       " 'tmdb_api_results_2000.json',\n",
       " 'final_tmdb_data_2000.csv.gz',\n",
       " 'final_tmdb_data_2012.csv.gz',\n",
       " 'tmdb_api_results_2001.json',\n",
       " 'final_tmdb_data_2010.csv.gz',\n",
       " 'final_tmdb_data_2002.csv.gz',\n",
       " 'tmdb_api_results_2017.json',\n",
       " 'tmdb_api_results_2021.json',\n",
       " 'tmdb_api_results_2022.json',\n",
       " 'tmdb_api_results_2018.json',\n",
       " 'final_tmdb_data_2023.csv.gz',\n",
       " 'tmdb_api_results_2002.json',\n",
       " 'final_tmdb_data_2019.csv.gz',\n",
       " 'final_tmdb_data_2007.csv.gz',\n",
       " 'tmdb_api_results_2014.json',\n",
       " 'final_tmdb_data_2015.csv.gz',\n",
       " 'tmdb_api_results_2015.json',\n",
       " 'final_tmdb_data_2021.csv.gz',\n",
       " 'tmdb_api_results_2003.json',\n",
       " 'final_tmdb_data_2017.csv.gz',\n",
       " 'final_tmdb_data_2009.csv.gz',\n",
       " 'final_tmdb_data_2005.csv.gz',\n",
       " 'tmdb_api_results_2019.json',\n",
       " 'tmdb_api_results_2023.json',\n",
       " 'processed-nlp-data.joblib',\n",
       " 'final_tmdb_data_2001.csv.gz',\n",
       " '.ipynb_checkpoints',\n",
       " 'final_tmdb_data_2013.csv.gz',\n",
       " 'tmdb_api_results_2004.json',\n",
       " 'tmdb_api_results_2012.json',\n",
       " 'tmdb_api_results_2008.json',\n",
       " 'movie_reviews.csv',\n",
       " 'tmdb_api_results_2009.json',\n",
       " 'title_akas_cleaned.csv.gz',\n",
       " 'tmdb_api_results_2013.json',\n",
       " 'final_tmdb_data_2011.csv.gz',\n",
       " 'final_tmdb_data_2003.csv.gz',\n",
       " 'tmdb_api_results_2005.json']"
      ]
     },
     "execution_count": 2,
     "metadata": {},
     "output_type": "execute_result"
    }
   ],
   "source": [
    "FOLDER = \"Data/\"\n",
    "os.listdir(FOLDER)"
   ]
  },
  {
   "cell_type": "code",
   "execution_count": 3,
   "id": "837735c3",
   "metadata": {},
   "outputs": [
    {
     "data": {
      "text/plain": [
       "['Data/final_tmdb_data_2000.csv.gz',\n",
       " 'Data/final_tmdb_data_2001.csv.gz',\n",
       " 'Data/final_tmdb_data_2002.csv.gz',\n",
       " 'Data/final_tmdb_data_2003.csv.gz',\n",
       " 'Data/final_tmdb_data_2004.csv.gz',\n",
       " 'Data/final_tmdb_data_2005.csv.gz',\n",
       " 'Data/final_tmdb_data_2006.csv.gz',\n",
       " 'Data/final_tmdb_data_2007.csv.gz',\n",
       " 'Data/final_tmdb_data_2008.csv.gz',\n",
       " 'Data/final_tmdb_data_2009.csv.gz',\n",
       " 'Data/final_tmdb_data_2010.csv.gz',\n",
       " 'Data/final_tmdb_data_2011.csv.gz',\n",
       " 'Data/final_tmdb_data_2012.csv.gz',\n",
       " 'Data/final_tmdb_data_2013.csv.gz',\n",
       " 'Data/final_tmdb_data_2014.csv.gz',\n",
       " 'Data/final_tmdb_data_2015.csv.gz',\n",
       " 'Data/final_tmdb_data_2016.csv.gz',\n",
       " 'Data/final_tmdb_data_2017.csv.gz',\n",
       " 'Data/final_tmdb_data_2018.csv.gz',\n",
       " 'Data/final_tmdb_data_2019.csv.gz',\n",
       " 'Data/final_tmdb_data_2020.csv.gz',\n",
       " 'Data/final_tmdb_data_2021.csv.gz',\n",
       " 'Data/final_tmdb_data_2022.csv.gz',\n",
       " 'Data/final_tmdb_data_2023.csv.gz']"
      ]
     },
     "execution_count": 3,
     "metadata": {},
     "output_type": "execute_result"
    }
   ],
   "source": [
    "## Should show students glob\n",
    "import glob\n",
    "q  = f\"{FOLDER}final*.csv.gz\"\n",
    "files = sorted(glob.glob(q))\n",
    "files"
   ]
  },
  {
   "cell_type": "markdown",
   "id": "1bf266d4",
   "metadata": {},
   "source": [
    "### Concatenating DataFrames"
   ]
  },
  {
   "cell_type": "markdown",
   "id": "2463bf92",
   "metadata": {},
   "source": []
  },
  {
   "cell_type": "code",
   "execution_count": 4,
   "id": "448e7352",
   "metadata": {},
   "outputs": [],
   "source": [
    "#### Low-Lift Version/Basic Version\n",
    "# df_2000 = pd.read_csv('Data/final_tmdb_data_2000.csv.gz')\n",
    "\n",
    "# df_2001 = pd.read_csv('Data/final_tmdb_data_2001.csv.gz')\n",
    "# df_2002 = pd.read_csv('Data/final_tmdb_data_2002.csv.gz')"
   ]
  },
  {
   "cell_type": "code",
   "execution_count": 5,
   "id": "9f731409",
   "metadata": {},
   "outputs": [
    {
     "data": {
      "text/html": [
       "<div>\n",
       "<style scoped>\n",
       "    .dataframe tbody tr th:only-of-type {\n",
       "        vertical-align: middle;\n",
       "    }\n",
       "\n",
       "    .dataframe tbody tr th {\n",
       "        vertical-align: top;\n",
       "    }\n",
       "\n",
       "    .dataframe thead th {\n",
       "        text-align: right;\n",
       "    }\n",
       "</style>\n",
       "<table border=\"1\" class=\"dataframe\">\n",
       "  <thead>\n",
       "    <tr style=\"text-align: right;\">\n",
       "      <th></th>\n",
       "      <th>imdb_id</th>\n",
       "      <th>adult</th>\n",
       "      <th>backdrop_path</th>\n",
       "      <th>belongs_to_collection</th>\n",
       "      <th>budget</th>\n",
       "      <th>genres</th>\n",
       "      <th>homepage</th>\n",
       "      <th>id</th>\n",
       "      <th>original_language</th>\n",
       "      <th>original_title</th>\n",
       "      <th>...</th>\n",
       "      <th>revenue</th>\n",
       "      <th>runtime</th>\n",
       "      <th>spoken_languages</th>\n",
       "      <th>status</th>\n",
       "      <th>tagline</th>\n",
       "      <th>title</th>\n",
       "      <th>video</th>\n",
       "      <th>vote_average</th>\n",
       "      <th>vote_count</th>\n",
       "      <th>certification</th>\n",
       "    </tr>\n",
       "  </thead>\n",
       "  <tbody>\n",
       "    <tr>\n",
       "      <th>0</th>\n",
       "      <td>0</td>\n",
       "      <td>NaN</td>\n",
       "      <td>NaN</td>\n",
       "      <td>NaN</td>\n",
       "      <td>NaN</td>\n",
       "      <td>NaN</td>\n",
       "      <td>NaN</td>\n",
       "      <td>NaN</td>\n",
       "      <td>NaN</td>\n",
       "      <td>NaN</td>\n",
       "      <td>...</td>\n",
       "      <td>NaN</td>\n",
       "      <td>NaN</td>\n",
       "      <td>NaN</td>\n",
       "      <td>NaN</td>\n",
       "      <td>NaN</td>\n",
       "      <td>NaN</td>\n",
       "      <td>NaN</td>\n",
       "      <td>NaN</td>\n",
       "      <td>NaN</td>\n",
       "      <td>NaN</td>\n",
       "    </tr>\n",
       "    <tr>\n",
       "      <th>1</th>\n",
       "      <td>tt0113026</td>\n",
       "      <td>0.0</td>\n",
       "      <td>/vMFs7nw6P0bIV1jDsQpxAieAVnH.jpg</td>\n",
       "      <td>NaN</td>\n",
       "      <td>10000000.0</td>\n",
       "      <td>[{'id': 35, 'name': 'Comedy'}, {'id': 10402, '...</td>\n",
       "      <td>NaN</td>\n",
       "      <td>62127.0</td>\n",
       "      <td>en</td>\n",
       "      <td>The Fantasticks</td>\n",
       "      <td>...</td>\n",
       "      <td>0.0</td>\n",
       "      <td>86.0</td>\n",
       "      <td>[{'english_name': 'English', 'iso_639_1': 'en'...</td>\n",
       "      <td>Released</td>\n",
       "      <td>Try to remember the first time magic happened</td>\n",
       "      <td>The Fantasticks</td>\n",
       "      <td>0.0</td>\n",
       "      <td>5.500</td>\n",
       "      <td>22.0</td>\n",
       "      <td>NaN</td>\n",
       "    </tr>\n",
       "    <tr>\n",
       "      <th>2</th>\n",
       "      <td>tt0113092</td>\n",
       "      <td>0.0</td>\n",
       "      <td>NaN</td>\n",
       "      <td>NaN</td>\n",
       "      <td>0.0</td>\n",
       "      <td>[{'id': 878, 'name': 'Science Fiction'}]</td>\n",
       "      <td>NaN</td>\n",
       "      <td>110977.0</td>\n",
       "      <td>en</td>\n",
       "      <td>For the Cause</td>\n",
       "      <td>...</td>\n",
       "      <td>0.0</td>\n",
       "      <td>100.0</td>\n",
       "      <td>[{'english_name': 'English', 'iso_639_1': 'en'...</td>\n",
       "      <td>Released</td>\n",
       "      <td>The ultimate showdown on a forbidden planet.</td>\n",
       "      <td>For the Cause</td>\n",
       "      <td>0.0</td>\n",
       "      <td>5.100</td>\n",
       "      <td>8.0</td>\n",
       "      <td>NaN</td>\n",
       "    </tr>\n",
       "    <tr>\n",
       "      <th>3</th>\n",
       "      <td>tt0116391</td>\n",
       "      <td>0.0</td>\n",
       "      <td>NaN</td>\n",
       "      <td>NaN</td>\n",
       "      <td>0.0</td>\n",
       "      <td>[{'id': 18, 'name': 'Drama'}, {'id': 28, 'name...</td>\n",
       "      <td>NaN</td>\n",
       "      <td>442869.0</td>\n",
       "      <td>hi</td>\n",
       "      <td>Gang</td>\n",
       "      <td>...</td>\n",
       "      <td>0.0</td>\n",
       "      <td>152.0</td>\n",
       "      <td>[{'english_name': 'Hindi', 'iso_639_1': 'hi', ...</td>\n",
       "      <td>Released</td>\n",
       "      <td>NaN</td>\n",
       "      <td>Gang</td>\n",
       "      <td>0.0</td>\n",
       "      <td>0.000</td>\n",
       "      <td>0.0</td>\n",
       "      <td>NaN</td>\n",
       "    </tr>\n",
       "    <tr>\n",
       "      <th>4</th>\n",
       "      <td>tt0116748</td>\n",
       "      <td>0.0</td>\n",
       "      <td>/wr0hTHwkYIRC82MwNbhOvqrw27N.jpg</td>\n",
       "      <td>NaN</td>\n",
       "      <td>0.0</td>\n",
       "      <td>[{'id': 18, 'name': 'Drama'}, {'id': 10749, 'n...</td>\n",
       "      <td>NaN</td>\n",
       "      <td>579396.0</td>\n",
       "      <td>hi</td>\n",
       "      <td>Karobaar</td>\n",
       "      <td>...</td>\n",
       "      <td>0.0</td>\n",
       "      <td>180.0</td>\n",
       "      <td>[{'english_name': 'Hindi', 'iso_639_1': 'hi', ...</td>\n",
       "      <td>Released</td>\n",
       "      <td>The Business of Love</td>\n",
       "      <td>Karobaar</td>\n",
       "      <td>0.0</td>\n",
       "      <td>5.500</td>\n",
       "      <td>2.0</td>\n",
       "      <td>NaN</td>\n",
       "    </tr>\n",
       "    <tr>\n",
       "      <th>...</th>\n",
       "      <td>...</td>\n",
       "      <td>...</td>\n",
       "      <td>...</td>\n",
       "      <td>...</td>\n",
       "      <td>...</td>\n",
       "      <td>...</td>\n",
       "      <td>...</td>\n",
       "      <td>...</td>\n",
       "      <td>...</td>\n",
       "      <td>...</td>\n",
       "      <td>...</td>\n",
       "      <td>...</td>\n",
       "      <td>...</td>\n",
       "      <td>...</td>\n",
       "      <td>...</td>\n",
       "      <td>...</td>\n",
       "      <td>...</td>\n",
       "      <td>...</td>\n",
       "      <td>...</td>\n",
       "      <td>...</td>\n",
       "      <td>...</td>\n",
       "    </tr>\n",
       "    <tr>\n",
       "      <th>5718</th>\n",
       "      <td>tt9898844</td>\n",
       "      <td>0.0</td>\n",
       "      <td>/5CyeeUJ7OG55fknaeNA7UPLhUDA.jpg</td>\n",
       "      <td>NaN</td>\n",
       "      <td>0.0</td>\n",
       "      <td>[{'id': 27, 'name': 'Horror'}]</td>\n",
       "      <td>NaN</td>\n",
       "      <td>870671.0</td>\n",
       "      <td>en</td>\n",
       "      <td>The Hunting</td>\n",
       "      <td>...</td>\n",
       "      <td>0.0</td>\n",
       "      <td>91.0</td>\n",
       "      <td>[{'english_name': 'English', 'iso_639_1': 'en'...</td>\n",
       "      <td>Released</td>\n",
       "      <td>Hunger runs deep.</td>\n",
       "      <td>The Hunting</td>\n",
       "      <td>0.0</td>\n",
       "      <td>5.569</td>\n",
       "      <td>65.0</td>\n",
       "      <td>NaN</td>\n",
       "    </tr>\n",
       "    <tr>\n",
       "      <th>5719</th>\n",
       "      <td>tt9900940</td>\n",
       "      <td>0.0</td>\n",
       "      <td>/3jjWLg5bevWqReyVroYqxwVrH0k.jpg</td>\n",
       "      <td>NaN</td>\n",
       "      <td>0.0</td>\n",
       "      <td>[{'id': 80, 'name': 'Crime'}, {'id': 18, 'name...</td>\n",
       "      <td>NaN</td>\n",
       "      <td>861294.0</td>\n",
       "      <td>en</td>\n",
       "      <td>The Scrapper</td>\n",
       "      <td>...</td>\n",
       "      <td>0.0</td>\n",
       "      <td>87.0</td>\n",
       "      <td>[{'english_name': 'English', 'iso_639_1': 'en'...</td>\n",
       "      <td>Released</td>\n",
       "      <td>You can't escape your past.</td>\n",
       "      <td>The Scrapper</td>\n",
       "      <td>0.0</td>\n",
       "      <td>5.250</td>\n",
       "      <td>3.0</td>\n",
       "      <td>NaN</td>\n",
       "    </tr>\n",
       "    <tr>\n",
       "      <th>5720</th>\n",
       "      <td>tt9907782</td>\n",
       "      <td>0.0</td>\n",
       "      <td>/hPurpFeAkvkvWYRVSDYGDaDSgva.jpg</td>\n",
       "      <td>NaN</td>\n",
       "      <td>0.0</td>\n",
       "      <td>[{'id': 27, 'name': 'Horror'}, {'id': 18, 'nam...</td>\n",
       "      <td>NaN</td>\n",
       "      <td>630392.0</td>\n",
       "      <td>en</td>\n",
       "      <td>The Cursed</td>\n",
       "      <td>...</td>\n",
       "      <td>4588389.0</td>\n",
       "      <td>111.0</td>\n",
       "      <td>[{'english_name': 'English', 'iso_639_1': 'en'...</td>\n",
       "      <td>Released</td>\n",
       "      <td>Innocence will fall prey.</td>\n",
       "      <td>The Cursed</td>\n",
       "      <td>0.0</td>\n",
       "      <td>6.740</td>\n",
       "      <td>233.0</td>\n",
       "      <td>NaN</td>\n",
       "    </tr>\n",
       "    <tr>\n",
       "      <th>0</th>\n",
       "      <td>0</td>\n",
       "      <td>NaN</td>\n",
       "      <td>NaN</td>\n",
       "      <td>NaN</td>\n",
       "      <td>NaN</td>\n",
       "      <td>NaN</td>\n",
       "      <td>NaN</td>\n",
       "      <td>NaN</td>\n",
       "      <td>NaN</td>\n",
       "      <td>NaN</td>\n",
       "      <td>...</td>\n",
       "      <td>NaN</td>\n",
       "      <td>NaN</td>\n",
       "      <td>NaN</td>\n",
       "      <td>NaN</td>\n",
       "      <td>NaN</td>\n",
       "      <td>NaN</td>\n",
       "      <td>NaN</td>\n",
       "      <td>NaN</td>\n",
       "      <td>NaN</td>\n",
       "      <td>NaN</td>\n",
       "    </tr>\n",
       "    <tr>\n",
       "      <th>0</th>\n",
       "      <td>0</td>\n",
       "      <td>NaN</td>\n",
       "      <td>NaN</td>\n",
       "      <td>NaN</td>\n",
       "      <td>NaN</td>\n",
       "      <td>NaN</td>\n",
       "      <td>NaN</td>\n",
       "      <td>NaN</td>\n",
       "      <td>NaN</td>\n",
       "      <td>NaN</td>\n",
       "      <td>...</td>\n",
       "      <td>NaN</td>\n",
       "      <td>NaN</td>\n",
       "      <td>NaN</td>\n",
       "      <td>NaN</td>\n",
       "      <td>NaN</td>\n",
       "      <td>NaN</td>\n",
       "      <td>NaN</td>\n",
       "      <td>NaN</td>\n",
       "      <td>NaN</td>\n",
       "      <td>NaN</td>\n",
       "    </tr>\n",
       "  </tbody>\n",
       "</table>\n",
       "<p>98494 rows × 26 columns</p>\n",
       "</div>"
      ],
      "text/plain": [
       "        imdb_id  adult                     backdrop_path  \\\n",
       "0             0    NaN                               NaN   \n",
       "1     tt0113026    0.0  /vMFs7nw6P0bIV1jDsQpxAieAVnH.jpg   \n",
       "2     tt0113092    0.0                               NaN   \n",
       "3     tt0116391    0.0                               NaN   \n",
       "4     tt0116748    0.0  /wr0hTHwkYIRC82MwNbhOvqrw27N.jpg   \n",
       "...         ...    ...                               ...   \n",
       "5718  tt9898844    0.0  /5CyeeUJ7OG55fknaeNA7UPLhUDA.jpg   \n",
       "5719  tt9900940    0.0  /3jjWLg5bevWqReyVroYqxwVrH0k.jpg   \n",
       "5720  tt9907782    0.0  /hPurpFeAkvkvWYRVSDYGDaDSgva.jpg   \n",
       "0             0    NaN                               NaN   \n",
       "0             0    NaN                               NaN   \n",
       "\n",
       "     belongs_to_collection      budget  \\\n",
       "0                      NaN         NaN   \n",
       "1                      NaN  10000000.0   \n",
       "2                      NaN         0.0   \n",
       "3                      NaN         0.0   \n",
       "4                      NaN         0.0   \n",
       "...                    ...         ...   \n",
       "5718                   NaN         0.0   \n",
       "5719                   NaN         0.0   \n",
       "5720                   NaN         0.0   \n",
       "0                      NaN         NaN   \n",
       "0                      NaN         NaN   \n",
       "\n",
       "                                                 genres homepage        id  \\\n",
       "0                                                   NaN      NaN       NaN   \n",
       "1     [{'id': 35, 'name': 'Comedy'}, {'id': 10402, '...      NaN   62127.0   \n",
       "2              [{'id': 878, 'name': 'Science Fiction'}]      NaN  110977.0   \n",
       "3     [{'id': 18, 'name': 'Drama'}, {'id': 28, 'name...      NaN  442869.0   \n",
       "4     [{'id': 18, 'name': 'Drama'}, {'id': 10749, 'n...      NaN  579396.0   \n",
       "...                                                 ...      ...       ...   \n",
       "5718                     [{'id': 27, 'name': 'Horror'}]      NaN  870671.0   \n",
       "5719  [{'id': 80, 'name': 'Crime'}, {'id': 18, 'name...      NaN  861294.0   \n",
       "5720  [{'id': 27, 'name': 'Horror'}, {'id': 18, 'nam...      NaN  630392.0   \n",
       "0                                                   NaN      NaN       NaN   \n",
       "0                                                   NaN      NaN       NaN   \n",
       "\n",
       "     original_language   original_title  ...    revenue  runtime  \\\n",
       "0                  NaN              NaN  ...        NaN      NaN   \n",
       "1                   en  The Fantasticks  ...        0.0     86.0   \n",
       "2                   en    For the Cause  ...        0.0    100.0   \n",
       "3                   hi             Gang  ...        0.0    152.0   \n",
       "4                   hi         Karobaar  ...        0.0    180.0   \n",
       "...                ...              ...  ...        ...      ...   \n",
       "5718                en      The Hunting  ...        0.0     91.0   \n",
       "5719                en     The Scrapper  ...        0.0     87.0   \n",
       "5720                en       The Cursed  ...  4588389.0    111.0   \n",
       "0                  NaN              NaN  ...        NaN      NaN   \n",
       "0                  NaN              NaN  ...        NaN      NaN   \n",
       "\n",
       "                                       spoken_languages    status  \\\n",
       "0                                                   NaN       NaN   \n",
       "1     [{'english_name': 'English', 'iso_639_1': 'en'...  Released   \n",
       "2     [{'english_name': 'English', 'iso_639_1': 'en'...  Released   \n",
       "3     [{'english_name': 'Hindi', 'iso_639_1': 'hi', ...  Released   \n",
       "4     [{'english_name': 'Hindi', 'iso_639_1': 'hi', ...  Released   \n",
       "...                                                 ...       ...   \n",
       "5718  [{'english_name': 'English', 'iso_639_1': 'en'...  Released   \n",
       "5719  [{'english_name': 'English', 'iso_639_1': 'en'...  Released   \n",
       "5720  [{'english_name': 'English', 'iso_639_1': 'en'...  Released   \n",
       "0                                                   NaN       NaN   \n",
       "0                                                   NaN       NaN   \n",
       "\n",
       "                                            tagline            title  video  \\\n",
       "0                                               NaN              NaN    NaN   \n",
       "1     Try to remember the first time magic happened  The Fantasticks    0.0   \n",
       "2      The ultimate showdown on a forbidden planet.    For the Cause    0.0   \n",
       "3                                               NaN             Gang    0.0   \n",
       "4                              The Business of Love         Karobaar    0.0   \n",
       "...                                             ...              ...    ...   \n",
       "5718                              Hunger runs deep.      The Hunting    0.0   \n",
       "5719                    You can't escape your past.     The Scrapper    0.0   \n",
       "5720                      Innocence will fall prey.       The Cursed    0.0   \n",
       "0                                               NaN              NaN    NaN   \n",
       "0                                               NaN              NaN    NaN   \n",
       "\n",
       "      vote_average vote_count certification  \n",
       "0              NaN        NaN           NaN  \n",
       "1            5.500       22.0           NaN  \n",
       "2            5.100        8.0           NaN  \n",
       "3            0.000        0.0           NaN  \n",
       "4            5.500        2.0           NaN  \n",
       "...            ...        ...           ...  \n",
       "5718         5.569       65.0           NaN  \n",
       "5719         5.250        3.0           NaN  \n",
       "5720         6.740      233.0           NaN  \n",
       "0              NaN        NaN           NaN  \n",
       "0              NaN        NaN           NaN  \n",
       "\n",
       "[98494 rows x 26 columns]"
      ]
     },
     "execution_count": 5,
     "metadata": {},
     "output_type": "execute_result"
    }
   ],
   "source": [
    "df = pd.concat([pd.read_csv(f, lineterminator='\\n') for f in files] )\n",
    "df"
   ]
  },
  {
   "cell_type": "code",
   "execution_count": 6,
   "id": "cf8bd7ec-71e4-4690-9910-83b111d2d482",
   "metadata": {},
   "outputs": [
    {
     "name": "stdout",
     "output_type": "stream",
     "text": [
      "<class 'pandas.core.frame.DataFrame'>\n",
      "Int64Index: 98494 entries, 0 to 0\n",
      "Data columns (total 26 columns):\n",
      " #   Column                 Non-Null Count  Dtype  \n",
      "---  ------                 --------------  -----  \n",
      " 0   imdb_id                98494 non-null  object \n",
      " 1   adult                  98470 non-null  float64\n",
      " 2   backdrop_path          58098 non-null  object \n",
      " 3   belongs_to_collection  5951 non-null   object \n",
      " 4   budget                 98470 non-null  float64\n",
      " 5   genres                 98470 non-null  object \n",
      " 6   homepage               18976 non-null  object \n",
      " 7   id                     98470 non-null  float64\n",
      " 8   original_language      98470 non-null  object \n",
      " 9   original_title         98470 non-null  object \n",
      " 10  overview               92913 non-null  object \n",
      " 11  popularity             98470 non-null  float64\n",
      " 12  poster_path            89808 non-null  object \n",
      " 13  production_companies   98470 non-null  object \n",
      " 14  production_countries   98470 non-null  object \n",
      " 15  release_date           96595 non-null  object \n",
      " 16  revenue                98470 non-null  float64\n",
      " 17  runtime                98470 non-null  float64\n",
      " 18  spoken_languages       98470 non-null  object \n",
      " 19  status                 98470 non-null  object \n",
      " 20  tagline                29424 non-null  object \n",
      " 21  title                  98470 non-null  object \n",
      " 22  video                  98470 non-null  float64\n",
      " 23  vote_average           98470 non-null  float64\n",
      " 24  vote_count             98470 non-null  float64\n",
      " 25  certification          15080 non-null  object \n",
      "dtypes: float64(9), object(17)\n",
      "memory usage: 20.3+ MB\n"
     ]
    }
   ],
   "source": [
    "df.info()"
   ]
  },
  {
   "cell_type": "code",
   "execution_count": 7,
   "id": "eea0ab38-8d65-4e1f-8eb5-f42c87b973f4",
   "metadata": {},
   "outputs": [],
   "source": [
    "# filter based on year released\n",
    "\n",
    "df['release_date_format'] = pd.to_datetime(df['release_date'])"
   ]
  },
  {
   "cell_type": "code",
   "execution_count": 8,
   "id": "be35be7c-f2b7-4fb2-87c8-781a1e9ae246",
   "metadata": {},
   "outputs": [],
   "source": [
    "df['year'] = df['release_date_format'].dt.year"
   ]
  },
  {
   "cell_type": "code",
   "execution_count": 9,
   "id": "32f4ebc9-b41e-4088-85a5-5ddcb1c4569b",
   "metadata": {},
   "outputs": [],
   "source": [
    "#df['year'].value_counts()"
   ]
  },
  {
   "cell_type": "code",
   "execution_count": 10,
   "id": "2a2b429e-b6d2-4d26-a070-dbd5290655cb",
   "metadata": {},
   "outputs": [],
   "source": [
    "# Lets just take years from 2000-2023\n",
    "plot_year = df['year'] >=2000"
   ]
  },
  {
   "cell_type": "code",
   "execution_count": 11,
   "id": "c1a7d39c-1b84-4b4c-b4b2-55750267d4a5",
   "metadata": {},
   "outputs": [
    {
     "data": {
      "text/plain": [
       "True     96488\n",
       "False     2006\n",
       "Name: year, dtype: int64"
      ]
     },
     "execution_count": 11,
     "metadata": {},
     "output_type": "execute_result"
    }
   ],
   "source": [
    "plot_year.value_counts()"
   ]
  },
  {
   "cell_type": "code",
   "execution_count": 12,
   "id": "3eb05f5f-2f0a-4f98-9ed9-f2d6b7a8cb25",
   "metadata": {},
   "outputs": [
    {
     "data": {
      "image/png": "[encoded data removed]",
      "text/plain": [
       "<Figure size 1600x1000 with 1 Axes>"
      ]
     },
     "metadata": {},
     "output_type": "display_data"
    }
   ],
   "source": [
    "plot_year_df = df[plot_year]\n",
    "plt.figure(figsize=(16, 10))\n",
    "\n",
    "ax = sns.countplot(data=plot_year_df, x='year');\n",
    "\n",
    "# Rotate x-axis labels by 90 degrees\n",
    "ax.set_xticklabels(ax.get_xticklabels(), rotation=90)\n",
    "\n",
    "ax.set_title('Number of Movies each year')\n",
    "ax.bar_label(ax.containers[0]);\n",
    "\n",
    "# Display count values at the top of each bar\n",
    "# for p in ax.patches:\n",
    "#     ax.annotate(f'{p.get_height()}', (p.get_x() + p.get_width() / 2., p.get_height()),\n",
    "#                 ha='center', va='center', xytext=(0, 10), textcoords='offset points')\n",
    "\n",
    "# Show the plot\n",
    "plt.show()\n"
   ]
  },
  {
   "cell_type": "code",
   "execution_count": null,
   "id": "e1bda488-958e-4fb8-ac4b-6d4e7bbaf2cf",
   "metadata": {},
   "outputs": [],
   "source": []
  },
  {
   "cell_type": "markdown",
   "id": "5a3e4a07",
   "metadata": {},
   "source": [
    "## How many movies had at least some valid financial information (values > 0 for budget OR revenue)?"
   ]
  },
  {
   "cell_type": "code",
   "execution_count": 13,
   "id": "8aa12b51",
   "metadata": {},
   "outputs": [
    {
     "data": {
      "text/plain": [
       "False    80395\n",
       "True     18099\n",
       "dtype: int64"
      ]
     },
     "execution_count": 13,
     "metadata": {},
     "output_type": "execute_result"
    }
   ],
   "source": [
    "filter_financial = (df['budget'] > 0) | (df['revenue']>0)\n",
    "filter_financial.value_counts()"
   ]
  },
  {
   "cell_type": "code",
   "execution_count": 14,
   "id": "245a291d",
   "metadata": {},
   "outputs": [
    {
     "data": {
      "image/png": "[encoded data removed]",
      "text/plain": [
       "<Figure size 640x480 with 1 Axes>"
      ]
     },
     "metadata": {},
     "output_type": "display_data"
    }
   ],
   "source": [
    "ax = sns.countplot(x=filter_financial)\n",
    "ax.set_title('# of Movies with some Valid Financial Data')\n",
    "ax.bar_label(ax.containers[0]);\n",
    "\n",
    "# source : https://stackoverflow.com/questions/68320207/how-to-get-the-label-values-on-a-bar-chat-with-seaborn-on-a-categorical-data\n",
    "# # method to show % on the bar label\n",
    "# ax = sns.barplot(x='coast', y='coast', estimator=lambda x: len(x) / len(data) * 100, data=data)\n",
    "# ax.bar_label(ax.containers[0], fmt='%.f%%')\n",
    "# ax.set_ylabel('%')"
   ]
  },
  {
   "cell_type": "markdown",
   "id": "43ac035e",
   "metadata": {},
   "source": [
    "### Please exclude any movies with 0's for budget AND revenue from the remaining visualizations."
   ]
  },
  {
   "cell_type": "code",
   "execution_count": 15,
   "id": "1aaf40dd",
   "metadata": {},
   "outputs": [],
   "source": [
    "plot_df = df[filter_financial].copy()\n"
   ]
  },
  {
   "cell_type": "markdown",
   "id": "e65bde6a",
   "metadata": {},
   "source": [
    "## How many movies are there in each of the certification categories (G/PG/PG-13/R)?"
   ]
  },
  {
   "cell_type": "code",
   "execution_count": 16,
   "id": "98885db6",
   "metadata": {},
   "outputs": [],
   "source": [
    "## to order them (optional)\n",
    "cert_order = ['G','PG','PG-13','R','NR']#,'NC-17']"
   ]
  },
  {
   "cell_type": "code",
   "execution_count": 17,
   "id": "8b0f1b1c",
   "metadata": {},
   "outputs": [
    {
     "data": {
      "image/png": "[encoded data removed]",
      "text/plain": [
       "<Figure size 640x480 with 1 Axes>"
      ]
     },
     "metadata": {},
     "output_type": "display_data"
    }
   ],
   "source": [
    "ax = sns.countplot(data=plot_df, x='certification',order=cert_order);\n",
    "ax.set_title('Number of Movies in each certification')\n",
    "ax.bar_label(ax.containers[0]);"
   ]
  },
  {
   "cell_type": "markdown",
   "id": "4ed07330",
   "metadata": {},
   "source": [
    "## What is the average revenue per certification category?"
   ]
  },
  {
   "cell_type": "code",
   "execution_count": 18,
   "id": "7408888d-fd84-4185-97cf-2bfe9bce9cc2",
   "metadata": {},
   "outputs": [
    {
     "data": {
      "text/html": [
       "<div>\n",
       "<style scoped>\n",
       "    .dataframe tbody tr th:only-of-type {\n",
       "        vertical-align: middle;\n",
       "    }\n",
       "\n",
       "    .dataframe tbody tr th {\n",
       "        vertical-align: top;\n",
       "    }\n",
       "\n",
       "    .dataframe thead th {\n",
       "        text-align: right;\n",
       "    }\n",
       "</style>\n",
       "<table border=\"1\" class=\"dataframe\">\n",
       "  <thead>\n",
       "    <tr style=\"text-align: right;\">\n",
       "      <th></th>\n",
       "      <th>certification</th>\n",
       "      <th>mean_revenue</th>\n",
       "    </tr>\n",
       "  </thead>\n",
       "  <tbody>\n",
       "    <tr>\n",
       "      <th>0</th>\n",
       "      <td>G</td>\n",
       "      <td>82784466.0</td>\n",
       "    </tr>\n",
       "    <tr>\n",
       "      <th>1</th>\n",
       "      <td>NC-17</td>\n",
       "      <td>4263442.0</td>\n",
       "    </tr>\n",
       "    <tr>\n",
       "      <th>2</th>\n",
       "      <td>NR</td>\n",
       "      <td>5778120.0</td>\n",
       "    </tr>\n",
       "    <tr>\n",
       "      <th>3</th>\n",
       "      <td>PG</td>\n",
       "      <td>118684514.0</td>\n",
       "    </tr>\n",
       "    <tr>\n",
       "      <th>4</th>\n",
       "      <td>PG-13</td>\n",
       "      <td>109025167.0</td>\n",
       "    </tr>\n",
       "  </tbody>\n",
       "</table>\n",
       "</div>"
      ],
      "text/plain": [
       "  certification  mean_revenue\n",
       "0             G    82784466.0\n",
       "1         NC-17     4263442.0\n",
       "2            NR     5778120.0\n",
       "3            PG   118684514.0\n",
       "4         PG-13   109025167.0"
      ]
     },
     "execution_count": 18,
     "metadata": {},
     "output_type": "execute_result"
    }
   ],
   "source": [
    "# groupby cert and rev\n",
    "rev_avg = plot_df.groupby('certification')['revenue'].agg(mean_revenue = (\"mean\"))\n",
    "\n",
    "#set new aggregate mean onto rev_avg\n",
    "rev_avg = rev_avg.reset_index()\n",
    "rev_avg = rev_avg.round()\n",
    "rev_avg.head()"
   ]
  },
  {
   "cell_type": "code",
   "execution_count": 19,
   "id": "ef197420-5390-441c-92cd-5bb74fd59f0e",
   "metadata": {},
   "outputs": [
    {
     "data": {
      "text/plain": [
       "'$120M'"
      ]
     },
     "execution_count": 19,
     "metadata": {},
     "output_type": "execute_result"
    }
   ],
   "source": [
    "# def function for millions ($)\n",
    "def hundred_m(x,pos):\n",
    "    \"\"\"function for use with matplotlib FuncFormatter -  formats revenue in millions\"\"\"\n",
    "    return f\"${x/1000000:,.0f}M\"\n",
    "\n",
    "# function test\n",
    "hundred_m(120000000,0)"
   ]
  },
  {
   "cell_type": "code",
   "execution_count": 20,
   "id": "d1333ab9-e7cf-4dc5-9ac0-8c7490fbed9a",
   "metadata": {},
   "outputs": [],
   "source": [
    "# creating a formatter for improved viz\n",
    "price_fmt_100m = FuncFormatter(hundred_m)"
   ]
  },
  {
   "cell_type": "code",
   "execution_count": 26,
   "id": "fd3ac73d-9338-4c7f-a57b-24cb0cb3de7d",
   "metadata": {},
   "outputs": [
    {
     "data": {
      "text/plain": [
       "Text(0.5, 1.0, 'Revenue Average by Certification Category')"
      ]
     },
     "execution_count": 26,
     "metadata": {},
     "output_type": "execute_result"
    },
    {
     "data": {
      "image/png": "[encoded data removed]",
      "text/plain": [
       "<Figure size 1000x500 with 1 Axes>"
      ]
     },
     "metadata": {},
     "output_type": "display_data"
    }
   ],
   "source": [
    "# set the style\n",
    "#plt.style.use('seaborn-white')\n",
    "# plt.style.use('ggplot')\n",
    "\n",
    "# set the size\n",
    "fig, ax = plt.subplots(figsize=(10,5))\n",
    "ax.yaxis.set_major_formatter(price_fmt_100m)\n",
    "\n",
    "\n",
    "# plot bars\n",
    "sns.barplot(x='certification', \n",
    "                y='mean_revenue', \n",
    "                order=['G','PG','PG-13','R','NR'],\n",
    "                data = rev_avg) \n",
    "ax.bar_label(ax.containers[0]);\n",
    "# labels and title\n",
    "plt.ylabel(\"Mean Revenue\", size=12)\n",
    "plt.xlabel(\"Certification Category\", size=12)\n",
    "plt.title(\"Revenue Average by Certification Category\", size=14)"
   ]
  },
  {
   "cell_type": "code",
   "execution_count": 22,
   "id": "19f9c3f5-75ba-4b87-90de-49da608cff06",
   "metadata": {},
   "outputs": [],
   "source": [
    "# OR : sns.barplot(data=plot_df, x='certification',y='revenue', order=cert_order);"
   ]
  },
  {
   "cell_type": "markdown",
   "id": "3a52dcbc",
   "metadata": {},
   "source": [
    "## What is the average budget per certification category?"
   ]
  },
  {
   "cell_type": "code",
   "execution_count": 23,
   "id": "14bab8e2-c400-4855-a383-b8d30864ddb9",
   "metadata": {},
   "outputs": [
    {
     "data": {
      "text/html": [
       "<div>\n",
       "<style scoped>\n",
       "    .dataframe tbody tr th:only-of-type {\n",
       "        vertical-align: middle;\n",
       "    }\n",
       "\n",
       "    .dataframe tbody tr th {\n",
       "        vertical-align: top;\n",
       "    }\n",
       "\n",
       "    .dataframe thead th {\n",
       "        text-align: right;\n",
       "    }\n",
       "</style>\n",
       "<table border=\"1\" class=\"dataframe\">\n",
       "  <thead>\n",
       "    <tr style=\"text-align: right;\">\n",
       "      <th></th>\n",
       "      <th>certification</th>\n",
       "      <th>mean_budget</th>\n",
       "    </tr>\n",
       "  </thead>\n",
       "  <tbody>\n",
       "    <tr>\n",
       "      <th>0</th>\n",
       "      <td>G</td>\n",
       "      <td>28791599.0</td>\n",
       "    </tr>\n",
       "    <tr>\n",
       "      <th>1</th>\n",
       "      <td>NC-17</td>\n",
       "      <td>2173832.0</td>\n",
       "    </tr>\n",
       "    <tr>\n",
       "      <th>2</th>\n",
       "      <td>NR</td>\n",
       "      <td>2525815.0</td>\n",
       "    </tr>\n",
       "    <tr>\n",
       "      <th>3</th>\n",
       "      <td>PG</td>\n",
       "      <td>39217618.0</td>\n",
       "    </tr>\n",
       "    <tr>\n",
       "      <th>4</th>\n",
       "      <td>PG-13</td>\n",
       "      <td>38025525.0</td>\n",
       "    </tr>\n",
       "  </tbody>\n",
       "</table>\n",
       "</div>"
      ],
      "text/plain": [
       "  certification  mean_budget\n",
       "0             G   28791599.0\n",
       "1         NC-17    2173832.0\n",
       "2            NR    2525815.0\n",
       "3            PG   39217618.0\n",
       "4         PG-13   38025525.0"
      ]
     },
     "execution_count": 23,
     "metadata": {},
     "output_type": "execute_result"
    }
   ],
   "source": [
    "# grouping certs by budget mean\n",
    "budget_avg = plot_df.groupby('certification')['budget'].agg(mean_budget = (\"mean\"))\n",
    "budget_avg\n",
    "\n",
    "#set new aggregate mean onto rev_avg\n",
    "budget_avg = budget_avg.reset_index()\n",
    "budget_avg = budget_avg.round(0)\n",
    "budget_avg.head()"
   ]
  },
  {
   "cell_type": "code",
   "execution_count": 24,
   "id": "70f7146a",
   "metadata": {},
   "outputs": [
    {
     "data": {
      "text/plain": [
       "Text(0.5, 1.0, 'Budget Average by Certification Category')"
      ]
     },
     "execution_count": 24,
     "metadata": {},
     "output_type": "execute_result"
    },
    {
     "data": {
      "image/png": "[encoded data removed]",
      "text/plain": [
       "<Figure size 1000x500 with 1 Axes>"
      ]
     },
     "metadata": {},
     "output_type": "display_data"
    }
   ],
   "source": [
    "# set the size\n",
    "fig, ax = plt.subplots(figsize=(10,5))\n",
    "ax.yaxis.set_major_formatter(price_fmt_100m)\n",
    "\n",
    "# plot bars\n",
    "sns.barplot(data=plot_df, x='certification',y='budget', order=cert_order);\n",
    "# labels and title\n",
    "plt.ylabel(\"Mean Budget\", size=12)\n",
    "plt.xlabel(\"Certification Category\", size=12)\n",
    "plt.title(\"Budget Average by Certification Category\", size=14)\n"
   ]
  },
  {
   "cell_type": "code",
   "execution_count": null,
   "id": "9ad98c50-0ca1-42a5-bf12-d494ec907263",
   "metadata": {},
   "outputs": [],
   "source": []
  },
  {
   "cell_type": "code",
   "execution_count": null,
   "id": "d568cf83-049a-40f9-9334-995e025e091e",
   "metadata": {},
   "outputs": [],
   "source": []
  },
  {
   "cell_type": "code",
   "execution_count": null,
   "id": "f2908321-2472-4180-ab8e-44027e2ba320",
   "metadata": {},
   "outputs": [],
   "source": []
  }
 ],
 "metadata": {
  "kernelspec": {
   "display_name": "Python (dojo-env)",
   "language": "python",
   "name": "dojo-env"
  },
  "language_info": {
   "codemirror_mode": {
    "name": "ipython",
    "version": 3
   },
   "file_extension": ".py",
   "mimetype": "text/x-python",
   "name": "python",
   "nbconvert_exporter": "python",
   "pygments_lexer": "ipython3",
   "version": "3.10.10"
  },
  "toc": {
   "base_numbering": 1,
   "nav_menu": {},
   "number_sections": false,
   "sideBar": true,
   "skip_h1_title": false,
   "title_cell": "Table of Contents",
   "title_sidebar": "Contents",
   "toc_cell": false,
   "toc_position": {},
   "toc_section_display": true,
   "toc_window_display": false
  }
 },
 "nbformat": 4,
 "nbformat_minor": 5
}
