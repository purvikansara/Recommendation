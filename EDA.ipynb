{
 "cells": [
  {
   "cell_type": "markdown",
   "id": "a303fc30",
   "metadata": {},
   "source": [
    "# EDA"
   ]
  },
  {
   "cell_type": "markdown",
   "id": "5a503bb8",
   "metadata": {},
   "source": [
    "- Load in your csv.gz's of results for each year extracted.\n",
    "- Concatenate the data into 1 dataframe for the remainder of the analysis.\n",
    "\n",
    "\n",
    "- Once you have your data from the API, they would like you to perform some light EDA to show:\n",
    "    - How many movies had at least some valid financial information (values > 0 for budget OR revenue)?\n",
    "        - Please exclude any movies with 0's for budget AND revenue from the remaining visualizations.\n",
    "    - How many movies are there in each of the certification categories (G/PG/PG-13/R)?\n",
    "    - What is the average revenue per certification category?\n",
    "    - What is the average budget per certification category"
   ]
  },
  {
   "cell_type": "code",
   "execution_count": 17,
   "id": "30cf3995",
   "metadata": {},
   "outputs": [],
   "source": [
    "import pandas as pd\n",
    "import matplotlib.pyplot as plt\n",
    "import seaborn as sns\n",
    "import numpy as np\n",
    "import os\n",
    "from matplotlib.ticker import FuncFormatter\n",
    "plt.style.use('ggplot')"
   ]
  },
  {
   "cell_type": "code",
   "execution_count": 18,
   "id": "ac61844b",
   "metadata": {},
   "outputs": [
    {
     "data": {
      "text/plain": [
       "['title_basics_cleaned.csv.gz',\n",
       " 'title_ratings_cleaned.csv.gz',\n",
       " 'tmdb_api_results_2000.json',\n",
       " 'final_tmdb_data_2000.csv.gz',\n",
       " 'tmdb_api_results_2001.json',\n",
       " 'final_tmdb_data_2002.csv.gz',\n",
       " 'tmdb_api_results_2002.json',\n",
       " 'final_tmdb_data_2001.csv.gz',\n",
       " 'title_akas_cleaned.csv.gz']"
      ]
     },
     "execution_count": 18,
     "metadata": {},
     "output_type": "execute_result"
    }
   ],
   "source": [
    "FOLDER = \"Data/\"\n",
    "os.listdir(FOLDER)"
   ]
  },
  {
   "cell_type": "code",
   "execution_count": 19,
   "id": "837735c3",
   "metadata": {},
   "outputs": [
    {
     "data": {
      "text/plain": [
       "['Data/final_tmdb_data_2000.csv.gz',\n",
       " 'Data/final_tmdb_data_2001.csv.gz',\n",
       " 'Data/final_tmdb_data_2002.csv.gz']"
      ]
     },
     "execution_count": 19,
     "metadata": {},
     "output_type": "execute_result"
    }
   ],
   "source": [
    "## Should show students glob\n",
    "import glob\n",
    "q  = f\"{FOLDER}final*.csv.gz\"\n",
    "files = sorted(glob.glob(q))\n",
    "files"
   ]
  },
  {
   "cell_type": "markdown",
   "id": "1bf266d4",
   "metadata": {},
   "source": [
    "### Concatenating DataFrames"
   ]
  },
  {
   "cell_type": "markdown",
   "id": "2463bf92",
   "metadata": {},
   "source": []
  },
  {
   "cell_type": "code",
   "execution_count": 20,
   "id": "448e7352",
   "metadata": {},
   "outputs": [],
   "source": [
    "#### Low-Lift Version/Basic Version\n",
    "# df_2000 = pd.read_csv('Data/final_tmdb_data_2000.csv.gz')\n",
    "\n",
    "# df_2001 = pd.read_csv('Data/final_tmdb_data_2001.csv.gz')\n",
    "# df_2002 = pd.read_csv('Data/final_tmdb_data_2002.csv.gz')"
   ]
  },
  {
   "cell_type": "code",
   "execution_count": 21,
   "id": "9f731409",
   "metadata": {},
   "outputs": [
    {
     "data": {
      "text/html": [
       "<div>\n",
       "<style scoped>\n",
       "    .dataframe tbody tr th:only-of-type {\n",
       "        vertical-align: middle;\n",
       "    }\n",
       "\n",
       "    .dataframe tbody tr th {\n",
       "        vertical-align: top;\n",
       "    }\n",
       "\n",
       "    .dataframe thead th {\n",
       "        text-align: right;\n",
       "    }\n",
       "</style>\n",
       "<table border=\"1\" class=\"dataframe\">\n",
       "  <thead>\n",
       "    <tr style=\"text-align: right;\">\n",
       "      <th></th>\n",
       "      <th>imdb_id</th>\n",
       "      <th>adult</th>\n",
       "      <th>backdrop_path</th>\n",
       "      <th>belongs_to_collection</th>\n",
       "      <th>budget</th>\n",
       "      <th>genres</th>\n",
       "      <th>homepage</th>\n",
       "      <th>id</th>\n",
       "      <th>original_language</th>\n",
       "      <th>original_title</th>\n",
       "      <th>...</th>\n",
       "      <th>revenue</th>\n",
       "      <th>runtime</th>\n",
       "      <th>spoken_languages</th>\n",
       "      <th>status</th>\n",
       "      <th>tagline</th>\n",
       "      <th>title</th>\n",
       "      <th>video</th>\n",
       "      <th>vote_average</th>\n",
       "      <th>vote_count</th>\n",
       "      <th>certification</th>\n",
       "    </tr>\n",
       "  </thead>\n",
       "  <tbody>\n",
       "    <tr>\n",
       "      <th>0</th>\n",
       "      <td>0</td>\n",
       "      <td>NaN</td>\n",
       "      <td>NaN</td>\n",
       "      <td>NaN</td>\n",
       "      <td>NaN</td>\n",
       "      <td>NaN</td>\n",
       "      <td>NaN</td>\n",
       "      <td>NaN</td>\n",
       "      <td>NaN</td>\n",
       "      <td>NaN</td>\n",
       "      <td>...</td>\n",
       "      <td>NaN</td>\n",
       "      <td>NaN</td>\n",
       "      <td>NaN</td>\n",
       "      <td>NaN</td>\n",
       "      <td>NaN</td>\n",
       "      <td>NaN</td>\n",
       "      <td>NaN</td>\n",
       "      <td>NaN</td>\n",
       "      <td>NaN</td>\n",
       "      <td>NaN</td>\n",
       "    </tr>\n",
       "    <tr>\n",
       "      <th>1</th>\n",
       "      <td>tt0113026</td>\n",
       "      <td>0.0</td>\n",
       "      <td>/vMFs7nw6P0bIV1jDsQpxAieAVnH.jpg</td>\n",
       "      <td>NaN</td>\n",
       "      <td>10000000.0</td>\n",
       "      <td>[{'id': 35, 'name': 'Comedy'}, {'id': 10402, '...</td>\n",
       "      <td>NaN</td>\n",
       "      <td>62127.0</td>\n",
       "      <td>en</td>\n",
       "      <td>The Fantasticks</td>\n",
       "      <td>...</td>\n",
       "      <td>0.0</td>\n",
       "      <td>86.0</td>\n",
       "      <td>[{'english_name': 'English', 'iso_639_1': 'en'...</td>\n",
       "      <td>Released</td>\n",
       "      <td>Try to remember the first time magic happened</td>\n",
       "      <td>The Fantasticks</td>\n",
       "      <td>0.0</td>\n",
       "      <td>5.5</td>\n",
       "      <td>22.0</td>\n",
       "      <td>NaN</td>\n",
       "    </tr>\n",
       "    <tr>\n",
       "      <th>2</th>\n",
       "      <td>tt0113092</td>\n",
       "      <td>0.0</td>\n",
       "      <td>NaN</td>\n",
       "      <td>NaN</td>\n",
       "      <td>0.0</td>\n",
       "      <td>[{'id': 878, 'name': 'Science Fiction'}]</td>\n",
       "      <td>NaN</td>\n",
       "      <td>110977.0</td>\n",
       "      <td>en</td>\n",
       "      <td>For the Cause</td>\n",
       "      <td>...</td>\n",
       "      <td>0.0</td>\n",
       "      <td>100.0</td>\n",
       "      <td>[{'english_name': 'English', 'iso_639_1': 'en'...</td>\n",
       "      <td>Released</td>\n",
       "      <td>The ultimate showdown on a forbidden planet.</td>\n",
       "      <td>For the Cause</td>\n",
       "      <td>0.0</td>\n",
       "      <td>5.1</td>\n",
       "      <td>8.0</td>\n",
       "      <td>NaN</td>\n",
       "    </tr>\n",
       "    <tr>\n",
       "      <th>3</th>\n",
       "      <td>tt0116391</td>\n",
       "      <td>0.0</td>\n",
       "      <td>NaN</td>\n",
       "      <td>NaN</td>\n",
       "      <td>0.0</td>\n",
       "      <td>[{'id': 18, 'name': 'Drama'}, {'id': 28, 'name...</td>\n",
       "      <td>NaN</td>\n",
       "      <td>442869.0</td>\n",
       "      <td>hi</td>\n",
       "      <td>Gang</td>\n",
       "      <td>...</td>\n",
       "      <td>0.0</td>\n",
       "      <td>152.0</td>\n",
       "      <td>[{'english_name': 'Hindi', 'iso_639_1': 'hi', ...</td>\n",
       "      <td>Released</td>\n",
       "      <td>NaN</td>\n",
       "      <td>Gang</td>\n",
       "      <td>0.0</td>\n",
       "      <td>0.0</td>\n",
       "      <td>0.0</td>\n",
       "      <td>NaN</td>\n",
       "    </tr>\n",
       "    <tr>\n",
       "      <th>4</th>\n",
       "      <td>tt0116748</td>\n",
       "      <td>0.0</td>\n",
       "      <td>/wr0hTHwkYIRC82MwNbhOvqrw27N.jpg</td>\n",
       "      <td>NaN</td>\n",
       "      <td>0.0</td>\n",
       "      <td>[{'id': 18, 'name': 'Drama'}, {'id': 10749, 'n...</td>\n",
       "      <td>NaN</td>\n",
       "      <td>579396.0</td>\n",
       "      <td>hi</td>\n",
       "      <td>Karobaar</td>\n",
       "      <td>...</td>\n",
       "      <td>0.0</td>\n",
       "      <td>180.0</td>\n",
       "      <td>[{'english_name': 'Hindi', 'iso_639_1': 'hi', ...</td>\n",
       "      <td>Released</td>\n",
       "      <td>The Business of Love</td>\n",
       "      <td>Karobaar</td>\n",
       "      <td>0.0</td>\n",
       "      <td>5.5</td>\n",
       "      <td>2.0</td>\n",
       "      <td>NaN</td>\n",
       "    </tr>\n",
       "    <tr>\n",
       "      <th>...</th>\n",
       "      <td>...</td>\n",
       "      <td>...</td>\n",
       "      <td>...</td>\n",
       "      <td>...</td>\n",
       "      <td>...</td>\n",
       "      <td>...</td>\n",
       "      <td>...</td>\n",
       "      <td>...</td>\n",
       "      <td>...</td>\n",
       "      <td>...</td>\n",
       "      <td>...</td>\n",
       "      <td>...</td>\n",
       "      <td>...</td>\n",
       "      <td>...</td>\n",
       "      <td>...</td>\n",
       "      <td>...</td>\n",
       "      <td>...</td>\n",
       "      <td>...</td>\n",
       "      <td>...</td>\n",
       "      <td>...</td>\n",
       "      <td>...</td>\n",
       "    </tr>\n",
       "    <tr>\n",
       "      <th>2342</th>\n",
       "      <td>tt8857488</td>\n",
       "      <td>0.0</td>\n",
       "      <td>NaN</td>\n",
       "      <td>NaN</td>\n",
       "      <td>0.0</td>\n",
       "      <td>[{'id': 18, 'name': 'Drama'}, {'id': 27, 'name...</td>\n",
       "      <td>NaN</td>\n",
       "      <td>1080133.0</td>\n",
       "      <td>te</td>\n",
       "      <td>Trinetram</td>\n",
       "      <td>...</td>\n",
       "      <td>0.0</td>\n",
       "      <td>144.0</td>\n",
       "      <td>[]</td>\n",
       "      <td>Released</td>\n",
       "      <td>NaN</td>\n",
       "      <td>Trinetram</td>\n",
       "      <td>0.0</td>\n",
       "      <td>0.0</td>\n",
       "      <td>0.0</td>\n",
       "      <td>NaN</td>\n",
       "    </tr>\n",
       "    <tr>\n",
       "      <th>2343</th>\n",
       "      <td>tt8948278</td>\n",
       "      <td>0.0</td>\n",
       "      <td>NaN</td>\n",
       "      <td>NaN</td>\n",
       "      <td>0.0</td>\n",
       "      <td>[]</td>\n",
       "      <td>NaN</td>\n",
       "      <td>781370.0</td>\n",
       "      <td>en</td>\n",
       "      <td>Enge Enathu Kavithai</td>\n",
       "      <td>...</td>\n",
       "      <td>0.0</td>\n",
       "      <td>0.0</td>\n",
       "      <td>[]</td>\n",
       "      <td>Released</td>\n",
       "      <td>NaN</td>\n",
       "      <td>Enge Enathu Kavithai</td>\n",
       "      <td>0.0</td>\n",
       "      <td>0.0</td>\n",
       "      <td>0.0</td>\n",
       "      <td>NaN</td>\n",
       "    </tr>\n",
       "    <tr>\n",
       "      <th>2344</th>\n",
       "      <td>tt8954458</td>\n",
       "      <td>0.0</td>\n",
       "      <td>NaN</td>\n",
       "      <td>NaN</td>\n",
       "      <td>0.0</td>\n",
       "      <td>[{'id': 28, 'name': 'Action'}, {'id': 18, 'nam...</td>\n",
       "      <td>NaN</td>\n",
       "      <td>927649.0</td>\n",
       "      <td>ta</td>\n",
       "      <td>கேம்</td>\n",
       "      <td>...</td>\n",
       "      <td>0.0</td>\n",
       "      <td>116.0</td>\n",
       "      <td>[{'english_name': 'Tamil', 'iso_639_1': 'ta', ...</td>\n",
       "      <td>Released</td>\n",
       "      <td>NaN</td>\n",
       "      <td>Game</td>\n",
       "      <td>0.0</td>\n",
       "      <td>0.0</td>\n",
       "      <td>0.0</td>\n",
       "      <td>NaN</td>\n",
       "    </tr>\n",
       "    <tr>\n",
       "      <th>2345</th>\n",
       "      <td>tt9001478</td>\n",
       "      <td>0.0</td>\n",
       "      <td>NaN</td>\n",
       "      <td>NaN</td>\n",
       "      <td>0.0</td>\n",
       "      <td>[{'id': 18, 'name': 'Drama'}, {'id': 10749, 'n...</td>\n",
       "      <td>NaN</td>\n",
       "      <td>281032.0</td>\n",
       "      <td>ta</td>\n",
       "      <td>காமராசு</td>\n",
       "      <td>...</td>\n",
       "      <td>0.0</td>\n",
       "      <td>135.0</td>\n",
       "      <td>[{'english_name': 'Tamil', 'iso_639_1': 'ta', ...</td>\n",
       "      <td>Released</td>\n",
       "      <td>NaN</td>\n",
       "      <td>Kamarasu</td>\n",
       "      <td>0.0</td>\n",
       "      <td>0.0</td>\n",
       "      <td>0.0</td>\n",
       "      <td>NaN</td>\n",
       "    </tr>\n",
       "    <tr>\n",
       "      <th>2346</th>\n",
       "      <td>tt9129190</td>\n",
       "      <td>0.0</td>\n",
       "      <td>NaN</td>\n",
       "      <td>NaN</td>\n",
       "      <td>0.0</td>\n",
       "      <td>[{'id': 35, 'name': 'Comedy'}]</td>\n",
       "      <td>NaN</td>\n",
       "      <td>1000972.0</td>\n",
       "      <td>ru</td>\n",
       "      <td>Шоссе Энтузиастов</td>\n",
       "      <td>...</td>\n",
       "      <td>0.0</td>\n",
       "      <td>75.0</td>\n",
       "      <td>[{'english_name': 'Russian', 'iso_639_1': 'ru'...</td>\n",
       "      <td>Released</td>\n",
       "      <td>NaN</td>\n",
       "      <td>Enthusiast Highway</td>\n",
       "      <td>0.0</td>\n",
       "      <td>0.0</td>\n",
       "      <td>0.0</td>\n",
       "      <td>NaN</td>\n",
       "    </tr>\n",
       "  </tbody>\n",
       "</table>\n",
       "<p>6992 rows × 26 columns</p>\n",
       "</div>"
      ],
      "text/plain": [
       "        imdb_id  adult                     backdrop_path  \\\n",
       "0             0    NaN                               NaN   \n",
       "1     tt0113026    0.0  /vMFs7nw6P0bIV1jDsQpxAieAVnH.jpg   \n",
       "2     tt0113092    0.0                               NaN   \n",
       "3     tt0116391    0.0                               NaN   \n",
       "4     tt0116748    0.0  /wr0hTHwkYIRC82MwNbhOvqrw27N.jpg   \n",
       "...         ...    ...                               ...   \n",
       "2342  tt8857488    0.0                               NaN   \n",
       "2343  tt8948278    0.0                               NaN   \n",
       "2344  tt8954458    0.0                               NaN   \n",
       "2345  tt9001478    0.0                               NaN   \n",
       "2346  tt9129190    0.0                               NaN   \n",
       "\n",
       "     belongs_to_collection      budget  \\\n",
       "0                      NaN         NaN   \n",
       "1                      NaN  10000000.0   \n",
       "2                      NaN         0.0   \n",
       "3                      NaN         0.0   \n",
       "4                      NaN         0.0   \n",
       "...                    ...         ...   \n",
       "2342                   NaN         0.0   \n",
       "2343                   NaN         0.0   \n",
       "2344                   NaN         0.0   \n",
       "2345                   NaN         0.0   \n",
       "2346                   NaN         0.0   \n",
       "\n",
       "                                                 genres homepage         id  \\\n",
       "0                                                   NaN      NaN        NaN   \n",
       "1     [{'id': 35, 'name': 'Comedy'}, {'id': 10402, '...      NaN    62127.0   \n",
       "2              [{'id': 878, 'name': 'Science Fiction'}]      NaN   110977.0   \n",
       "3     [{'id': 18, 'name': 'Drama'}, {'id': 28, 'name...      NaN   442869.0   \n",
       "4     [{'id': 18, 'name': 'Drama'}, {'id': 10749, 'n...      NaN   579396.0   \n",
       "...                                                 ...      ...        ...   \n",
       "2342  [{'id': 18, 'name': 'Drama'}, {'id': 27, 'name...      NaN  1080133.0   \n",
       "2343                                                 []      NaN   781370.0   \n",
       "2344  [{'id': 28, 'name': 'Action'}, {'id': 18, 'nam...      NaN   927649.0   \n",
       "2345  [{'id': 18, 'name': 'Drama'}, {'id': 10749, 'n...      NaN   281032.0   \n",
       "2346                     [{'id': 35, 'name': 'Comedy'}]      NaN  1000972.0   \n",
       "\n",
       "     original_language        original_title  ... revenue  runtime  \\\n",
       "0                  NaN                   NaN  ...     NaN      NaN   \n",
       "1                   en       The Fantasticks  ...     0.0     86.0   \n",
       "2                   en         For the Cause  ...     0.0    100.0   \n",
       "3                   hi                  Gang  ...     0.0    152.0   \n",
       "4                   hi              Karobaar  ...     0.0    180.0   \n",
       "...                ...                   ...  ...     ...      ...   \n",
       "2342                te             Trinetram  ...     0.0    144.0   \n",
       "2343                en  Enge Enathu Kavithai  ...     0.0      0.0   \n",
       "2344                ta                  கேம்  ...     0.0    116.0   \n",
       "2345                ta               காமராசு  ...     0.0    135.0   \n",
       "2346                ru     Шоссе Энтузиастов  ...     0.0     75.0   \n",
       "\n",
       "                                       spoken_languages    status  \\\n",
       "0                                                   NaN       NaN   \n",
       "1     [{'english_name': 'English', 'iso_639_1': 'en'...  Released   \n",
       "2     [{'english_name': 'English', 'iso_639_1': 'en'...  Released   \n",
       "3     [{'english_name': 'Hindi', 'iso_639_1': 'hi', ...  Released   \n",
       "4     [{'english_name': 'Hindi', 'iso_639_1': 'hi', ...  Released   \n",
       "...                                                 ...       ...   \n",
       "2342                                                 []  Released   \n",
       "2343                                                 []  Released   \n",
       "2344  [{'english_name': 'Tamil', 'iso_639_1': 'ta', ...  Released   \n",
       "2345  [{'english_name': 'Tamil', 'iso_639_1': 'ta', ...  Released   \n",
       "2346  [{'english_name': 'Russian', 'iso_639_1': 'ru'...  Released   \n",
       "\n",
       "                                            tagline                 title  \\\n",
       "0                                               NaN                   NaN   \n",
       "1     Try to remember the first time magic happened       The Fantasticks   \n",
       "2      The ultimate showdown on a forbidden planet.         For the Cause   \n",
       "3                                               NaN                  Gang   \n",
       "4                              The Business of Love              Karobaar   \n",
       "...                                             ...                   ...   \n",
       "2342                                            NaN             Trinetram   \n",
       "2343                                            NaN  Enge Enathu Kavithai   \n",
       "2344                                            NaN                  Game   \n",
       "2345                                            NaN              Kamarasu   \n",
       "2346                                            NaN    Enthusiast Highway   \n",
       "\n",
       "      video  vote_average vote_count certification  \n",
       "0       NaN           NaN        NaN           NaN  \n",
       "1       0.0           5.5       22.0           NaN  \n",
       "2       0.0           5.1        8.0           NaN  \n",
       "3       0.0           0.0        0.0           NaN  \n",
       "4       0.0           5.5        2.0           NaN  \n",
       "...     ...           ...        ...           ...  \n",
       "2342    0.0           0.0        0.0           NaN  \n",
       "2343    0.0           0.0        0.0           NaN  \n",
       "2344    0.0           0.0        0.0           NaN  \n",
       "2345    0.0           0.0        0.0           NaN  \n",
       "2346    0.0           0.0        0.0           NaN  \n",
       "\n",
       "[6992 rows x 26 columns]"
      ]
     },
     "execution_count": 21,
     "metadata": {},
     "output_type": "execute_result"
    }
   ],
   "source": [
    "df = pd.concat([pd.read_csv(f, lineterminator='\\n') for f in files] )\n",
    "df"
   ]
  },
  {
   "cell_type": "markdown",
   "id": "5a3e4a07",
   "metadata": {},
   "source": [
    "## How many movies had at least some valid financial information (values > 0 for budget OR revenue)?"
   ]
  },
  {
   "cell_type": "code",
   "execution_count": 22,
   "id": "8aa12b51",
   "metadata": {},
   "outputs": [
    {
     "data": {
      "text/plain": [
       "False    5839\n",
       "True     1153\n",
       "dtype: int64"
      ]
     },
     "execution_count": 22,
     "metadata": {},
     "output_type": "execute_result"
    }
   ],
   "source": [
    "filter_financial = (df['budget'] > 0) | (df['revenue']>0)\n",
    "filter_financial.value_counts()"
   ]
  },
  {
   "cell_type": "code",
   "execution_count": 23,
   "id": "245a291d",
   "metadata": {},
   "outputs": [
    {
     "data": {
      "image/png": "[encoded data removed]",
      "text/plain": [
       "<Figure size 640x480 with 1 Axes>"
      ]
     },
     "metadata": {},
     "output_type": "display_data"
    }
   ],
   "source": [
    "ax = sns.countplot(x=filter_financial)\n",
    "ax.set_title('# of Movies with some Valid Financial Data')\n",
    "ax.bar_label(ax.containers[0]);\n",
    "\n",
    "# source : https://stackoverflow.com/questions/68320207/how-to-get-the-label-values-on-a-bar-chat-with-seaborn-on-a-categorical-data\n",
    "# # method to show % on the bar label\n",
    "# ax = sns.barplot(x='coast', y='coast', estimator=lambda x: len(x) / len(data) * 100, data=data)\n",
    "# ax.bar_label(ax.containers[0], fmt='%.f%%')\n",
    "# ax.set_ylabel('%')"
   ]
  },
  {
   "cell_type": "markdown",
   "id": "43ac035e",
   "metadata": {},
   "source": [
    "### Please exclude any movies with 0's for budget AND revenue from the remaining visualizations."
   ]
  },
  {
   "cell_type": "code",
   "execution_count": 24,
   "id": "1aaf40dd",
   "metadata": {},
   "outputs": [],
   "source": [
    "plot_df = df[filter_financial].copy()\n"
   ]
  },
  {
   "cell_type": "markdown",
   "id": "e65bde6a",
   "metadata": {},
   "source": [
    "## How many movies are there in each of the certification categories (G/PG/PG-13/R)?"
   ]
  },
  {
   "cell_type": "code",
   "execution_count": 25,
   "id": "98885db6",
   "metadata": {},
   "outputs": [],
   "source": [
    "## to order them (optional)\n",
    "cert_order = ['G','PG','PG-13','R','NR']#,'NC-17']"
   ]
  },
  {
   "cell_type": "code",
   "execution_count": 26,
   "id": "8b0f1b1c",
   "metadata": {},
   "outputs": [
    {
     "data": {
      "image/png": "[encoded data removed]",
      "text/plain": [
       "<Figure size 640x480 with 1 Axes>"
      ]
     },
     "metadata": {},
     "output_type": "display_data"
    }
   ],
   "source": [
    "ax = sns.countplot(data=plot_df, x='certification',order=cert_order);\n",
    "ax.set_title('Number of Movies in each certification')\n",
    "ax.bar_label(ax.containers[0]);"
   ]
  },
  {
   "cell_type": "markdown",
   "id": "4ed07330",
   "metadata": {},
   "source": [
    "## What is the average revenue per certification category?"
   ]
  },
  {
   "cell_type": "code",
   "execution_count": 27,
   "id": "7408888d-fd84-4185-97cf-2bfe9bce9cc2",
   "metadata": {},
   "outputs": [
    {
     "data": {
      "text/html": [
       "<div>\n",
       "<style scoped>\n",
       "    .dataframe tbody tr th:only-of-type {\n",
       "        vertical-align: middle;\n",
       "    }\n",
       "\n",
       "    .dataframe tbody tr th {\n",
       "        vertical-align: top;\n",
       "    }\n",
       "\n",
       "    .dataframe thead th {\n",
       "        text-align: right;\n",
       "    }\n",
       "</style>\n",
       "<table border=\"1\" class=\"dataframe\">\n",
       "  <thead>\n",
       "    <tr style=\"text-align: right;\">\n",
       "      <th></th>\n",
       "      <th>certification</th>\n",
       "      <th>mean_revenue</th>\n",
       "    </tr>\n",
       "  </thead>\n",
       "  <tbody>\n",
       "    <tr>\n",
       "      <th>0</th>\n",
       "      <td>G</td>\n",
       "      <td>110824984.0</td>\n",
       "    </tr>\n",
       "    <tr>\n",
       "      <th>1</th>\n",
       "      <td>NC-17</td>\n",
       "      <td>11678.0</td>\n",
       "    </tr>\n",
       "    <tr>\n",
       "      <th>2</th>\n",
       "      <td>NR</td>\n",
       "      <td>5437366.0</td>\n",
       "    </tr>\n",
       "    <tr>\n",
       "      <th>3</th>\n",
       "      <td>PG</td>\n",
       "      <td>136135823.0</td>\n",
       "    </tr>\n",
       "    <tr>\n",
       "      <th>4</th>\n",
       "      <td>PG-13</td>\n",
       "      <td>99267881.0</td>\n",
       "    </tr>\n",
       "  </tbody>\n",
       "</table>\n",
       "</div>"
      ],
      "text/plain": [
       "  certification  mean_revenue\n",
       "0             G   110824984.0\n",
       "1         NC-17       11678.0\n",
       "2            NR     5437366.0\n",
       "3            PG   136135823.0\n",
       "4         PG-13    99267881.0"
      ]
     },
     "execution_count": 27,
     "metadata": {},
     "output_type": "execute_result"
    }
   ],
   "source": [
    "# groupby cert and rev\n",
    "rev_avg = plot_df.groupby('certification')['revenue'].agg(mean_revenue = (\"mean\"))\n",
    "\n",
    "#set new aggregate mean onto rev_avg\n",
    "rev_avg = rev_avg.reset_index()\n",
    "rev_avg = rev_avg.round()\n",
    "rev_avg.head()"
   ]
  },
  {
   "cell_type": "code",
   "execution_count": 28,
   "id": "ef197420-5390-441c-92cd-5bb74fd59f0e",
   "metadata": {},
   "outputs": [
    {
     "data": {
      "text/plain": [
       "'$120M'"
      ]
     },
     "execution_count": 28,
     "metadata": {},
     "output_type": "execute_result"
    }
   ],
   "source": [
    "# def function for millions ($)\n",
    "def hundred_m(x,pos):\n",
    "    \"\"\"function for use with matplotlib FuncFormatter -  formats revenue in millions\"\"\"\n",
    "    return f\"${x/1000000:,.0f}M\"\n",
    "\n",
    "# function test\n",
    "hundred_m(120000000,0)"
   ]
  },
  {
   "cell_type": "code",
   "execution_count": 29,
   "id": "d1333ab9-e7cf-4dc5-9ac0-8c7490fbed9a",
   "metadata": {},
   "outputs": [],
   "source": [
    "# creating a formatter for improved viz\n",
    "price_fmt_100m = FuncFormatter(hundred_m)"
   ]
  },
  {
   "cell_type": "code",
   "execution_count": 30,
   "id": "fd3ac73d-9338-4c7f-a57b-24cb0cb3de7d",
   "metadata": {},
   "outputs": [
    {
     "data": {
      "text/plain": [
       "Text(0.5, 1.0, 'Revenue Average by Certification Category')"
      ]
     },
     "execution_count": 30,
     "metadata": {},
     "output_type": "execute_result"
    },
    {
     "data": {
      "image/png": "[encoded data removed]",
      "text/plain": [
       "<Figure size 1000x500 with 1 Axes>"
      ]
     },
     "metadata": {},
     "output_type": "display_data"
    }
   ],
   "source": [
    "# set the style\n",
    "#plt.style.use('seaborn-white')\n",
    "# plt.style.use('ggplot')\n",
    "\n",
    "# set the size\n",
    "fig, ax = plt.subplots(figsize=(10,5))\n",
    "ax.yaxis.set_major_formatter(price_fmt_100m)\n",
    "\n",
    "\n",
    "# plot bars\n",
    "sns.barplot(x='certification', \n",
    "                y='mean_revenue', \n",
    "                order=['G','PG','PG-13','R','NR'],\n",
    "                data = rev_avg) \n",
    "\n",
    "# labels and title\n",
    "plt.ylabel(\"Mean Revenue\", size=12)\n",
    "plt.xlabel(\"Certification Category\", size=12)\n",
    "plt.title(\"Revenue Average by Certification Category\", size=14)"
   ]
  },
  {
   "cell_type": "code",
   "execution_count": 31,
   "id": "19f9c3f5-75ba-4b87-90de-49da608cff06",
   "metadata": {},
   "outputs": [],
   "source": [
    "# OR : sns.barplot(data=plot_df, x='certification',y='revenue', order=cert_order);"
   ]
  },
  {
   "cell_type": "markdown",
   "id": "3a52dcbc",
   "metadata": {},
   "source": [
    "## What is the average budget per certification category?"
   ]
  },
  {
   "cell_type": "code",
   "execution_count": 34,
   "id": "14bab8e2-c400-4855-a383-b8d30864ddb9",
   "metadata": {},
   "outputs": [
    {
     "data": {
      "text/html": [
       "<div>\n",
       "<style scoped>\n",
       "    .dataframe tbody tr th:only-of-type {\n",
       "        vertical-align: middle;\n",
       "    }\n",
       "\n",
       "    .dataframe tbody tr th {\n",
       "        vertical-align: top;\n",
       "    }\n",
       "\n",
       "    .dataframe thead th {\n",
       "        text-align: right;\n",
       "    }\n",
       "</style>\n",
       "<table border=\"1\" class=\"dataframe\">\n",
       "  <thead>\n",
       "    <tr style=\"text-align: right;\">\n",
       "      <th></th>\n",
       "      <th>certification</th>\n",
       "      <th>mean_budget</th>\n",
       "    </tr>\n",
       "  </thead>\n",
       "  <tbody>\n",
       "    <tr>\n",
       "      <th>0</th>\n",
       "      <td>G</td>\n",
       "      <td>40334258.0</td>\n",
       "    </tr>\n",
       "    <tr>\n",
       "      <th>1</th>\n",
       "      <td>NC-17</td>\n",
       "      <td>0.0</td>\n",
       "    </tr>\n",
       "    <tr>\n",
       "      <th>2</th>\n",
       "      <td>NR</td>\n",
       "      <td>3682639.0</td>\n",
       "    </tr>\n",
       "    <tr>\n",
       "      <th>3</th>\n",
       "      <td>PG</td>\n",
       "      <td>44613362.0</td>\n",
       "    </tr>\n",
       "    <tr>\n",
       "      <th>4</th>\n",
       "      <td>PG-13</td>\n",
       "      <td>41490339.0</td>\n",
       "    </tr>\n",
       "  </tbody>\n",
       "</table>\n",
       "</div>"
      ],
      "text/plain": [
       "  certification  mean_budget\n",
       "0             G   40334258.0\n",
       "1         NC-17          0.0\n",
       "2            NR    3682639.0\n",
       "3            PG   44613362.0\n",
       "4         PG-13   41490339.0"
      ]
     },
     "execution_count": 34,
     "metadata": {},
     "output_type": "execute_result"
    }
   ],
   "source": [
    "# grouping certs by budget mean\n",
    "budget_avg = plot_df.groupby('certification')['budget'].agg(mean_budget = (\"mean\"))\n",
    "budget_avg\n",
    "\n",
    "#set new aggregate mean onto rev_avg\n",
    "budget_avg = budget_avg.reset_index()\n",
    "budget_avg = budget_avg.round(0)\n",
    "budget_avg.head()"
   ]
  },
  {
   "cell_type": "code",
   "execution_count": 39,
   "id": "70f7146a",
   "metadata": {},
   "outputs": [
    {
     "data": {
      "text/plain": [
       "Text(0.5, 1.0, 'Budget Average by Certification Category')"
      ]
     },
     "execution_count": 39,
     "metadata": {},
     "output_type": "execute_result"
    },
    {
     "data": {
      "image/png": "[encoded data removed]",
      "text/plain": [
       "<Figure size 1000x500 with 1 Axes>"
      ]
     },
     "metadata": {},
     "output_type": "display_data"
    }
   ],
   "source": [
    "# set the size\n",
    "fig, ax = plt.subplots(figsize=(10,5))\n",
    "ax.yaxis.set_major_formatter(price_fmt_100m)\n",
    "\n",
    "# plot bars\n",
    "sns.barplot(data=plot_df, x='certification',y='budget', order=cert_order);\n",
    "# labels and title\n",
    "plt.ylabel(\"Mean Budget\", size=12)\n",
    "plt.xlabel(\"Certification Category\", size=12)\n",
    "plt.title(\"Budget Average by Certification Category\", size=14)\n"
   ]
  },
  {
   "cell_type": "code",
   "execution_count": null,
   "id": "9ad98c50-0ca1-42a5-bf12-d494ec907263",
   "metadata": {},
   "outputs": [],
   "source": []
  }
 ],
 "metadata": {
  "kernelspec": {
   "display_name": "Python (dojo-env)",
   "language": "python",
   "name": "dojo-env"
  },
  "language_info": {
   "codemirror_mode": {
    "name": "ipython",
    "version": 3
   },
   "file_extension": ".py",
   "mimetype": "text/x-python",
   "name": "python",
   "nbconvert_exporter": "python",
   "pygments_lexer": "ipython3",
   "version": "3.10.10"
  },
  "toc": {
   "base_numbering": 1,
   "nav_menu": {},
   "number_sections": false,
   "sideBar": true,
   "skip_h1_title": false,
   "title_cell": "Table of Contents",
   "title_sidebar": "Contents",
   "toc_cell": false,
   "toc_position": {},
   "toc_section_display": true,
   "toc_window_display": false
  }
 },
 "nbformat": 4,
 "nbformat_minor": 5
}
