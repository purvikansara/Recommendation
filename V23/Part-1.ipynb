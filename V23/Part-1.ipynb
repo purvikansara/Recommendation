{
 "cells": [
  {
   "cell_type": "markdown",
   "id": "995a3679-804c-47b3-83d9-70c4780a379e",
   "metadata": {},
   "source": [
    "<table style=\"background-color: rgb(13,32,76); border-radius: 10px\">\n",
    "\t<thead>\n",
    "\t\t<tr>\n",
    "\t\t\t<th colspan=\"2\" style=\"border: hidden; vertical-align: top;\" width=\"15%\"><img src=\"https://assets.codingdojo.com/boomyeah2015/codingdojo/curriculum/content/chapter/1674755235__Icons_400px_Core Assignment.png\">\n",
    "\t\t\t</th>\n",
    "\t\t\t<th style=\"border: hidden;\">\n",
    "\t\t\t\t<h1 style=\"color: white;\">Project Part 1 (Core)</h1>\n",
    "\t\t\t</th>\n",
    "\t\t</tr>\n",
    "\t</thead>\n",
    "</table>\n",
    "\n",
    "<h1>Business Problem</h1>\n",
    "<p>For this project, you have been hired to produce a MySQL database on Movies from a subset of IMDB's publicly available dataset. Ultimately, you will use this database to analyze what makes a movie successful and will provide recommendations to the stakeholder on how to make a successful movie.</p><p><br></p><p><img src=\"https://assets.codingdojo.com/boomyeah2015/codingdojo/curriculum/content/chapter/1649183790__theatre-background.jpeg\" referrerpolicy=\"no-referrer\" alt=\"img\" style=\"cursor: pointer; max-width: 100%; height: 377px; width: 696px; display: block; margin: auto;\" width=\"696\" height=\"377\" title=\"img\"></p>\n",
    "<p class=\"text-center\"><a href=\"https://thesenatortheatre.com/\">Image Source</a></p>\n",
    "<p>Over the course of this project, you will:</p>\n",
    "<ul>\n",
    "<li>Part 1: Create your project repository, download IMDB’s movie data, and filter out the subset of movies requested by the stakeholder.</li>\n",
    "<li>Part 3: Design a  MySQL database for your data and insert the data.</li>\n",
    "<li>Part 3: Use an API to extract box office financial data and transform and load it into your database.</li>\n",
    "<li>Part 4: Apply hypothesis testing to explore what makes a movie \"successful.\"</li>\n",
    "</ul>\n",
    "<h2><br>Part 1</h2>\n",
    "<p>For Part 1 of the project, you will be creating your project repository, downloading the IMDB data for the requested tables, filtering out unnecessary data, and saving the filtered tables as csv files (\".csv.gz\") in your repository.</p>\n",
    "\n",
    "\n",
    "<h3>The Data</h3><div><font color=\"#3e4e5a\" face=\"Gotham-Rounded-Bold\"><span style=\"font-size: 16px;\"></span></font>\n",
    "<p>IMDB Provides a large dataset with varied information for Movies, TV Shows, Made for TV Movies, etc. for free (for Non-commercial use).  The Data Dictionary is located here: <a href=\"https://www.imdb.com/interfaces/\" target=\"_blank\" class=\"url\" style=\"background-color: rgb(255, 255, 255);\">https://www.imdb.com/interfaces/</a>. </p>\n",
    "<ul><li>We have provided partially-processed files for you in this <a href=\"https://drive.google.com/drive/folders/1I8FKN3S9acXMNzyXq3lo8n9PjplSPB97?usp=drive_link\" style=\"background-color: rgb(255, 255, 255);\">Google Drive folder</a>.</li></ul>\n",
    "<h2>Specifications</h2>\n",
    "<p>Your stakeholder only wants you to include information for movies based on the following specifications:</p>\n",
    "<ul>\n",
    "<li>Include only movies that were released in the United States.</li>\n",
    "<li>Include only movies that were released 2000 - 2022 (startYear &gt;=2000 and startYear&lt;=2022)</li>\n",
    "<li>Include only full-length movies (titleType = \"movie\").</li>\n",
    "<li>Exclude movies that are missing genre or runtime.</li>\n",
    "<li>Include only fictional genres (where Genres does not include \"Documentary\".)</li>\n",
    "</ul>\n",
    "<h2>Provided Files </h2>\n",
    "<ul>\n",
    "<li>From their previous research, they realized the data they want is in the following files:\n",
    "<ul>\n",
    "<li>title.basics.tsv.gz</li>\n",
    "<li>title.ratings.tsv.gz</li>\n",
    "</ul>\n",
    "</li>\n",
    "<li>However, to filter for movies released in the United States, you will also need \"title-akas-us-only.csv\"</li></ul>\n",
    "<p>Note: this is a pre-filtered version of the title.akas.tsv.gz file. The full file is large and can cause problems for computers with less RAM/memory. We have included information on the preprocessing steps that have already been performed in the included Google Doc \"IMDB Movie Dataset Info\" in the folder linked above.</p>\n",
    "\n",
    "</ul>\n",
    "<hr>\n",
    "<h1></h1>\n"
   ]
  },
  {
   "cell_type": "code",
   "execution_count": 1,
   "id": "00f45752-acf2-42df-9b01-8233a8bf9f83",
   "metadata": {},
   "outputs": [],
   "source": [
    "import pandas as pd\n",
    "import numpy as np"
   ]
  },
  {
   "cell_type": "markdown",
   "id": "5631f95c-e475-4d77-bb3d-578f2be84acc",
   "metadata": {},
   "source": [
    "## Processing Title Basics"
   ]
  },
  {
   "cell_type": "code",
   "execution_count": 3,
   "id": "f6c3ec76-a677-4aaf-b49e-170915d42de2",
   "metadata": {},
   "outputs": [
    {
     "ename": "FileNotFoundError",
     "evalue": "[Errno 2] No such file or directory: 'Data_v23/title.basics.tsv.gz'",
     "output_type": "error",
     "traceback": [
      "\u001b[0;31m---------------------------------------------------------------------------\u001b[0m",
      "\u001b[0;31mFileNotFoundError\u001b[0m                         Traceback (most recent call last)",
      "Cell \u001b[0;32mIn[3], line 2\u001b[0m\n\u001b[1;32m      1\u001b[0m \u001b[38;5;66;03m# Load title basics\u001b[39;00m\n\u001b[0;32m----> 2\u001b[0m basics \u001b[38;5;241m=\u001b[39m \u001b[43mpd\u001b[49m\u001b[38;5;241;43m.\u001b[39;49m\u001b[43mread_csv\u001b[49m\u001b[43m(\u001b[49m\u001b[38;5;124;43m\"\u001b[39;49m\u001b[38;5;124;43mData_v23/title.basics.tsv.gz\u001b[39;49m\u001b[38;5;124;43m\"\u001b[39;49m\u001b[43m,\u001b[49m\u001b[43m \u001b[49m\u001b[43msep\u001b[49m\u001b[38;5;241;43m=\u001b[39;49m\u001b[38;5;124;43m'\u001b[39;49m\u001b[38;5;130;43;01m\\t\u001b[39;49;00m\u001b[38;5;124;43m'\u001b[39;49m\u001b[43m,\u001b[49m\u001b[43m \u001b[49m\u001b[43mlow_memory\u001b[49m\u001b[38;5;241;43m=\u001b[39;49m\u001b[38;5;28;43;01mFalse\u001b[39;49;00m\u001b[43m)\u001b[49m\n\u001b[1;32m      3\u001b[0m basics\n",
      "File \u001b[0;32m/opt/homebrew/Caskroom/miniforge/base/envs/dojo-env/lib/python3.10/site-packages/pandas/util/_decorators.py:211\u001b[0m, in \u001b[0;36mdeprecate_kwarg.<locals>._deprecate_kwarg.<locals>.wrapper\u001b[0;34m(*args, **kwargs)\u001b[0m\n\u001b[1;32m    209\u001b[0m     \u001b[38;5;28;01melse\u001b[39;00m:\n\u001b[1;32m    210\u001b[0m         kwargs[new_arg_name] \u001b[38;5;241m=\u001b[39m new_arg_value\n\u001b[0;32m--> 211\u001b[0m \u001b[38;5;28;01mreturn\u001b[39;00m \u001b[43mfunc\u001b[49m\u001b[43m(\u001b[49m\u001b[38;5;241;43m*\u001b[39;49m\u001b[43margs\u001b[49m\u001b[43m,\u001b[49m\u001b[43m \u001b[49m\u001b[38;5;241;43m*\u001b[39;49m\u001b[38;5;241;43m*\u001b[39;49m\u001b[43mkwargs\u001b[49m\u001b[43m)\u001b[49m\n",
      "File \u001b[0;32m/opt/homebrew/Caskroom/miniforge/base/envs/dojo-env/lib/python3.10/site-packages/pandas/util/_decorators.py:331\u001b[0m, in \u001b[0;36mdeprecate_nonkeyword_arguments.<locals>.decorate.<locals>.wrapper\u001b[0;34m(*args, **kwargs)\u001b[0m\n\u001b[1;32m    325\u001b[0m \u001b[38;5;28;01mif\u001b[39;00m \u001b[38;5;28mlen\u001b[39m(args) \u001b[38;5;241m>\u001b[39m num_allow_args:\n\u001b[1;32m    326\u001b[0m     warnings\u001b[38;5;241m.\u001b[39mwarn(\n\u001b[1;32m    327\u001b[0m         msg\u001b[38;5;241m.\u001b[39mformat(arguments\u001b[38;5;241m=\u001b[39m_format_argument_list(allow_args)),\n\u001b[1;32m    328\u001b[0m         \u001b[38;5;167;01mFutureWarning\u001b[39;00m,\n\u001b[1;32m    329\u001b[0m         stacklevel\u001b[38;5;241m=\u001b[39mfind_stack_level(),\n\u001b[1;32m    330\u001b[0m     )\n\u001b[0;32m--> 331\u001b[0m \u001b[38;5;28;01mreturn\u001b[39;00m \u001b[43mfunc\u001b[49m\u001b[43m(\u001b[49m\u001b[38;5;241;43m*\u001b[39;49m\u001b[43margs\u001b[49m\u001b[43m,\u001b[49m\u001b[43m \u001b[49m\u001b[38;5;241;43m*\u001b[39;49m\u001b[38;5;241;43m*\u001b[39;49m\u001b[43mkwargs\u001b[49m\u001b[43m)\u001b[49m\n",
      "File \u001b[0;32m/opt/homebrew/Caskroom/miniforge/base/envs/dojo-env/lib/python3.10/site-packages/pandas/io/parsers/readers.py:950\u001b[0m, in \u001b[0;36mread_csv\u001b[0;34m(filepath_or_buffer, sep, delimiter, header, names, index_col, usecols, squeeze, prefix, mangle_dupe_cols, dtype, engine, converters, true_values, false_values, skipinitialspace, skiprows, skipfooter, nrows, na_values, keep_default_na, na_filter, verbose, skip_blank_lines, parse_dates, infer_datetime_format, keep_date_col, date_parser, dayfirst, cache_dates, iterator, chunksize, compression, thousands, decimal, lineterminator, quotechar, quoting, doublequote, escapechar, comment, encoding, encoding_errors, dialect, error_bad_lines, warn_bad_lines, on_bad_lines, delim_whitespace, low_memory, memory_map, float_precision, storage_options)\u001b[0m\n\u001b[1;32m    935\u001b[0m kwds_defaults \u001b[38;5;241m=\u001b[39m _refine_defaults_read(\n\u001b[1;32m    936\u001b[0m     dialect,\n\u001b[1;32m    937\u001b[0m     delimiter,\n\u001b[0;32m   (...)\u001b[0m\n\u001b[1;32m    946\u001b[0m     defaults\u001b[38;5;241m=\u001b[39m{\u001b[38;5;124m\"\u001b[39m\u001b[38;5;124mdelimiter\u001b[39m\u001b[38;5;124m\"\u001b[39m: \u001b[38;5;124m\"\u001b[39m\u001b[38;5;124m,\u001b[39m\u001b[38;5;124m\"\u001b[39m},\n\u001b[1;32m    947\u001b[0m )\n\u001b[1;32m    948\u001b[0m kwds\u001b[38;5;241m.\u001b[39mupdate(kwds_defaults)\n\u001b[0;32m--> 950\u001b[0m \u001b[38;5;28;01mreturn\u001b[39;00m \u001b[43m_read\u001b[49m\u001b[43m(\u001b[49m\u001b[43mfilepath_or_buffer\u001b[49m\u001b[43m,\u001b[49m\u001b[43m \u001b[49m\u001b[43mkwds\u001b[49m\u001b[43m)\u001b[49m\n",
      "File \u001b[0;32m/opt/homebrew/Caskroom/miniforge/base/envs/dojo-env/lib/python3.10/site-packages/pandas/io/parsers/readers.py:605\u001b[0m, in \u001b[0;36m_read\u001b[0;34m(filepath_or_buffer, kwds)\u001b[0m\n\u001b[1;32m    602\u001b[0m _validate_names(kwds\u001b[38;5;241m.\u001b[39mget(\u001b[38;5;124m\"\u001b[39m\u001b[38;5;124mnames\u001b[39m\u001b[38;5;124m\"\u001b[39m, \u001b[38;5;28;01mNone\u001b[39;00m))\n\u001b[1;32m    604\u001b[0m \u001b[38;5;66;03m# Create the parser.\u001b[39;00m\n\u001b[0;32m--> 605\u001b[0m parser \u001b[38;5;241m=\u001b[39m \u001b[43mTextFileReader\u001b[49m\u001b[43m(\u001b[49m\u001b[43mfilepath_or_buffer\u001b[49m\u001b[43m,\u001b[49m\u001b[43m \u001b[49m\u001b[38;5;241;43m*\u001b[39;49m\u001b[38;5;241;43m*\u001b[39;49m\u001b[43mkwds\u001b[49m\u001b[43m)\u001b[49m\n\u001b[1;32m    607\u001b[0m \u001b[38;5;28;01mif\u001b[39;00m chunksize \u001b[38;5;129;01mor\u001b[39;00m iterator:\n\u001b[1;32m    608\u001b[0m     \u001b[38;5;28;01mreturn\u001b[39;00m parser\n",
      "File \u001b[0;32m/opt/homebrew/Caskroom/miniforge/base/envs/dojo-env/lib/python3.10/site-packages/pandas/io/parsers/readers.py:1442\u001b[0m, in \u001b[0;36mTextFileReader.__init__\u001b[0;34m(self, f, engine, **kwds)\u001b[0m\n\u001b[1;32m   1439\u001b[0m     \u001b[38;5;28mself\u001b[39m\u001b[38;5;241m.\u001b[39moptions[\u001b[38;5;124m\"\u001b[39m\u001b[38;5;124mhas_index_names\u001b[39m\u001b[38;5;124m\"\u001b[39m] \u001b[38;5;241m=\u001b[39m kwds[\u001b[38;5;124m\"\u001b[39m\u001b[38;5;124mhas_index_names\u001b[39m\u001b[38;5;124m\"\u001b[39m]\n\u001b[1;32m   1441\u001b[0m \u001b[38;5;28mself\u001b[39m\u001b[38;5;241m.\u001b[39mhandles: IOHandles \u001b[38;5;241m|\u001b[39m \u001b[38;5;28;01mNone\u001b[39;00m \u001b[38;5;241m=\u001b[39m \u001b[38;5;28;01mNone\u001b[39;00m\n\u001b[0;32m-> 1442\u001b[0m \u001b[38;5;28mself\u001b[39m\u001b[38;5;241m.\u001b[39m_engine \u001b[38;5;241m=\u001b[39m \u001b[38;5;28;43mself\u001b[39;49m\u001b[38;5;241;43m.\u001b[39;49m\u001b[43m_make_engine\u001b[49m\u001b[43m(\u001b[49m\u001b[43mf\u001b[49m\u001b[43m,\u001b[49m\u001b[43m \u001b[49m\u001b[38;5;28;43mself\u001b[39;49m\u001b[38;5;241;43m.\u001b[39;49m\u001b[43mengine\u001b[49m\u001b[43m)\u001b[49m\n",
      "File \u001b[0;32m/opt/homebrew/Caskroom/miniforge/base/envs/dojo-env/lib/python3.10/site-packages/pandas/io/parsers/readers.py:1735\u001b[0m, in \u001b[0;36mTextFileReader._make_engine\u001b[0;34m(self, f, engine)\u001b[0m\n\u001b[1;32m   1733\u001b[0m     \u001b[38;5;28;01mif\u001b[39;00m \u001b[38;5;124m\"\u001b[39m\u001b[38;5;124mb\u001b[39m\u001b[38;5;124m\"\u001b[39m \u001b[38;5;129;01mnot\u001b[39;00m \u001b[38;5;129;01min\u001b[39;00m mode:\n\u001b[1;32m   1734\u001b[0m         mode \u001b[38;5;241m+\u001b[39m\u001b[38;5;241m=\u001b[39m \u001b[38;5;124m\"\u001b[39m\u001b[38;5;124mb\u001b[39m\u001b[38;5;124m\"\u001b[39m\n\u001b[0;32m-> 1735\u001b[0m \u001b[38;5;28mself\u001b[39m\u001b[38;5;241m.\u001b[39mhandles \u001b[38;5;241m=\u001b[39m \u001b[43mget_handle\u001b[49m\u001b[43m(\u001b[49m\n\u001b[1;32m   1736\u001b[0m \u001b[43m    \u001b[49m\u001b[43mf\u001b[49m\u001b[43m,\u001b[49m\n\u001b[1;32m   1737\u001b[0m \u001b[43m    \u001b[49m\u001b[43mmode\u001b[49m\u001b[43m,\u001b[49m\n\u001b[1;32m   1738\u001b[0m \u001b[43m    \u001b[49m\u001b[43mencoding\u001b[49m\u001b[38;5;241;43m=\u001b[39;49m\u001b[38;5;28;43mself\u001b[39;49m\u001b[38;5;241;43m.\u001b[39;49m\u001b[43moptions\u001b[49m\u001b[38;5;241;43m.\u001b[39;49m\u001b[43mget\u001b[49m\u001b[43m(\u001b[49m\u001b[38;5;124;43m\"\u001b[39;49m\u001b[38;5;124;43mencoding\u001b[39;49m\u001b[38;5;124;43m\"\u001b[39;49m\u001b[43m,\u001b[49m\u001b[43m \u001b[49m\u001b[38;5;28;43;01mNone\u001b[39;49;00m\u001b[43m)\u001b[49m\u001b[43m,\u001b[49m\n\u001b[1;32m   1739\u001b[0m \u001b[43m    \u001b[49m\u001b[43mcompression\u001b[49m\u001b[38;5;241;43m=\u001b[39;49m\u001b[38;5;28;43mself\u001b[39;49m\u001b[38;5;241;43m.\u001b[39;49m\u001b[43moptions\u001b[49m\u001b[38;5;241;43m.\u001b[39;49m\u001b[43mget\u001b[49m\u001b[43m(\u001b[49m\u001b[38;5;124;43m\"\u001b[39;49m\u001b[38;5;124;43mcompression\u001b[39;49m\u001b[38;5;124;43m\"\u001b[39;49m\u001b[43m,\u001b[49m\u001b[43m \u001b[49m\u001b[38;5;28;43;01mNone\u001b[39;49;00m\u001b[43m)\u001b[49m\u001b[43m,\u001b[49m\n\u001b[1;32m   1740\u001b[0m \u001b[43m    \u001b[49m\u001b[43mmemory_map\u001b[49m\u001b[38;5;241;43m=\u001b[39;49m\u001b[38;5;28;43mself\u001b[39;49m\u001b[38;5;241;43m.\u001b[39;49m\u001b[43moptions\u001b[49m\u001b[38;5;241;43m.\u001b[39;49m\u001b[43mget\u001b[49m\u001b[43m(\u001b[49m\u001b[38;5;124;43m\"\u001b[39;49m\u001b[38;5;124;43mmemory_map\u001b[39;49m\u001b[38;5;124;43m\"\u001b[39;49m\u001b[43m,\u001b[49m\u001b[43m \u001b[49m\u001b[38;5;28;43;01mFalse\u001b[39;49;00m\u001b[43m)\u001b[49m\u001b[43m,\u001b[49m\n\u001b[1;32m   1741\u001b[0m \u001b[43m    \u001b[49m\u001b[43mis_text\u001b[49m\u001b[38;5;241;43m=\u001b[39;49m\u001b[43mis_text\u001b[49m\u001b[43m,\u001b[49m\n\u001b[1;32m   1742\u001b[0m \u001b[43m    \u001b[49m\u001b[43merrors\u001b[49m\u001b[38;5;241;43m=\u001b[39;49m\u001b[38;5;28;43mself\u001b[39;49m\u001b[38;5;241;43m.\u001b[39;49m\u001b[43moptions\u001b[49m\u001b[38;5;241;43m.\u001b[39;49m\u001b[43mget\u001b[49m\u001b[43m(\u001b[49m\u001b[38;5;124;43m\"\u001b[39;49m\u001b[38;5;124;43mencoding_errors\u001b[39;49m\u001b[38;5;124;43m\"\u001b[39;49m\u001b[43m,\u001b[49m\u001b[43m \u001b[49m\u001b[38;5;124;43m\"\u001b[39;49m\u001b[38;5;124;43mstrict\u001b[39;49m\u001b[38;5;124;43m\"\u001b[39;49m\u001b[43m)\u001b[49m\u001b[43m,\u001b[49m\n\u001b[1;32m   1743\u001b[0m \u001b[43m    \u001b[49m\u001b[43mstorage_options\u001b[49m\u001b[38;5;241;43m=\u001b[39;49m\u001b[38;5;28;43mself\u001b[39;49m\u001b[38;5;241;43m.\u001b[39;49m\u001b[43moptions\u001b[49m\u001b[38;5;241;43m.\u001b[39;49m\u001b[43mget\u001b[49m\u001b[43m(\u001b[49m\u001b[38;5;124;43m\"\u001b[39;49m\u001b[38;5;124;43mstorage_options\u001b[39;49m\u001b[38;5;124;43m\"\u001b[39;49m\u001b[43m,\u001b[49m\u001b[43m \u001b[49m\u001b[38;5;28;43;01mNone\u001b[39;49;00m\u001b[43m)\u001b[49m\u001b[43m,\u001b[49m\n\u001b[1;32m   1744\u001b[0m \u001b[43m\u001b[49m\u001b[43m)\u001b[49m\n\u001b[1;32m   1745\u001b[0m \u001b[38;5;28;01massert\u001b[39;00m \u001b[38;5;28mself\u001b[39m\u001b[38;5;241m.\u001b[39mhandles \u001b[38;5;129;01mis\u001b[39;00m \u001b[38;5;129;01mnot\u001b[39;00m \u001b[38;5;28;01mNone\u001b[39;00m\n\u001b[1;32m   1746\u001b[0m f \u001b[38;5;241m=\u001b[39m \u001b[38;5;28mself\u001b[39m\u001b[38;5;241m.\u001b[39mhandles\u001b[38;5;241m.\u001b[39mhandle\n",
      "File \u001b[0;32m/opt/homebrew/Caskroom/miniforge/base/envs/dojo-env/lib/python3.10/site-packages/pandas/io/common.py:750\u001b[0m, in \u001b[0;36mget_handle\u001b[0;34m(path_or_buf, mode, encoding, compression, memory_map, is_text, errors, storage_options)\u001b[0m\n\u001b[1;32m    746\u001b[0m \u001b[38;5;28;01mif\u001b[39;00m compression \u001b[38;5;241m==\u001b[39m \u001b[38;5;124m\"\u001b[39m\u001b[38;5;124mgzip\u001b[39m\u001b[38;5;124m\"\u001b[39m:\n\u001b[1;32m    747\u001b[0m     \u001b[38;5;28;01mif\u001b[39;00m \u001b[38;5;28misinstance\u001b[39m(handle, \u001b[38;5;28mstr\u001b[39m):\n\u001b[1;32m    748\u001b[0m         \u001b[38;5;66;03m# error: Incompatible types in assignment (expression has type\u001b[39;00m\n\u001b[1;32m    749\u001b[0m         \u001b[38;5;66;03m# \"GzipFile\", variable has type \"Union[str, BaseBuffer]\")\u001b[39;00m\n\u001b[0;32m--> 750\u001b[0m         handle \u001b[38;5;241m=\u001b[39m \u001b[43mgzip\u001b[49m\u001b[38;5;241;43m.\u001b[39;49m\u001b[43mGzipFile\u001b[49m\u001b[43m(\u001b[49m\u001b[43m  \u001b[49m\u001b[38;5;66;43;03m# type: ignore[assignment]\u001b[39;49;00m\n\u001b[1;32m    751\u001b[0m \u001b[43m            \u001b[49m\u001b[43mfilename\u001b[49m\u001b[38;5;241;43m=\u001b[39;49m\u001b[43mhandle\u001b[49m\u001b[43m,\u001b[49m\n\u001b[1;32m    752\u001b[0m \u001b[43m            \u001b[49m\u001b[43mmode\u001b[49m\u001b[38;5;241;43m=\u001b[39;49m\u001b[43mioargs\u001b[49m\u001b[38;5;241;43m.\u001b[39;49m\u001b[43mmode\u001b[49m\u001b[43m,\u001b[49m\n\u001b[1;32m    753\u001b[0m \u001b[43m            \u001b[49m\u001b[38;5;241;43m*\u001b[39;49m\u001b[38;5;241;43m*\u001b[39;49m\u001b[43mcompression_args\u001b[49m\u001b[43m,\u001b[49m\n\u001b[1;32m    754\u001b[0m \u001b[43m        \u001b[49m\u001b[43m)\u001b[49m\n\u001b[1;32m    755\u001b[0m     \u001b[38;5;28;01melse\u001b[39;00m:\n\u001b[1;32m    756\u001b[0m         handle \u001b[38;5;241m=\u001b[39m gzip\u001b[38;5;241m.\u001b[39mGzipFile(\n\u001b[1;32m    757\u001b[0m             \u001b[38;5;66;03m# No overload variant of \"GzipFile\" matches argument types\u001b[39;00m\n\u001b[1;32m    758\u001b[0m             \u001b[38;5;66;03m# \"Union[str, BaseBuffer]\", \"str\", \"Dict[str, Any]\"\u001b[39;00m\n\u001b[0;32m   (...)\u001b[0m\n\u001b[1;32m    761\u001b[0m             \u001b[38;5;241m*\u001b[39m\u001b[38;5;241m*\u001b[39mcompression_args,\n\u001b[1;32m    762\u001b[0m         )\n",
      "File \u001b[0;32m/opt/homebrew/Caskroom/miniforge/base/envs/dojo-env/lib/python3.10/gzip.py:174\u001b[0m, in \u001b[0;36mGzipFile.__init__\u001b[0;34m(self, filename, mode, compresslevel, fileobj, mtime)\u001b[0m\n\u001b[1;32m    172\u001b[0m     mode \u001b[38;5;241m+\u001b[39m\u001b[38;5;241m=\u001b[39m \u001b[38;5;124m'\u001b[39m\u001b[38;5;124mb\u001b[39m\u001b[38;5;124m'\u001b[39m\n\u001b[1;32m    173\u001b[0m \u001b[38;5;28;01mif\u001b[39;00m fileobj \u001b[38;5;129;01mis\u001b[39;00m \u001b[38;5;28;01mNone\u001b[39;00m:\n\u001b[0;32m--> 174\u001b[0m     fileobj \u001b[38;5;241m=\u001b[39m \u001b[38;5;28mself\u001b[39m\u001b[38;5;241m.\u001b[39mmyfileobj \u001b[38;5;241m=\u001b[39m \u001b[43mbuiltins\u001b[49m\u001b[38;5;241;43m.\u001b[39;49m\u001b[43mopen\u001b[49m\u001b[43m(\u001b[49m\u001b[43mfilename\u001b[49m\u001b[43m,\u001b[49m\u001b[43m \u001b[49m\u001b[43mmode\u001b[49m\u001b[43m \u001b[49m\u001b[38;5;129;43;01mor\u001b[39;49;00m\u001b[43m \u001b[49m\u001b[38;5;124;43m'\u001b[39;49m\u001b[38;5;124;43mrb\u001b[39;49m\u001b[38;5;124;43m'\u001b[39;49m\u001b[43m)\u001b[49m\n\u001b[1;32m    175\u001b[0m \u001b[38;5;28;01mif\u001b[39;00m filename \u001b[38;5;129;01mis\u001b[39;00m \u001b[38;5;28;01mNone\u001b[39;00m:\n\u001b[1;32m    176\u001b[0m     filename \u001b[38;5;241m=\u001b[39m \u001b[38;5;28mgetattr\u001b[39m(fileobj, \u001b[38;5;124m'\u001b[39m\u001b[38;5;124mname\u001b[39m\u001b[38;5;124m'\u001b[39m, \u001b[38;5;124m'\u001b[39m\u001b[38;5;124m'\u001b[39m)\n",
      "\u001b[0;31mFileNotFoundError\u001b[0m: [Errno 2] No such file or directory: 'Data_v23/title.basics.tsv.gz'"
     ]
    }
   ],
   "source": [
    "# Load title basics\n",
    "basics = pd.read_csv(\"Data_v23/title.basics.tsv.gz\", sep='\\t', low_memory=False)\n",
    "basics"
   ]
  },
  {
   "cell_type": "code",
   "execution_count": null,
   "id": "92be9ddd-c58b-4505-aec1-d2e1377219d4",
   "metadata": {},
   "outputs": [],
   "source": [
    "basics.isna().sum()"
   ]
  },
  {
   "cell_type": "markdown",
   "id": "da8319cf-1807-4aa1-99c5-ba6bd9b4c2ad",
   "metadata": {},
   "source": [
    "### Include only movies that were released in the United States"
   ]
  },
  {
   "cell_type": "markdown",
   "id": "8d11a7f6-d5f7-4b8f-9095-ca95ca77d747",
   "metadata": {},
   "source": [
    "#### 1) Get unique title IDs from US akas"
   ]
  },
  {
   "cell_type": "code",
   "execution_count": null,
   "id": "d5b52d2b-dc2d-431c-81e6-143e32bb5b09",
   "metadata": {},
   "outputs": [],
   "source": [
    "# Load us AKAs\n",
    "us_akas = pd.read_csv(\"Data_v23/title-akas-us-only.csv\", low_memory=False)\n",
    "us_akas.head()"
   ]
  },
  {
   "cell_type": "code",
   "execution_count": null,
   "id": "29e11dc1-78d2-4beb-b889-9dd7caf2055c",
   "metadata": {},
   "outputs": [],
   "source": [
    "# Get list of unique movie IDs from US\n",
    "us_titleids = us_akas['titleId'].unique()\n",
    "len(us_titleids)"
   ]
  },
  {
   "cell_type": "code",
   "execution_count": null,
   "id": "05c3e703-6314-4997-b500-2687d2298600",
   "metadata": {},
   "outputs": [],
   "source": [
    "us_titleids"
   ]
  },
  {
   "cell_type": "markdown",
   "id": "6f328e3a-5766-4fb9-b6e2-e2033fd2e65e",
   "metadata": {},
   "source": [
    "#### 2) Remove rows from title basics that are not in the us title IDs\n"
   ]
  },
  {
   "cell_type": "code",
   "execution_count": null,
   "id": "8d0f8c1a-3682-490d-a288-7ec893aa22b4",
   "metadata": {},
   "outputs": [],
   "source": [
    "# Only keep movies released in US\n",
    "basics = basics[basics['tconst'].isin(us_titleids)]\n",
    "basics"
   ]
  },
  {
   "cell_type": "markdown",
   "id": "726232f4-d6d4-4cde-8cc3-d896bfea5fd5",
   "metadata": {},
   "source": [
    "### Exclude any movie with missing values for genre or runtime"
   ]
  },
  {
   "cell_type": "code",
   "execution_count": null,
   "id": "043f1f44-f81f-4d73-8290-f4cac3d8f7e9",
   "metadata": {},
   "outputs": [],
   "source": [
    "## Replace \"\\N\" with np.nan\n",
    "basics = basics.replace({'\\\\N':np.nan})\n",
    "basics.isna().sum()"
   ]
  },
  {
   "cell_type": "code",
   "execution_count": null,
   "id": "3d6aa2d0-7fed-458b-a280-f9f12ef4454a",
   "metadata": {},
   "outputs": [],
   "source": [
    "## Eliminate movies that are null for runtimeMinute, genres, and startYear\n",
    "basics = basics.dropna(subset=['runtimeMinutes','genres'])\n",
    "basics.isna().sum()"
   ]
  },
  {
   "cell_type": "code",
   "execution_count": null,
   "id": "35edf9be-83b1-48c2-adc6-0de58d4b4d3c",
   "metadata": {},
   "outputs": [],
   "source": [
    "len(basics)"
   ]
  },
  {
   "cell_type": "markdown",
   "id": "02b64e9d-34a2-43c4-b0da-8a0b259ff75f",
   "metadata": {},
   "source": [
    "### Include only full-length movies (titleType = \"movie\").\n"
   ]
  },
  {
   "cell_type": "code",
   "execution_count": null,
   "id": "b8b33159-c97d-4b2d-afaf-a29779300699",
   "metadata": {},
   "outputs": [],
   "source": [
    "basics['titleType'].value_counts()"
   ]
  },
  {
   "cell_type": "code",
   "execution_count": null,
   "id": "a72c52a5-c54a-4e4a-8bfe-4cd78a00c4fb",
   "metadata": {},
   "outputs": [],
   "source": [
    "filter_type = basics['titleType'] =='movie'\n",
    "basics = basics[filter_type]\n",
    "len(basics)"
   ]
  },
  {
   "cell_type": "code",
   "execution_count": null,
   "id": "8e5581ec-2766-4238-9451-f3a3754633f1",
   "metadata": {},
   "outputs": [],
   "source": [
    "basics.head()"
   ]
  },
  {
   "cell_type": "markdown",
   "id": "6fdd779e-a9dc-46a6-b995-d3e207c25295",
   "metadata": {},
   "source": [
    "### Include only fictional movies (not from documentary genre)"
   ]
  },
  {
   "cell_type": "code",
   "execution_count": null,
   "id": "b5119923-b9dd-4fb7-84de-c7854cdc5e0b",
   "metadata": {},
   "outputs": [],
   "source": [
    "# Get filter for movies with genre=\"Documentary\"\n",
    "filter_docs = basics['genres'].str.contains(\"Documentary\")\n",
    "filter_docs.sum()"
   ]
  },
  {
   "cell_type": "code",
   "execution_count": null,
   "id": "39aeb5c3-15ac-41a3-886a-c779d478b984",
   "metadata": {},
   "outputs": [],
   "source": [
    "# Remove documentaries\n",
    "basics = basics[~filter_docs]\n",
    "len(basics)"
   ]
  },
  {
   "cell_type": "markdown",
   "id": "03a4d2cd-6834-4cef-9390-6ea9cdcd2ef3",
   "metadata": {},
   "source": [
    "\n",
    "### Include only movies that were released 2000 - 2021 (include 2000 and 2021)"
   ]
  },
  {
   "cell_type": "markdown",
   "id": "65c1bc59-c392-4591-a860-e74701f63920",
   "metadata": {},
   "source": [
    "#### Convert Start Year to Float"
   ]
  },
  {
   "cell_type": "code",
   "execution_count": null,
   "id": "91fa789b-6d9f-491b-b601-d55b6ea384f1",
   "metadata": {},
   "outputs": [],
   "source": [
    "# Convert startYear to a float.\n",
    "basics['startYear'] = basics['startYear'].astype(float)"
   ]
  },
  {
   "cell_type": "code",
   "execution_count": null,
   "id": "3a447ad5-f968-4a3d-8266-0581b89b7373",
   "metadata": {},
   "outputs": [],
   "source": [
    "# Filter based on years\n",
    "filter_years = (basics['startYear'] < 2023) & (basics['startYear']>=2000)\n",
    "filter_years.sum()"
   ]
  },
  {
   "cell_type": "code",
   "execution_count": null,
   "id": "787d2f87-591c-4765-90d6-f36a82b8a0b3",
   "metadata": {},
   "outputs": [],
   "source": [
    "# remove unwanted years\n",
    "basics = basics[filter_years]\n",
    "len(basics)"
   ]
  },
  {
   "cell_type": "markdown",
   "id": "0961116b-30e0-40be-b639-2c56d6c867da",
   "metadata": {},
   "source": [
    "### Title Basics - Final Check & save to csv"
   ]
  },
  {
   "cell_type": "code",
   "execution_count": null,
   "id": "4f87c8d2-2bb0-4196-813b-54484ad6eb09",
   "metadata": {},
   "outputs": [],
   "source": [
    "# Final preview before saving\n",
    "basics.info()\n",
    "basics.head()"
   ]
  },
  {
   "cell_type": "code",
   "execution_count": null,
   "id": "61d7a7ff-39b1-407c-a1cb-7bf5e61e200d",
   "metadata": {},
   "outputs": [],
   "source": [
    "basics.to_csv('Data/title-basics.csv', index=False)"
   ]
  },
  {
   "cell_type": "markdown",
   "id": "7356a332-81fc-432c-9a13-0d7207a65a93",
   "metadata": {},
   "source": [
    "## Filter Ratings to Keep Only Movies in Final Title Basics"
   ]
  },
  {
   "cell_type": "code",
   "execution_count": null,
   "id": "7abb591d-321a-4710-936e-f728a5cf93e6",
   "metadata": {},
   "outputs": [],
   "source": [
    "ratings = pd.read_csv('Data/title.ratings.tsv.gz', sep='\\t')\n",
    "ratings.info()\n",
    "ratings"
   ]
  },
  {
   "cell_type": "code",
   "execution_count": null,
   "id": "b805e7f8-1dbb-410d-a9f2-0da00c343a99",
   "metadata": {},
   "outputs": [],
   "source": [
    "## Replace \"\\N\" with np.nan\n",
    "ratings = ratings.replace({'\\\\N':np.nan})\n",
    "ratings.isna().sum()"
   ]
  },
  {
   "cell_type": "code",
   "execution_count": null,
   "id": "f1fea968-7f34-4118-b696-030639c1f1d2",
   "metadata": {},
   "outputs": [],
   "source": [
    "ratings = ratings[ratings['tconst'].isin(basics['tconst'])]\n",
    "ratings.info()\n",
    "ratings.head()"
   ]
  },
  {
   "cell_type": "code",
   "execution_count": null,
   "id": "4a629ef9-a35b-4439-a677-0a5c4476389a",
   "metadata": {},
   "outputs": [],
   "source": [
    "ratings.to_csv(\"Data/title-ratings.csv\", index=False)"
   ]
  }
 ],
 "metadata": {
  "kernelspec": {
   "display_name": "Python 3 (ipykernel)",
   "language": "python",
   "name": "python3"
  },
  "language_info": {
   "codemirror_mode": {
    "name": "ipython",
    "version": 3
   },
   "file_extension": ".py",
   "mimetype": "text/x-python",
   "name": "python",
   "nbconvert_exporter": "python",
   "pygments_lexer": "ipython3",
   "version": "3.10.10"
  },
  "widgets": {
   "application/vnd.jupyter.widget-state+json": {
    "state": {},
    "version_major": 2,
    "version_minor": 0
   }
  }
 },
 "nbformat": 4,
 "nbformat_minor": 5
}
