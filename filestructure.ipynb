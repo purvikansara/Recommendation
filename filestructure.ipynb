{
 "cells": [
  {
   "cell_type": "markdown",
   "id": "9468032f-17c5-4b13-aa2d-47f68b09030f",
   "metadata": {},
   "source": [
    "If a project is well organized, with everything placed in one directory, it makes it easier to avoid wasting time searching for project files such as datasets, codes, output files such as machine learning models, and so on. A well-organized project helps you to keep and maintain a record of your ongoing and completed data science projects."
   ]
  },
  {
   "cell_type": "markdown",
   "id": "57655cd3-cc3f-43e5-a18d-40a18be5c57c",
   "metadata": {},
   "source": [
    "## Create file path json file"
   ]
  },
  {
   "cell_type": "markdown",
   "id": "384f7525-04f9-4bdb-aa1c-a7a159869676",
   "metadata": {},
   "source": [
    "The pprint module in Python stands for \"pretty-print\" and is part of the standard library. It provides a way to print data structures in a more readable and aesthetically pleasing format compared to the default print function"
   ]
  },
  {
   "cell_type": "code",
   "execution_count": 4,
   "id": "1b28cda2-2ae2-4604-97c6-fa6578755225",
   "metadata": {},
   "outputs": [
    {
     "name": "stdout",
     "output_type": "stream",
     "text": [
      "{'data': {'ml': {'test': 'data/testing-data.joblib',\n",
      "                 'train': 'data/training-data.joblib'},\n",
      "          'nlp': {'review_data': 'Data/nlp/movie_reviews.csv'},\n",
      "          'raw': {'eda': 'data/ames-housing-dojo-for-ml-eda.csv',\n",
      "                  'full': 'data/ames-housing-dojo-for-ml.csv'}},\n",
      " 'images': {'banner': 'images/app-banner.png'},\n",
      " 'models': {'linear_regression': 'models/linear_regression/linreg.joblib',\n",
      "            'random_forest': 'models/random_forest/rf_reg.joblib'}}\n"
     ]
    }
   ],
   "source": [
    "from pprint import pprint\n",
    "\n",
    "FPATHS = dict(\n",
    "    data={\n",
    "        \"raw\": {\n",
    "            \"full\": \"data/ames-housing-dojo-for-ml.csv\",  \n",
    "            \"eda\": \"data/ames-housing-dojo-for-ml-eda.csv\" \n",
    "        },\n",
    "        \"ml\": {\n",
    "            \"train\": \"data/training-data.joblib\",  \n",
    "            \"test\": \"data/testing-data.joblib\", \n",
    "        },\n",
    "        \"nlp\": {\n",
    "            \"review_data\": \"Data/nlp/movie_reviews.csv\"} # raw movie review data \n",
    "            \n",
    "    },\n",
    "    models={\n",
    "        \"linear_regression\": \"models/linear_regression/linreg.joblib\", \n",
    "        \"random_forest\": \"models/random_forest/rf_reg.joblib\", \n",
    "    },\n",
    "    images={\n",
    "        \"banner\": \"images/app-banner.png\", \n",
    "    },\n",
    ")\n",
    "pprint(FPATHS)\n",
    "\n"
   ]
  },
  {
   "cell_type": "code",
   "execution_count": 5,
   "id": "ab2a9322-b7f9-4c48-9377-6e7b61c6a3b9",
   "metadata": {},
   "outputs": [],
   "source": [
    "# save this file path in config folder to use it for deployment\n",
    "\n",
    "import os, json\n",
    "os.makedirs('config/', exist_ok=True)\n",
    "FPATHS_FILE = 'config/filepaths.json'\n",
    "with open(FPATHS_FILE, 'w') as f:\n",
    "    json.dump(FPATHS, f)\n",
    "\n",
    "\n"
   ]
  },
  {
   "cell_type": "code",
   "execution_count": 6,
   "id": "962db9a4-00f6-45b8-ada6-83bb0d78e5b0",
   "metadata": {},
   "outputs": [],
   "source": [
    "# using custom function create the dictionaries using this path\n",
    "\n",
    "# first need to import autorelaod function \n",
    "%load_ext autoreload\n",
    "%autoreload 2\n",
    "import custom_function as fn"
   ]
  },
  {
   "cell_type": "code",
   "execution_count": 8,
   "id": "20f44de3-93d7-4d92-9679-960bef34e6ff",
   "metadata": {},
   "outputs": [
    {
     "name": "stdout",
     "output_type": "stream",
     "text": [
      "Directory created: Data/nlp\n",
      "Directory created: models/linear_regression\n",
      "Directory created: models/random_forest\n"
     ]
    }
   ],
   "source": [
    "fn.create_directories_from_paths(FPATHS)"
   ]
  },
  {
   "cell_type": "code",
   "execution_count": 9,
   "id": "e841cdaf-edc5-401b-aed9-aada47e39a41",
   "metadata": {},
   "outputs": [],
   "source": [
    "# Lets checck fpath\n",
    "\n",
    "with open('config/filepaths.json', 'r') as f:\n",
    "    path = json.load(f)"
   ]
  },
  {
   "cell_type": "code",
   "execution_count": 10,
   "id": "33f4a050-8235-4026-bcdf-a8899cb9c71d",
   "metadata": {},
   "outputs": [
    {
     "data": {
      "text/plain": [
       "dict_keys(['data', 'models', 'images'])"
      ]
     },
     "execution_count": 10,
     "metadata": {},
     "output_type": "execute_result"
    }
   ],
   "source": [
    "path.keys()"
   ]
  },
  {
   "cell_type": "code",
   "execution_count": 12,
   "id": "71546d88-a2c3-422a-8535-710e2023c426",
   "metadata": {},
   "outputs": [
    {
     "data": {
      "text/plain": [
       "{'review_data': 'Data/nlp/movie_reviews.csv'}"
      ]
     },
     "execution_count": 12,
     "metadata": {},
     "output_type": "execute_result"
    }
   ],
   "source": [
    "path['data']['nlp']"
   ]
  },
  {
   "cell_type": "code",
   "execution_count": null,
   "id": "ac91b019-eb14-4ed8-973b-9ace8370689f",
   "metadata": {},
   "outputs": [],
   "source": []
  }
 ],
 "metadata": {
  "kernelspec": {
   "display_name": "Python 3 (ipykernel)",
   "language": "python",
   "name": "python3"
  },
  "language_info": {
   "codemirror_mode": {
    "name": "ipython",
    "version": 3
   },
   "file_extension": ".py",
   "mimetype": "text/x-python",
   "name": "python",
   "nbconvert_exporter": "python",
   "pygments_lexer": "ipython3",
   "version": "3.10.10"
  }
 },
 "nbformat": 4,
 "nbformat_minor": 5
}
