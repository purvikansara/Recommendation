{
 "cells": [
  {
   "cell_type": "markdown",
   "id": "5652d779-3a41-4a6a-88e2-9b47bd781182",
   "metadata": {},
   "source": [
    "# IMDB Movie Review Classification"
   ]
  },
  {
   "cell_type": "code",
   "execution_count": 1,
   "id": "9c2117c4-ec7d-409e-aa7b-e24d1db1ba32",
   "metadata": {},
   "outputs": [],
   "source": [
    "# Lets use the custom function  with autoreload option\n",
    "\n",
    "%load_ext autoreload\n",
    "%autoreload 2\n",
    "\n",
    "import custom_function as fn"
   ]
  },
  {
   "cell_type": "code",
   "execution_count": 2,
   "id": "1dd336cc-e9a7-4532-8170-8f9c6918e6af",
   "metadata": {},
   "outputs": [],
   "source": [
    "# Load Imports\n",
    "\n",
    "import matplotlib.pyplot as plt\n",
    "import missingno\n",
    "import matplotlib as mpl\n",
    "import seaborn as sns\n",
    "import numpy as np\n",
    "import pandas as pd\n",
    "\n",
    "pd.set_option(\"display.max_columns\",50)\n",
    "pd.set_option('display.max_colwidth', 250)\n",
    "\n",
    "# Load imports for NLP\n",
    "import nltk\n",
    "from nltk.probability import FreqDist\n",
    "from nltk.sentiment.vader import SentimentIntensityAnalyzer\n",
    "from wordcloud import WordCloud, STOPWORDS\n",
    "import joblib\n",
    "import tensorflow as tf\n",
    "from imblearn.under_sampling import RandomUnderSampler\n",
    "from sklearn.model_selection import train_test_split, GridSearchCV\n",
    "from sklearn.pipeline import Pipeline\n",
    "from sklearn.preprocessing import LabelEncoder\n",
    "from sklearn.feature_extraction.text import CountVectorizer, TfidfVectorizer\n",
    "from sklearn.linear_model import LogisticRegression\n",
    "from sklearn.ensemble import RandomForestClassifier\n",
    "from sklearn.naive_bayes import MultinomialNB\n",
    "from sklearn.metrics import classification_report\n",
    "from tensorflow.keras.layers import TextVectorization\n",
    "from tensorflow.keras.models import Sequential\n",
    "from tensorflow.keras import layers, optimizers, regularizers"
   ]
  },
  {
   "cell_type": "code",
   "execution_count": 3,
   "id": "cf483d46-c0e3-4032-a862-62ab38c8d766",
   "metadata": {},
   "outputs": [],
   "source": [
    "# Setting random seed for reproducibility\n",
    "tf.keras.utils.set_random_seed(42)\n",
    "tf.random.set_seed(42)\n",
    "np.random.seed(42)\n",
    "tf.config.experimental.enable_op_determinism()"
   ]
  },
  {
   "cell_type": "markdown",
   "id": "18a912f9-3ea1-4516-a38b-f6fff5304b52",
   "metadata": {},
   "source": [
    "## Load the Data"
   ]
  },
  {
   "cell_type": "markdown",
   "id": "07c98840-1011-4460-b799-9712212822d8",
   "metadata": {},
   "source": [
    "\n",
    "Load the joblib containing the data frame from sentiment analysis movie review of the project.\n",
    "Drop any reviews that do not have a rating.\n",
    "Use the original review column as your X and the classification target (High/Low Rating Reviews) as your y."
   ]
  },
  {
   "cell_type": "code",
   "execution_count": 4,
   "id": "e0bf8c75-9a62-428c-89a6-3952d4f69158",
   "metadata": {},
   "outputs": [
    {
     "name": "stdout",
     "output_type": "stream",
     "text": [
      "<class 'pandas.core.frame.DataFrame'>\n",
      "Int64Index: 6345 entries, 0 to 8649\n",
      "Data columns (total 11 columns):\n",
      " #   Column          Non-Null Count  Dtype  \n",
      "---  ------          --------------  -----  \n",
      " 0   review_id       6345 non-null   object \n",
      " 1   movie_id        6345 non-null   int64  \n",
      " 2   imdb_id         6345 non-null   object \n",
      " 3   original_title  6345 non-null   object \n",
      " 4   review          6345 non-null   object \n",
      " 5   rating          6345 non-null   float64\n",
      " 6   target          2034 non-null   object \n",
      " 7   tokens          6345 non-null   object \n",
      " 8   lemmas          6345 non-null   object \n",
      " 9   tokens-joined   6345 non-null   object \n",
      " 10  lemmas-joined   6345 non-null   object \n",
      "dtypes: float64(1), int64(1), object(9)\n",
      "memory usage: 594.8+ KB\n"
     ]
    }
   ],
   "source": [
    "# load data\n",
    "df = joblib.load('Data/nlp/processed-nlp-data.joblib')\n",
    "df.info()"
   ]
  },
  {
   "cell_type": "code",
   "execution_count": 5,
   "id": "d61879ed-768d-4b21-a991-5b7e225ac0fb",
   "metadata": {},
   "outputs": [
    {
     "name": "stdout",
     "output_type": "stream",
     "text": [
      "<class 'pandas.core.frame.DataFrame'>\n",
      "Int64Index: 2034 entries, 1 to 8647\n",
      "Data columns (total 11 columns):\n",
      " #   Column          Non-Null Count  Dtype  \n",
      "---  ------          --------------  -----  \n",
      " 0   review_id       2034 non-null   object \n",
      " 1   movie_id        2034 non-null   int64  \n",
      " 2   imdb_id         2034 non-null   object \n",
      " 3   original_title  2034 non-null   object \n",
      " 4   review          2034 non-null   object \n",
      " 5   rating          2034 non-null   float64\n",
      " 6   target          2034 non-null   object \n",
      " 7   tokens          2034 non-null   object \n",
      " 8   lemmas          2034 non-null   object \n",
      " 9   tokens-joined   2034 non-null   object \n",
      " 10  lemmas-joined   2034 non-null   object \n",
      "dtypes: float64(1), int64(1), object(9)\n",
      "memory usage: 190.7+ KB\n"
     ]
    }
   ],
   "source": [
    "# Drop the rows with any reviews missing\n",
    "\n",
    "df.dropna(subset =['target'],inplace = True)\n",
    "df.info()"
   ]
  },
  {
   "cell_type": "markdown",
   "id": "8c33df19-56ff-43dc-8f25-c7246e4ff137",
   "metadata": {},
   "source": [
    "**Use the original review column as your X and the classification target (High/Low Rating Reviews) as your y.**"
   ]
  },
  {
   "cell_type": "code",
   "execution_count": 6,
   "id": "455c5711-d0f4-41da-ba47-d9502c78c53c",
   "metadata": {},
   "outputs": [
    {
     "data": {
      "text/plain": [
       "high    1091\n",
       "low      943\n",
       "Name: target, dtype: int64"
      ]
     },
     "execution_count": 6,
     "metadata": {},
     "output_type": "execute_result"
    }
   ],
   "source": [
    "# here we have target as high/low rating reviews\n",
    "df['target'].value_counts()"
   ]
  },
  {
   "cell_type": "code",
   "execution_count": 7,
   "id": "b3ac8032-c35b-474d-8cb5-2c24fb162fbc",
   "metadata": {},
   "outputs": [],
   "source": [
    "# Define X and y\n",
    "\n",
    "X = df['review']\n",
    "y = df['target']"
   ]
  },
  {
   "cell_type": "code",
   "execution_count": 8,
   "id": "0e8b6ee2-aa75-4a4e-b08f-a3c4bb116bdc",
   "metadata": {},
   "outputs": [
    {
     "data": {
      "text/plain": [
       "array(['high', 'low'], dtype=object)"
      ]
     },
     "execution_count": 8,
     "metadata": {},
     "output_type": "execute_result"
    }
   ],
   "source": [
    "y.unique()"
   ]
  },
  {
   "cell_type": "markdown",
   "id": "ef324428-4343-477d-b2c0-2b7f406d3f7b",
   "metadata": {},
   "source": [
    "## Train Test Split for modeling\n"
   ]
  },
  {
   "cell_type": "code",
   "execution_count": 9,
   "id": "ea51bee7-c517-4a8d-825c-91ebaf88d553",
   "metadata": {},
   "outputs": [
    {
     "data": {
      "text/plain": [
       "5977    Creed II takes pieces of the previous Rocky stories and is able to completely transform them into a better, more emotional story that can easily resonate with audiences.\\r\\n\\r\\nIf I have one big complaint about this installment, it would be that ...\n",
       "3848                                                                                                                                                                                                          This is the most incredible movie I've ever seen :)\n",
       "5182    **UNfortunately-FORGETTABLE film!**\\r\\n\\r\\nDirectional debut for a producer. I think she did well. But the film had a major issue. The film was decent with nice performances and production quality. Though it came at a wrong era. Came in too late,...\n",
       "5106    Sensational! <em>'Coco'</em> is straight into my top five of Disney animations.\\r\\n\\r\\nThe whole 105 minutes are a joy to watch, thanks to its rich and highly meaningful story alongside the wonderful animation and sharp humour. Safe to say, I was...\n",
       "7431    Classic case of the trailer being the best part. I'll hand it to them though, I was completely fooled about what this movie was going to be. When they showed Gabriel behind the plastic sheet in the beginning ... I knew it was not what I signed on...\n",
       "Name: review, dtype: object"
      ]
     },
     "execution_count": 9,
     "metadata": {},
     "output_type": "execute_result"
    }
   ],
   "source": [
    "X_train, X_test, y_train, y_test = train_test_split(X,y,test_size=0.20,\n",
    "                                                    random_state=123)\n",
    "X_train.head()"
   ]
  },
  {
   "cell_type": "markdown",
   "id": "9673fc72-1c2f-4ae3-9345-8981df06bcab",
   "metadata": {},
   "source": [
    "## CountVectorizer"
   ]
  },
  {
   "cell_type": "code",
   "execution_count": 10,
   "id": "85a95994-2148-44eb-a8cc-060f65f6c9ad",
   "metadata": {},
   "outputs": [
    {
     "data": {
      "text/html": [
       "<style>#sk-container-id-1 {color: black;background-color: white;}#sk-container-id-1 pre{padding: 0;}#sk-container-id-1 div.sk-toggleable {background-color: white;}#sk-container-id-1 label.sk-toggleable__label {cursor: pointer;display: block;width: 100%;margin-bottom: 0;padding: 0.3em;box-sizing: border-box;text-align: center;}#sk-container-id-1 label.sk-toggleable__label-arrow:before {content: \"▸\";float: left;margin-right: 0.25em;color: #696969;}#sk-container-id-1 label.sk-toggleable__label-arrow:hover:before {color: black;}#sk-container-id-1 div.sk-estimator:hover label.sk-toggleable__label-arrow:before {color: black;}#sk-container-id-1 div.sk-toggleable__content {max-height: 0;max-width: 0;overflow: hidden;text-align: left;background-color: #f0f8ff;}#sk-container-id-1 div.sk-toggleable__content pre {margin: 0.2em;color: black;border-radius: 0.25em;background-color: #f0f8ff;}#sk-container-id-1 input.sk-toggleable__control:checked~div.sk-toggleable__content {max-height: 200px;max-width: 100%;overflow: auto;}#sk-container-id-1 input.sk-toggleable__control:checked~label.sk-toggleable__label-arrow:before {content: \"▾\";}#sk-container-id-1 div.sk-estimator input.sk-toggleable__control:checked~label.sk-toggleable__label {background-color: #d4ebff;}#sk-container-id-1 div.sk-label input.sk-toggleable__control:checked~label.sk-toggleable__label {background-color: #d4ebff;}#sk-container-id-1 input.sk-hidden--visually {border: 0;clip: rect(1px 1px 1px 1px);clip: rect(1px, 1px, 1px, 1px);height: 1px;margin: -1px;overflow: hidden;padding: 0;position: absolute;width: 1px;}#sk-container-id-1 div.sk-estimator {font-family: monospace;background-color: #f0f8ff;border: 1px dotted black;border-radius: 0.25em;box-sizing: border-box;margin-bottom: 0.5em;}#sk-container-id-1 div.sk-estimator:hover {background-color: #d4ebff;}#sk-container-id-1 div.sk-parallel-item::after {content: \"\";width: 100%;border-bottom: 1px solid gray;flex-grow: 1;}#sk-container-id-1 div.sk-label:hover label.sk-toggleable__label {background-color: #d4ebff;}#sk-container-id-1 div.sk-serial::before {content: \"\";position: absolute;border-left: 1px solid gray;box-sizing: border-box;top: 0;bottom: 0;left: 50%;z-index: 0;}#sk-container-id-1 div.sk-serial {display: flex;flex-direction: column;align-items: center;background-color: white;padding-right: 0.2em;padding-left: 0.2em;position: relative;}#sk-container-id-1 div.sk-item {position: relative;z-index: 1;}#sk-container-id-1 div.sk-parallel {display: flex;align-items: stretch;justify-content: center;background-color: white;position: relative;}#sk-container-id-1 div.sk-item::before, #sk-container-id-1 div.sk-parallel-item::before {content: \"\";position: absolute;border-left: 1px solid gray;box-sizing: border-box;top: 0;bottom: 0;left: 50%;z-index: -1;}#sk-container-id-1 div.sk-parallel-item {display: flex;flex-direction: column;z-index: 1;position: relative;background-color: white;}#sk-container-id-1 div.sk-parallel-item:first-child::after {align-self: flex-end;width: 50%;}#sk-container-id-1 div.sk-parallel-item:last-child::after {align-self: flex-start;width: 50%;}#sk-container-id-1 div.sk-parallel-item:only-child::after {width: 0;}#sk-container-id-1 div.sk-dashed-wrapped {border: 1px dashed gray;margin: 0 0.4em 0.5em 0.4em;box-sizing: border-box;padding-bottom: 0.4em;background-color: white;}#sk-container-id-1 div.sk-label label {font-family: monospace;font-weight: bold;display: inline-block;line-height: 1.2em;}#sk-container-id-1 div.sk-label-container {text-align: center;}#sk-container-id-1 div.sk-container {/* jupyter's `normalize.less` sets `[hidden] { display: none; }` but bootstrap.min.css set `[hidden] { display: none !important; }` so we also need the `!important` here to be able to override the default hidden behavior on the sphinx rendered scikit-learn.org. See: https://github.com/scikit-learn/scikit-learn/issues/21755 */display: inline-block !important;position: relative;}#sk-container-id-1 div.sk-text-repr-fallback {display: none;}</style><div id=\"sk-container-id-1\" class=\"sk-top-container\"><div class=\"sk-text-repr-fallback\"><pre>CountVectorizer(ngram_range=(1, 2))</pre><b>In a Jupyter environment, please rerun this cell to show the HTML representation or trust the notebook. <br />On GitHub, the HTML representation is unable to render, please try loading this page with nbviewer.org.</b></div><div class=\"sk-container\" hidden><div class=\"sk-item\"><div class=\"sk-estimator sk-toggleable\"><input class=\"sk-toggleable__control sk-hidden--visually\" id=\"sk-estimator-id-1\" type=\"checkbox\" checked><label for=\"sk-estimator-id-1\" class=\"sk-toggleable__label sk-toggleable__label-arrow\">CountVectorizer</label><div class=\"sk-toggleable__content\"><pre>CountVectorizer(ngram_range=(1, 2))</pre></div></div></div></div></div>"
      ],
      "text/plain": [
       "CountVectorizer(ngram_range=(1, 2))"
      ]
     },
     "execution_count": 10,
     "metadata": {},
     "output_type": "execute_result"
    }
   ],
   "source": [
    "count_vectorizer = CountVectorizer(stop_words= None, ngram_range= (1,2))\n",
    "\n",
    "count_vectorizer.fit(X_train)"
   ]
  },
  {
   "cell_type": "code",
   "execution_count": 11,
   "id": "df2a5506-1602-4568-ba5d-601f43010f00",
   "metadata": {},
   "outputs": [
    {
     "data": {
      "text/plain": [
       "198706"
      ]
     },
     "execution_count": 11,
     "metadata": {},
     "output_type": "execute_result"
    }
   ],
   "source": [
    "# get the vocabulary from vectorizer\n",
    "\n",
    "vocab_size = count_vectorizer.vocabulary_\n",
    "len(vocab_size)"
   ]
  },
  {
   "cell_type": "markdown",
   "id": "7783b275-92b8-4051-8fa2-4f853f1fb6de",
   "metadata": {},
   "source": [
    "## Modeling (ML)"
   ]
  },
  {
   "cell_type": "markdown",
   "id": "797b8fac-e707-4d7f-bf59-7c7b296957be",
   "metadata": {},
   "source": [
    "### Pipeline Multinomial and Logisticregression"
   ]
  },
  {
   "cell_type": "code",
   "execution_count": 12,
   "id": "1b1de163-b9ab-4fa8-8992-893430fff88e",
   "metadata": {},
   "outputs": [],
   "source": [
    "# Create a pipeline with countvectorizer and model\n",
    "\n",
    "bayes_pipe = Pipeline([('vectorizer', CountVectorizer()), ('clf', MultinomialNB())])\n",
    "lr_pipe = Pipeline([('vectorizer', CountVectorizer()), ('clf', LogisticRegression(max_iter =500))])\n"
   ]
  },
  {
   "cell_type": "markdown",
   "id": "94287e5d-662c-45d7-96bf-6073da941382",
   "metadata": {},
   "source": [
    "### Multinomial NB"
   ]
  },
  {
   "cell_type": "code",
   "execution_count": 13,
   "id": "dc3611c3-7cf6-40ae-b763-f4e8e0107008",
   "metadata": {},
   "outputs": [
    {
     "name": "stdout",
     "output_type": "stream",
     "text": [
      "----------------------------------------------------------------------\n",
      " Classification Metrics: Training Data\n",
      "----------------------------------------------------------------------\n",
      "              precision    recall  f1-score   support\n",
      "\n",
      "        high       0.98      0.97      0.98       865\n",
      "         low       0.97      0.98      0.98       762\n",
      "\n",
      "    accuracy                           0.98      1627\n",
      "   macro avg       0.98      0.98      0.98      1627\n",
      "weighted avg       0.98      0.98      0.98      1627\n",
      "\n"
     ]
    },
    {
     "data": {
      "image/png": "[encoded data removed]",
      "text/plain": [
       "<Figure size 600x400 with 2 Axes>"
      ]
     },
     "metadata": {},
     "output_type": "display_data"
    },
    {
     "name": "stdout",
     "output_type": "stream",
     "text": [
      "\n",
      "----------------------------------------------------------------------\n",
      " Classification Metrics: Test Data\n",
      "----------------------------------------------------------------------\n",
      "              precision    recall  f1-score   support\n",
      "\n",
      "        high       0.88      0.91      0.89       226\n",
      "         low       0.88      0.84      0.86       181\n",
      "\n",
      "    accuracy                           0.88       407\n",
      "   macro avg       0.88      0.87      0.88       407\n",
      "weighted avg       0.88      0.88      0.88       407\n",
      "\n"
     ]
    },
    {
     "data": {
      "image/png": "[encoded data removed]",
      "text/plain": [
       "<Figure size 600x400 with 2 Axes>"
      ]
     },
     "metadata": {},
     "output_type": "display_data"
    }
   ],
   "source": [
    "# Fit an evaluate a Naive Bayes Classifier model\n",
    "bayes_pipe.fit(X_train, y_train)\n",
    "fn.evaluate_classification(bayes_pipe, X_train, y_train, X_test, y_test)"
   ]
  },
  {
   "cell_type": "markdown",
   "id": "dafcf5b7-623d-4fc0-ac6f-f6eeb9cde35c",
   "metadata": {},
   "source": [
    "### Logistic Regression"
   ]
  },
  {
   "cell_type": "code",
   "execution_count": 14,
   "id": "bd205570-6575-4e35-b409-96752ef77d56",
   "metadata": {},
   "outputs": [
    {
     "name": "stdout",
     "output_type": "stream",
     "text": [
      "----------------------------------------------------------------------\n",
      " Classification Metrics: Training Data\n",
      "----------------------------------------------------------------------\n",
      "              precision    recall  f1-score   support\n",
      "\n",
      "        high       1.00      1.00      1.00       865\n",
      "         low       1.00      1.00      1.00       762\n",
      "\n",
      "    accuracy                           1.00      1627\n",
      "   macro avg       1.00      1.00      1.00      1627\n",
      "weighted avg       1.00      1.00      1.00      1627\n",
      "\n"
     ]
    },
    {
     "data": {
      "image/png": "[encoded data removed]",
      "text/plain": [
       "<Figure size 600x400 with 2 Axes>"
      ]
     },
     "metadata": {},
     "output_type": "display_data"
    },
    {
     "name": "stdout",
     "output_type": "stream",
     "text": [
      "\n",
      "----------------------------------------------------------------------\n",
      " Classification Metrics: Test Data\n",
      "----------------------------------------------------------------------\n",
      "              precision    recall  f1-score   support\n",
      "\n",
      "        high       0.85      0.85      0.85       226\n",
      "         low       0.82      0.82      0.82       181\n",
      "\n",
      "    accuracy                           0.84       407\n",
      "   macro avg       0.84      0.84      0.84       407\n",
      "weighted avg       0.84      0.84      0.84       407\n",
      "\n"
     ]
    },
    {
     "data": {
      "image/png": "[encoded data removed]",
      "text/plain": [
       "<Figure size 600x400 with 2 Axes>"
      ]
     },
     "metadata": {},
     "output_type": "display_data"
    }
   ],
   "source": [
    "## Fit an evaluate a Logistic Regression model\n",
    "lr_pipe.fit(X_train, y_train)\n",
    "fn.evaluate_classification(lr_pipe, X_train, y_train, X_test, y_test)"
   ]
  },
  {
   "cell_type": "markdown",
   "id": "97666dcd-a7ad-40ec-840d-b183f57826c0",
   "metadata": {},
   "source": [
    "With testing accuracy of 89% and training accuracy of 100% clearly model shows overfitting. Lets try Logistic  regression"
   ]
  },
  {
   "cell_type": "markdown",
   "id": "4e4db823-4f7a-45c8-9d28-4f774893dd0c",
   "metadata": {},
   "source": [
    "Logistic regression also overfit as Naive Bayes. Now, cosidering applying GridSearch to tune the model and reduce overfitting."
   ]
  },
  {
   "cell_type": "markdown",
   "id": "1190edd0-6d9c-43e8-be01-c70b5acb7082",
   "metadata": {},
   "source": [
    "### GridSearch Text Vectorization"
   ]
  },
  {
   "cell_type": "markdown",
   "id": "0a87c2f5-f51a-4c0f-a429-31c735b0807c",
   "metadata": {},
   "source": [
    "Construct a grid of parameters for the text vectorization step. "
   ]
  },
  {
   "cell_type": "markdown",
   "id": "4d1c5a5a-a979-46e2-a178-f8b16d84fa18",
   "metadata": {},
   "source": [
    "Consider trying with\n",
    "- CountVectorizer/TfidfVectorizer\n",
    "- stopwords\n",
    "- ngram_range\n",
    "- min_df/max_df"
   ]
  },
  {
   "cell_type": "code",
   "execution_count": 15,
   "id": "e5dfc0dc-6a12-4402-98b1-7079f9f98146",
   "metadata": {},
   "outputs": [
    {
     "data": {
      "text/plain": [
       "{'memory': None,\n",
       " 'steps': [('vectorizer', CountVectorizer()),\n",
       "  ('clf', LogisticRegression(max_iter=500))],\n",
       " 'verbose': False,\n",
       " 'vectorizer': CountVectorizer(),\n",
       " 'clf': LogisticRegression(max_iter=500),\n",
       " 'vectorizer__analyzer': 'word',\n",
       " 'vectorizer__binary': False,\n",
       " 'vectorizer__decode_error': 'strict',\n",
       " 'vectorizer__dtype': numpy.int64,\n",
       " 'vectorizer__encoding': 'utf-8',\n",
       " 'vectorizer__input': 'content',\n",
       " 'vectorizer__lowercase': True,\n",
       " 'vectorizer__max_df': 1.0,\n",
       " 'vectorizer__max_features': None,\n",
       " 'vectorizer__min_df': 1,\n",
       " 'vectorizer__ngram_range': (1, 1),\n",
       " 'vectorizer__preprocessor': None,\n",
       " 'vectorizer__stop_words': None,\n",
       " 'vectorizer__strip_accents': None,\n",
       " 'vectorizer__token_pattern': '(?u)\\\\b\\\\w\\\\w+\\\\b',\n",
       " 'vectorizer__tokenizer': None,\n",
       " 'vectorizer__vocabulary': None,\n",
       " 'clf__C': 1.0,\n",
       " 'clf__class_weight': None,\n",
       " 'clf__dual': False,\n",
       " 'clf__fit_intercept': True,\n",
       " 'clf__intercept_scaling': 1,\n",
       " 'clf__l1_ratio': None,\n",
       " 'clf__max_iter': 500,\n",
       " 'clf__multi_class': 'auto',\n",
       " 'clf__n_jobs': None,\n",
       " 'clf__penalty': 'l2',\n",
       " 'clf__random_state': None,\n",
       " 'clf__solver': 'lbfgs',\n",
       " 'clf__tol': 0.0001,\n",
       " 'clf__verbose': 0,\n",
       " 'clf__warm_start': False}"
      ]
     },
     "execution_count": 15,
     "metadata": {},
     "output_type": "execute_result"
    }
   ],
   "source": [
    "lr_pipe.get_params()"
   ]
  },
  {
   "cell_type": "code",
   "execution_count": 16,
   "id": "6199a4af-333b-49eb-9e4c-0eb57ecdaeaf",
   "metadata": {},
   "outputs": [
    {
     "data": {
      "text/plain": [
       "{'memory': None,\n",
       " 'steps': [('vectorizer', CountVectorizer()), ('clf', MultinomialNB())],\n",
       " 'verbose': False,\n",
       " 'vectorizer': CountVectorizer(),\n",
       " 'clf': MultinomialNB(),\n",
       " 'vectorizer__analyzer': 'word',\n",
       " 'vectorizer__binary': False,\n",
       " 'vectorizer__decode_error': 'strict',\n",
       " 'vectorizer__dtype': numpy.int64,\n",
       " 'vectorizer__encoding': 'utf-8',\n",
       " 'vectorizer__input': 'content',\n",
       " 'vectorizer__lowercase': True,\n",
       " 'vectorizer__max_df': 1.0,\n",
       " 'vectorizer__max_features': None,\n",
       " 'vectorizer__min_df': 1,\n",
       " 'vectorizer__ngram_range': (1, 1),\n",
       " 'vectorizer__preprocessor': None,\n",
       " 'vectorizer__stop_words': None,\n",
       " 'vectorizer__strip_accents': None,\n",
       " 'vectorizer__token_pattern': '(?u)\\\\b\\\\w\\\\w+\\\\b',\n",
       " 'vectorizer__tokenizer': None,\n",
       " 'vectorizer__vocabulary': None,\n",
       " 'clf__alpha': 1.0,\n",
       " 'clf__class_prior': None,\n",
       " 'clf__fit_prior': True,\n",
       " 'clf__force_alpha': 'warn'}"
      ]
     },
     "execution_count": 16,
     "metadata": {},
     "output_type": "execute_result"
    }
   ],
   "source": [
    "bayes_pipe.get_params()"
   ]
  },
  {
   "cell_type": "code",
   "execution_count": 17,
   "id": "f15c0bd3-9b93-41a4-a08f-c931271ba83b",
   "metadata": {},
   "outputs": [],
   "source": [
    "# Define the parameter grid for vectorizers\n",
    "# shared params\n",
    "param_grid = {\n",
    "    'vectorizer__max_df': [0.7,0.8,0.9],\n",
    "    'vectorizer__min_df': [2,3,4,5],\n",
    "    'vectorizer__stop_words': [None,'english'],\n",
    "    'vectorizer__ngram_range': [(1, 2),(1,3)],   \n",
    "}\n",
    "\n",
    "# params for countVectorizer\n",
    "param_grid_count = {\n",
    "    'vectorizer':[CountVectorizer()],\n",
    "    **param_grid\n",
    "}\n",
    "\n",
    "# params for TfidfVectorizer\n",
    "param_grid_tfidf = {\n",
    "    'vectorizer': [TfidfVectorizer()],\n",
    "    \"vectorizer__norm\": [\"l1\", \"l2\"],\n",
    "    \"vectorizer__use_idf\": [True, False],\n",
    "    **param_grid\n",
    "}\n",
    "\n",
    "#combining params\n",
    "vect_params_combined = [param_grid_count, param_grid_tfidf]\n",
    "\n",
    "# params for models need to set\n",
    "\n",
    "params_MNB = {\n",
    "    'clf' : [MultinomialNB()],\n",
    "    'clf__alpha' : [.5, 1],\n",
    "}\n",
    "\n",
    "params_lr = {\n",
    "    'clf': [LogisticRegression(random_state = 123, solver='lbfgs',max_iter=500)],\n",
    "    'clf__C' : [.1, 1, 10, 100],\n",
    "}\n",
    "\n",
    "model_params_combined = [params_MNB, params_lr]\n",
    "\n"
   ]
  },
  {
   "cell_type": "code",
   "execution_count": 18,
   "id": "555af80f-a277-4d59-921d-e477646baf9c",
   "metadata": {},
   "outputs": [
    {
     "data": {
      "text/plain": [
       "({'vectorizer': [CountVectorizer()],\n",
       "  'vectorizer__max_df': [0.7, 0.8, 0.9],\n",
       "  'vectorizer__min_df': [2, 3, 4, 5],\n",
       "  'vectorizer__stop_words': [None, 'english'],\n",
       "  'vectorizer__ngram_range': [(1, 2), (1, 3)]},\n",
       " {'clf': [LogisticRegression(max_iter=500, random_state=123)],\n",
       "  'clf__C': [0.1, 1, 10, 100]})"
      ]
     },
     "execution_count": 18,
     "metadata": {},
     "output_type": "execute_result"
    }
   ],
   "source": [
    "# using iterpools to create all combinations of vectorizers\n",
    "import itertools\n",
    "combined_params = list(itertools.product(vect_params_combined, model_params_combined))\n",
    "combined_params[1]"
   ]
  },
  {
   "cell_type": "code",
   "execution_count": 19,
   "id": "ad071d5b-e2d1-4621-9835-f28d59ba1415",
   "metadata": {},
   "outputs": [
    {
     "data": {
      "text/plain": [
       "{'vectorizer': [CountVectorizer()],\n",
       " 'vectorizer__max_df': [0.7, 0.8, 0.9],\n",
       " 'vectorizer__min_df': [2, 3, 4, 5],\n",
       " 'vectorizer__stop_words': [None, 'english'],\n",
       " 'vectorizer__ngram_range': [(1, 2), (1, 3)],\n",
       " 'clf': [MultinomialNB()],\n",
       " 'clf__alpha': [0.5, 1]}"
      ]
     },
     "execution_count": 19,
     "metadata": {},
     "output_type": "execute_result"
    }
   ],
   "source": [
    "#use loop to combine the parameter grids for each combination\n",
    "final_params = []\n",
    "for vector_params, model_params in combined_params:\n",
    "    combined = {**vector_params, **model_params}\n",
    "    final_params.append(combined)\n",
    "final_params[0]"
   ]
  },
  {
   "cell_type": "markdown",
   "id": "89ca3d07-1a1c-431c-b5fd-872502d40942",
   "metadata": {},
   "source": [
    "### GridSearchCV"
   ]
  },
  {
   "cell_type": "code",
   "execution_count": 20,
   "id": "257dbf89-e082-40d3-81d8-e0c60a5b6545",
   "metadata": {},
   "outputs": [
    {
     "name": "stdout",
     "output_type": "stream",
     "text": [
      "Fitting 3 folds for each of 1440 candidates, totalling 4320 fits\n",
      "CPU times: user 10.9 s, sys: 9.58 s, total: 20.4 s\n",
      "Wall time: 5min 17s\n"
     ]
    },
    {
     "data": {
      "text/html": [
       "<style>#sk-container-id-2 {color: black;background-color: white;}#sk-container-id-2 pre{padding: 0;}#sk-container-id-2 div.sk-toggleable {background-color: white;}#sk-container-id-2 label.sk-toggleable__label {cursor: pointer;display: block;width: 100%;margin-bottom: 0;padding: 0.3em;box-sizing: border-box;text-align: center;}#sk-container-id-2 label.sk-toggleable__label-arrow:before {content: \"▸\";float: left;margin-right: 0.25em;color: #696969;}#sk-container-id-2 label.sk-toggleable__label-arrow:hover:before {color: black;}#sk-container-id-2 div.sk-estimator:hover label.sk-toggleable__label-arrow:before {color: black;}#sk-container-id-2 div.sk-toggleable__content {max-height: 0;max-width: 0;overflow: hidden;text-align: left;background-color: #f0f8ff;}#sk-container-id-2 div.sk-toggleable__content pre {margin: 0.2em;color: black;border-radius: 0.25em;background-color: #f0f8ff;}#sk-container-id-2 input.sk-toggleable__control:checked~div.sk-toggleable__content {max-height: 200px;max-width: 100%;overflow: auto;}#sk-container-id-2 input.sk-toggleable__control:checked~label.sk-toggleable__label-arrow:before {content: \"▾\";}#sk-container-id-2 div.sk-estimator input.sk-toggleable__control:checked~label.sk-toggleable__label {background-color: #d4ebff;}#sk-container-id-2 div.sk-label input.sk-toggleable__control:checked~label.sk-toggleable__label {background-color: #d4ebff;}#sk-container-id-2 input.sk-hidden--visually {border: 0;clip: rect(1px 1px 1px 1px);clip: rect(1px, 1px, 1px, 1px);height: 1px;margin: -1px;overflow: hidden;padding: 0;position: absolute;width: 1px;}#sk-container-id-2 div.sk-estimator {font-family: monospace;background-color: #f0f8ff;border: 1px dotted black;border-radius: 0.25em;box-sizing: border-box;margin-bottom: 0.5em;}#sk-container-id-2 div.sk-estimator:hover {background-color: #d4ebff;}#sk-container-id-2 div.sk-parallel-item::after {content: \"\";width: 100%;border-bottom: 1px solid gray;flex-grow: 1;}#sk-container-id-2 div.sk-label:hover label.sk-toggleable__label {background-color: #d4ebff;}#sk-container-id-2 div.sk-serial::before {content: \"\";position: absolute;border-left: 1px solid gray;box-sizing: border-box;top: 0;bottom: 0;left: 50%;z-index: 0;}#sk-container-id-2 div.sk-serial {display: flex;flex-direction: column;align-items: center;background-color: white;padding-right: 0.2em;padding-left: 0.2em;position: relative;}#sk-container-id-2 div.sk-item {position: relative;z-index: 1;}#sk-container-id-2 div.sk-parallel {display: flex;align-items: stretch;justify-content: center;background-color: white;position: relative;}#sk-container-id-2 div.sk-item::before, #sk-container-id-2 div.sk-parallel-item::before {content: \"\";position: absolute;border-left: 1px solid gray;box-sizing: border-box;top: 0;bottom: 0;left: 50%;z-index: -1;}#sk-container-id-2 div.sk-parallel-item {display: flex;flex-direction: column;z-index: 1;position: relative;background-color: white;}#sk-container-id-2 div.sk-parallel-item:first-child::after {align-self: flex-end;width: 50%;}#sk-container-id-2 div.sk-parallel-item:last-child::after {align-self: flex-start;width: 50%;}#sk-container-id-2 div.sk-parallel-item:only-child::after {width: 0;}#sk-container-id-2 div.sk-dashed-wrapped {border: 1px dashed gray;margin: 0 0.4em 0.5em 0.4em;box-sizing: border-box;padding-bottom: 0.4em;background-color: white;}#sk-container-id-2 div.sk-label label {font-family: monospace;font-weight: bold;display: inline-block;line-height: 1.2em;}#sk-container-id-2 div.sk-label-container {text-align: center;}#sk-container-id-2 div.sk-container {/* jupyter's `normalize.less` sets `[hidden] { display: none; }` but bootstrap.min.css set `[hidden] { display: none !important; }` so we also need the `!important` here to be able to override the default hidden behavior on the sphinx rendered scikit-learn.org. See: https://github.com/scikit-learn/scikit-learn/issues/21755 */display: inline-block !important;position: relative;}#sk-container-id-2 div.sk-text-repr-fallback {display: none;}</style><div id=\"sk-container-id-2\" class=\"sk-top-container\"><div class=\"sk-text-repr-fallback\"><pre>GridSearchCV(cv=3,\n",
       "             estimator=Pipeline(steps=[(&#x27;vectorizer&#x27;, CountVectorizer()),\n",
       "                                       (&#x27;clf&#x27;, MultinomialNB())]),\n",
       "             n_jobs=-1,\n",
       "             param_grid=[{&#x27;clf&#x27;: [MultinomialNB(alpha=1)],\n",
       "                          &#x27;clf__alpha&#x27;: [0.5, 1],\n",
       "                          &#x27;vectorizer&#x27;: [CountVectorizer(max_df=0.7, min_df=3,\n",
       "                                                         ngram_range=(1, 3))],\n",
       "                          &#x27;vectorizer__max_df&#x27;: [0.7, 0.8, 0.9],\n",
       "                          &#x27;vectorizer__min_df&#x27;: [2, 3, 4, 5],\n",
       "                          &#x27;vectorizer__ngram_range&#x27;: [(1, 2), (1,...\n",
       "                         {&#x27;clf&#x27;: [LogisticRegression(max_iter=500,\n",
       "                                                     random_state=123)],\n",
       "                          &#x27;clf__C&#x27;: [0.1, 1, 10, 100],\n",
       "                          &#x27;vectorizer&#x27;: [TfidfVectorizer()],\n",
       "                          &#x27;vectorizer__max_df&#x27;: [0.7, 0.8, 0.9],\n",
       "                          &#x27;vectorizer__min_df&#x27;: [2, 3, 4, 5],\n",
       "                          &#x27;vectorizer__ngram_range&#x27;: [(1, 2), (1, 3)],\n",
       "                          &#x27;vectorizer__norm&#x27;: [&#x27;l1&#x27;, &#x27;l2&#x27;],\n",
       "                          &#x27;vectorizer__stop_words&#x27;: [None, &#x27;english&#x27;],\n",
       "                          &#x27;vectorizer__use_idf&#x27;: [True, False]}],\n",
       "             scoring=&#x27;accuracy&#x27;, verbose=1)</pre><b>In a Jupyter environment, please rerun this cell to show the HTML representation or trust the notebook. <br />On GitHub, the HTML representation is unable to render, please try loading this page with nbviewer.org.</b></div><div class=\"sk-container\" hidden><div class=\"sk-item sk-dashed-wrapped\"><div class=\"sk-label-container\"><div class=\"sk-label sk-toggleable\"><input class=\"sk-toggleable__control sk-hidden--visually\" id=\"sk-estimator-id-2\" type=\"checkbox\" ><label for=\"sk-estimator-id-2\" class=\"sk-toggleable__label sk-toggleable__label-arrow\">GridSearchCV</label><div class=\"sk-toggleable__content\"><pre>GridSearchCV(cv=3,\n",
       "             estimator=Pipeline(steps=[(&#x27;vectorizer&#x27;, CountVectorizer()),\n",
       "                                       (&#x27;clf&#x27;, MultinomialNB())]),\n",
       "             n_jobs=-1,\n",
       "             param_grid=[{&#x27;clf&#x27;: [MultinomialNB(alpha=1)],\n",
       "                          &#x27;clf__alpha&#x27;: [0.5, 1],\n",
       "                          &#x27;vectorizer&#x27;: [CountVectorizer(max_df=0.7, min_df=3,\n",
       "                                                         ngram_range=(1, 3))],\n",
       "                          &#x27;vectorizer__max_df&#x27;: [0.7, 0.8, 0.9],\n",
       "                          &#x27;vectorizer__min_df&#x27;: [2, 3, 4, 5],\n",
       "                          &#x27;vectorizer__ngram_range&#x27;: [(1, 2), (1,...\n",
       "                         {&#x27;clf&#x27;: [LogisticRegression(max_iter=500,\n",
       "                                                     random_state=123)],\n",
       "                          &#x27;clf__C&#x27;: [0.1, 1, 10, 100],\n",
       "                          &#x27;vectorizer&#x27;: [TfidfVectorizer()],\n",
       "                          &#x27;vectorizer__max_df&#x27;: [0.7, 0.8, 0.9],\n",
       "                          &#x27;vectorizer__min_df&#x27;: [2, 3, 4, 5],\n",
       "                          &#x27;vectorizer__ngram_range&#x27;: [(1, 2), (1, 3)],\n",
       "                          &#x27;vectorizer__norm&#x27;: [&#x27;l1&#x27;, &#x27;l2&#x27;],\n",
       "                          &#x27;vectorizer__stop_words&#x27;: [None, &#x27;english&#x27;],\n",
       "                          &#x27;vectorizer__use_idf&#x27;: [True, False]}],\n",
       "             scoring=&#x27;accuracy&#x27;, verbose=1)</pre></div></div></div><div class=\"sk-parallel\"><div class=\"sk-parallel-item\"><div class=\"sk-item\"><div class=\"sk-label-container\"><div class=\"sk-label sk-toggleable\"><input class=\"sk-toggleable__control sk-hidden--visually\" id=\"sk-estimator-id-3\" type=\"checkbox\" ><label for=\"sk-estimator-id-3\" class=\"sk-toggleable__label sk-toggleable__label-arrow\">estimator: Pipeline</label><div class=\"sk-toggleable__content\"><pre>Pipeline(steps=[(&#x27;vectorizer&#x27;, CountVectorizer()), (&#x27;clf&#x27;, MultinomialNB())])</pre></div></div></div><div class=\"sk-serial\"><div class=\"sk-item\"><div class=\"sk-serial\"><div class=\"sk-item\"><div class=\"sk-estimator sk-toggleable\"><input class=\"sk-toggleable__control sk-hidden--visually\" id=\"sk-estimator-id-4\" type=\"checkbox\" ><label for=\"sk-estimator-id-4\" class=\"sk-toggleable__label sk-toggleable__label-arrow\">CountVectorizer</label><div class=\"sk-toggleable__content\"><pre>CountVectorizer()</pre></div></div></div><div class=\"sk-item\"><div class=\"sk-estimator sk-toggleable\"><input class=\"sk-toggleable__control sk-hidden--visually\" id=\"sk-estimator-id-5\" type=\"checkbox\" ><label for=\"sk-estimator-id-5\" class=\"sk-toggleable__label sk-toggleable__label-arrow\">MultinomialNB</label><div class=\"sk-toggleable__content\"><pre>MultinomialNB()</pre></div></div></div></div></div></div></div></div></div></div></div></div>"
      ],
      "text/plain": [
       "GridSearchCV(cv=3,\n",
       "             estimator=Pipeline(steps=[('vectorizer', CountVectorizer()),\n",
       "                                       ('clf', MultinomialNB())]),\n",
       "             n_jobs=-1,\n",
       "             param_grid=[{'clf': [MultinomialNB(alpha=1)],\n",
       "                          'clf__alpha': [0.5, 1],\n",
       "                          'vectorizer': [CountVectorizer(max_df=0.7, min_df=3,\n",
       "                                                         ngram_range=(1, 3))],\n",
       "                          'vectorizer__max_df': [0.7, 0.8, 0.9],\n",
       "                          'vectorizer__min_df': [2, 3, 4, 5],\n",
       "                          'vectorizer__ngram_range': [(1, 2), (1,...\n",
       "                         {'clf': [LogisticRegression(max_iter=500,\n",
       "                                                     random_state=123)],\n",
       "                          'clf__C': [0.1, 1, 10, 100],\n",
       "                          'vectorizer': [TfidfVectorizer()],\n",
       "                          'vectorizer__max_df': [0.7, 0.8, 0.9],\n",
       "                          'vectorizer__min_df': [2, 3, 4, 5],\n",
       "                          'vectorizer__ngram_range': [(1, 2), (1, 3)],\n",
       "                          'vectorizer__norm': ['l1', 'l2'],\n",
       "                          'vectorizer__stop_words': [None, 'english'],\n",
       "                          'vectorizer__use_idf': [True, False]}],\n",
       "             scoring='accuracy', verbose=1)"
      ]
     },
     "execution_count": 20,
     "metadata": {},
     "output_type": "execute_result"
    }
   ],
   "source": [
    "%%time\n",
    "#combine the best model using GridSearchCV\n",
    "grid_search = GridSearchCV(bayes_pipe, final_params, cv=3, scoring='accuracy', \n",
    "                          verbose=1, n_jobs=-1)\n",
    "#fit the model\n",
    "grid_search.fit(X_train, y_train)"
   ]
  },
  {
   "cell_type": "code",
   "execution_count": 21,
   "id": "ea5591d8-fef2-42d8-896b-99da22560ecf",
   "metadata": {},
   "outputs": [
    {
     "data": {
      "text/plain": [
       "{'clf': MultinomialNB(alpha=1),\n",
       " 'clf__alpha': 1,\n",
       " 'vectorizer': CountVectorizer(max_df=0.7, min_df=3, ngram_range=(1, 3)),\n",
       " 'vectorizer__max_df': 0.7,\n",
       " 'vectorizer__min_df': 3,\n",
       " 'vectorizer__ngram_range': (1, 3),\n",
       " 'vectorizer__stop_words': None}"
      ]
     },
     "execution_count": 21,
     "metadata": {},
     "output_type": "execute_result"
    }
   ],
   "source": [
    "# get the best combination\n",
    "grid_search.best_params_"
   ]
  },
  {
   "cell_type": "markdown",
   "id": "26700b9a-2d6d-434f-b4ee-0ac0f892c2b2",
   "metadata": {},
   "source": [
    "### Best model from gridsearch"
   ]
  },
  {
   "cell_type": "code",
   "execution_count": 22,
   "id": "f2a6e56e-77fd-4b40-b22d-9cb5211baea1",
   "metadata": {},
   "outputs": [
    {
     "name": "stdout",
     "output_type": "stream",
     "text": [
      "----------------------------------------------------------------------\n",
      " Classification Metrics: Training Data\n",
      "----------------------------------------------------------------------\n",
      "              precision    recall  f1-score   support\n",
      "\n",
      "        high       0.99      0.99      0.99       865\n",
      "         low       0.99      0.98      0.99       762\n",
      "\n",
      "    accuracy                           0.99      1627\n",
      "   macro avg       0.99      0.99      0.99      1627\n",
      "weighted avg       0.99      0.99      0.99      1627\n",
      "\n"
     ]
    },
    {
     "data": {
      "image/png": "[encoded data removed]",
      "text/plain": [
       "<Figure size 600x400 with 2 Axes>"
      ]
     },
     "metadata": {},
     "output_type": "display_data"
    },
    {
     "name": "stdout",
     "output_type": "stream",
     "text": [
      "\n",
      "----------------------------------------------------------------------\n",
      " Classification Metrics: Test Data\n",
      "----------------------------------------------------------------------\n",
      "              precision    recall  f1-score   support\n",
      "\n",
      "        high       0.89      0.90      0.89       226\n",
      "         low       0.87      0.86      0.86       181\n",
      "\n",
      "    accuracy                           0.88       407\n",
      "   macro avg       0.88      0.88      0.88       407\n",
      "weighted avg       0.88      0.88      0.88       407\n",
      "\n"
     ]
    },
    {
     "data": {
      "image/png": "[encoded data removed]",
      "text/plain": [
       "<Figure size 600x400 with 2 Axes>"
      ]
     },
     "metadata": {},
     "output_type": "display_data"
    }
   ],
   "source": [
    "#evaluate best model\n",
    "best_model = grid_search.best_estimator_\n",
    "fn.evaluate_classification(best_model, X_train, y_train, X_test, y_test)"
   ]
  },
  {
   "cell_type": "markdown",
   "id": "0d5f0eee-6ca4-4771-8108-033f45a1d1fe",
   "metadata": {},
   "source": [
    "With best parameters it gives training accuracy of 99% and testing as 88%. This is overfitting. We can still tune our model with more hypertuning. For now we will move on to Deep NLP.\n"
   ]
  },
  {
   "cell_type": "markdown",
   "id": "ac532f05-8524-4d38-8b37-a5e8287bacff",
   "metadata": {},
   "source": [
    "### Save the best model as Joblib"
   ]
  },
  {
   "cell_type": "code",
   "execution_count": 23,
   "id": "af813219-53aa-4030-b2c2-a7490a2080da",
   "metadata": {},
   "outputs": [
    {
     "data": {
      "text/plain": [
       "['models/best-ml-gridsearch-model.joblib']"
      ]
     },
     "execution_count": 23,
     "metadata": {},
     "output_type": "execute_result"
    }
   ],
   "source": [
    "# not sure why to save train and test data but instead preprocessing steps are alreday saved so skipping this step\n",
    "\n",
    "# # Save training data\n",
    "# fpath_train_data = \"Data/nlp/train-data.joblib\"\n",
    "# joblib.dump([X_train, y_train],fpath_train_data)\n",
    "    \n",
    "# # Save test data\n",
    "# fpath_test_data = \"Data/nlp/test-data.joblib\"\n",
    "# joblib.dump([X_test, y_test],fpath_test_data)\n",
    "    \n",
    "# Saving the best model \n",
    "best_model_path  = \"models/best-ml-gridsearch-model.joblib\"\n",
    "joblib.dump(best_model, best_model_path)"
   ]
  },
  {
   "cell_type": "markdown",
   "id": "adaf6cc0-73a8-4544-afc1-f681f77814f2",
   "metadata": {},
   "source": [
    "## Modeling - Deep NLP"
   ]
  },
  {
   "cell_type": "markdown",
   "id": "cfd74ff0-0818-46a2-8a0a-6fd95afb4264",
   "metadata": {},
   "source": [
    "### Prepare Tensorflow Datasets ( Train-Test-Val Datasets)"
   ]
  },
  {
   "cell_type": "markdown",
   "id": "cb97b426-9e8c-42f7-9a55-a3497b75b7ec",
   "metadata": {},
   "source": [
    "Since we already have X and y, we will first encode y using LabelEncoder and make 2 datast objects using tf.data.Dataset.from_tensor_slices.\n",
    "1. The training dataset using X_train, y_train (we will create new train and tesst dataset with encoded y)\n",
    "2. The val/test dataset using X_test, y-test."
   ]
  },
  {
   "cell_type": "code",
   "execution_count": 88,
   "id": "1af171ed-0e44-406a-8ccc-f5b684bc512f",
   "metadata": {},
   "outputs": [
    {
     "data": {
      "text/plain": [
       "0    1091\n",
       "1     943\n",
       "dtype: int64"
      ]
     },
     "execution_count": 88,
     "metadata": {},
     "output_type": "execute_result"
    }
   ],
   "source": [
    "#define X and y and convert rating_category to integers\n",
    "X = df['review']\n",
    "y_encoded = pd.Series(LabelEncoder().fit_transform(df['target']))\n",
    "y_encoded.value_counts()"
   ]
  },
  {
   "cell_type": "code",
   "execution_count": 89,
   "id": "87cfbde9-99c1-4f36-a878-c14ddf1af80f",
   "metadata": {},
   "outputs": [
    {
     "data": {
      "text/plain": [
       "4346    **Nothing is frustrating than losing a best friend!**\\r\\n\\r\\nThere are lots of stupid teen films in the recent time. But don't confuse it with them. It is a fine, sensible drama with some fun. It's a dream debut for the director. Being a woman an...\n",
       "2110    A great ride of a movie. Bruce Willis is perfectly cast as Frank Moses and downplays his character like no one else could. Picture any other star in this role and it's a completely different movie. And where else are you going to see Helen Mirren...\n",
       "Name: review, dtype: object"
      ]
     },
     "execution_count": 89,
     "metadata": {},
     "output_type": "execute_result"
    }
   ],
   "source": [
    "## Train test split\n",
    "X_train, X_test, y_train, y_test = train_test_split(X,y_encoded,test_size=0.25,\n",
    "                                                    random_state=123)\n",
    "X_train.head(2)"
   ]
  },
  {
   "cell_type": "code",
   "execution_count": 90,
   "id": "4724a036-7d42-483e-9a4a-aaa06b937e71",
   "metadata": {},
   "outputs": [],
   "source": [
    "## We will then split the val/test dataset into a val/test split.\n",
    "\n",
    "# Convert training data to Dataset Object\n",
    "train_ds = tf.data.Dataset.from_tensor_slices((X_train, y_train))\n",
    "# Shuffle dataset once\n",
    "train_ds = train_ds.shuffle(buffer_size=len(train_ds), seed=123,\n",
    "                            reshuffle_each_iteration=False)"
   ]
  },
  {
   "cell_type": "markdown",
   "id": "51acf5dc-a4e5-442e-adea-827c7a4a01c7",
   "metadata": {},
   "source": [
    "Create a test and validation dataset using X_test,y_test"
   ]
  },
  {
   "cell_type": "code",
   "execution_count": 91,
   "id": "5323c68e-a37b-4ff4-a875-ec9298b869cd",
   "metadata": {},
   "outputs": [
    {
     "data": {
      "text/plain": [
       "<_TensorSliceDataset element_spec=(TensorSpec(shape=(), dtype=tf.string, name=None), TensorSpec(shape=(), dtype=tf.int64, name=None))>"
      ]
     },
     "execution_count": 91,
     "metadata": {},
     "output_type": "execute_result"
    }
   ],
   "source": [
    "# Convert test to dataset object and split\n",
    "val_test_ds = tf.data.Dataset.from_tensor_slices((X_test, y_test))\n",
    "val_test_ds"
   ]
  },
  {
   "cell_type": "code",
   "execution_count": 92,
   "id": "bbf9c023-cbe2-4373-bca9-52fbb7954ff5",
   "metadata": {},
   "outputs": [
    {
     "data": {
      "text/plain": [
       "254"
      ]
     },
     "execution_count": 92,
     "metadata": {},
     "output_type": "execute_result"
    }
   ],
   "source": [
    "# Calculate # of samples for 50/50 val/test split\n",
    "n_val_samples = int(len(val_test_ds) *.5)\n",
    "n_val_samples"
   ]
  },
  {
   "cell_type": "code",
   "execution_count": 93,
   "id": "f9675dbf-f8c5-4160-8058-f7c4d8584c85",
   "metadata": {},
   "outputs": [],
   "source": [
    "## Perform the val/test split\n",
    "\n",
    "## Create the validation dataset using .take\n",
    "val_ds = val_test_ds.take(n_val_samples)\n",
    "\n",
    "## Create the test dataset using skip\n",
    "test_ds = val_test_ds.skip(n_val_samples)"
   ]
  },
  {
   "cell_type": "code",
   "execution_count": 94,
   "id": "5984d3f9-2150-4363-8bb0-a21d98f62cf4",
   "metadata": {},
   "outputs": [
    {
     "data": {
      "text/plain": [
       "(1525, 254, 255)"
      ]
     },
     "execution_count": 94,
     "metadata": {},
     "output_type": "execute_result"
    }
   ],
   "source": [
    "# Comparing the lengths of all 3 splits\n",
    "len(train_ds), len(val_ds), len(test_ds)"
   ]
  },
  {
   "cell_type": "code",
   "execution_count": 95,
   "id": "cdc12d41-a5a7-4656-946e-febb4178ae1a",
   "metadata": {},
   "outputs": [],
   "source": [
    "# Shuffle only the training data every epoch\n",
    "train_ds = train_ds.shuffle(len(train_ds),seed = 123)"
   ]
  },
  {
   "cell_type": "code",
   "execution_count": 96,
   "id": "5a2834de-6472-4d66-bffb-928f65897f7f",
   "metadata": {},
   "outputs": [
    {
     "name": "stdout",
     "output_type": "stream",
     "text": [
      " There are 48 training batches.\n",
      " There are 8 validation batches.\n",
      " There are 8 testing batches.\n"
     ]
    }
   ],
   "source": [
    "#  Setting the batch_size for all datasets\n",
    "import math\n",
    "BATCH_SIZE =32\n",
    "\n",
    "# use .batch to add batching to all 3 datasets\n",
    "train_ds = train_ds.batch(BATCH_SIZE)\n",
    "val_ds = val_ds.batch(BATCH_SIZE)\n",
    "test_ds = test_ds.batch(BATCH_SIZE)\n",
    "\n",
    "\n",
    "# # Calculating the number of batches\n",
    "# train_batches = math.ceil(len((train_ds))/BATCH_SIZE)\n",
    "# val_batches = math.ceil(len(val_ds)/BATCH_SIZE)\n",
    "# test_batches = math.ceil((len(test_ds))/BATCH_SIZE)\n",
    "\n",
    "# Confirm the number of batches in each\n",
    "print (f' There are {len(train_ds)} training batches.')\n",
    "print (f' There are {len(val_ds)} validation batches.')\n",
    "print (f' There are {len(test_ds)} testing batches.')"
   ]
  },
  {
   "cell_type": "markdown",
   "id": "f19e7b6f-ca4f-4bda-8020-75861563c891",
   "metadata": {},
   "source": [
    "### Create Keras Text Vectorization layer"
   ]
  },
  {
   "cell_type": "markdown",
   "id": "4c012e31-3382-4e06-9f52-9a7ccbed9f54",
   "metadata": {},
   "source": [
    "Lets find appropriate sequence length"
   ]
  },
  {
   "cell_type": "code",
   "execution_count": 97,
   "id": "d7f22de8-ed4c-4358-9569-6a5475dd3065",
   "metadata": {},
   "outputs": [
    {
     "data": {
      "text/plain": [
       "count    2034.000000\n",
       "mean      234.543756\n",
       "std       272.990492\n",
       "min         1.000000\n",
       "25%        67.000000\n",
       "50%       160.500000\n",
       "75%       304.000000\n",
       "max      4017.000000\n",
       "Name: length_token, dtype: float64"
      ]
     },
     "execution_count": 97,
     "metadata": {},
     "output_type": "execute_result"
    }
   ],
   "source": [
    "# Create a column for length of tokens in each text \n",
    "df['length_token'] = df['review'].map( lambda x: len(x.split(\" \")))\n",
    "df['length_token'].describe()"
   ]
  },
  {
   "cell_type": "code",
   "execution_count": 98,
   "id": "f89ac2ca-e1bd-422c-94f4-8744c165aaee",
   "metadata": {},
   "outputs": [
    {
     "name": "stdout",
     "output_type": "stream",
     "text": [
      "\n",
      "tf.keras.layers.TextVectorization(\n",
      "{   'batch_input_shape': (None,),\n",
      "    'dtype': 'string',\n",
      "    'encoding': 'utf-8',\n",
      "    'idf_weights': None,\n",
      "    'max_tokens': None,\n",
      "    'name': 'text_vectorization_2',\n",
      "    'ngrams': None,\n",
      "    'output_mode': 'int',\n",
      "    'output_sequence_length': 300,\n",
      "    'pad_to_max_tokens': False,\n",
      "    'ragged': False,\n",
      "    'sparse': False,\n",
      "    'split': 'whitespace',\n",
      "    'standardize': 'lower_and_strip_punctuation',\n",
      "    'trainable': True,\n",
      "    'vocabulary': None,\n",
      "    'vocabulary_size': 24483}\n",
      ")\n"
     ]
    }
   ],
   "source": [
    "# Text Vectorization Parameters\n",
    "\n",
    "# Lets take sequence length as 300 \n",
    "SEQUENCE_LENGTH = 300\n",
    "sequence_vectorizer, lookup = fn.make_text_vectorization_layer(train_ds, standardize=\"lower_and_strip_punctuation\",output_mode='int', \n",
    "                                                      output_sequence_length=SEQUENCE_LENGTH, \n",
    "                                                      verbose=True)"
   ]
  },
  {
   "cell_type": "code",
   "execution_count": 99,
   "id": "97c9c608-0374-4e01-9228-610a23de1112",
   "metadata": {},
   "outputs": [
    {
     "data": {
      "text/plain": [
       "24483"
      ]
     },
     "execution_count": 99,
     "metadata": {},
     "output_type": "execute_result"
    }
   ],
   "source": [
    "# Obtaining the text from the training dataset \n",
    "ds_texts = train_ds.map(lambda x, y: x)\n",
    "\n",
    "# Training (adapt on training text data))\n",
    "sequence_vectorizer.adapt(ds_texts)\n",
    "\n",
    "# Getting vocabulary size\n",
    "VOCAB_SIZE = sequence_vectorizer.vocabulary_size()\n",
    "VOCAB_SIZE"
   ]
  },
  {
   "cell_type": "code",
   "execution_count": 100,
   "id": "ae669d4f-089f-44d4-b499-7fc549b635b3",
   "metadata": {},
   "outputs": [
    {
     "data": {
      "text/plain": [
       "<_MapDataset element_spec=TensorSpec(shape=(None,), dtype=tf.string, name=None)>"
      ]
     },
     "execution_count": 100,
     "metadata": {},
     "output_type": "execute_result"
    }
   ],
   "source": [
    "ds_texts"
   ]
  },
  {
   "cell_type": "markdown",
   "id": "6c708758-251e-4cd6-8c19-852e701b7a31",
   "metadata": {},
   "source": [
    "#### Define Embedding size"
   ]
  },
  {
   "cell_type": "code",
   "execution_count": 101,
   "id": "398cfb11-b831-49c4-9206-2335c06bbd9c",
   "metadata": {},
   "outputs": [],
   "source": [
    "# Embedding dimensions\n",
    "EMBED_DIM = 100 "
   ]
  },
  {
   "cell_type": "markdown",
   "id": "183d3e69-b840-45c2-bf63-a643a73ba7e4",
   "metadata": {},
   "source": [
    "### Build RNN models with TextVectorization Layer"
   ]
  },
  {
   "cell_type": "code",
   "execution_count": 102,
   "id": "4bc5f726-7a4c-442f-b9de-21ddf1799061",
   "metadata": {},
   "outputs": [
    {
     "name": "stdout",
     "output_type": "stream",
     "text": [
      " EMBED_DIM: 100\n",
      " SEQUENCE_LENGTH: 300\n",
      " VOCAB_SIZE: 24483\n"
     ]
    }
   ],
   "source": [
    "\n",
    "print(f' EMBED_DIM: {EMBED_DIM}')\n",
    "print(f' SEQUENCE_LENGTH: {SEQUENCE_LENGTH}')\n",
    "print(f' VOCAB_SIZE: {VOCAB_SIZE}')"
   ]
  },
  {
   "cell_type": "markdown",
   "id": "fc7fc915-5a16-43fc-915d-1156e8a880cc",
   "metadata": {},
   "source": [
    "#### Simple RNN"
   ]
  },
  {
   "cell_type": "code",
   "execution_count": 103,
   "id": "b69687ac-25de-4d02-8037-da4abdba4dbd",
   "metadata": {},
   "outputs": [],
   "source": [
    "def build_rnn_model(text_vectorization_layer):\n",
    "    VOCAB_SIZE = text_vectorization_layer.vocabulary_size()\n",
    "    SEQUENCE_LENGTH = sequence_vectorizer.get_config()['output_sequence_length']\n",
    "    \n",
    "    \n",
    "    # Define sequential model with pre-trained vectorization layer and *new* embedding layer\n",
    "    model = Sequential([\n",
    "        text_vectorization_layer,\n",
    "        layers.Embedding(input_dim=VOCAB_SIZE,\n",
    "                                  output_dim=EMBED_DIM, \n",
    "                                  input_length=SEQUENCE_LENGTH)\n",
    "        ])\n",
    "        \n",
    "    # Add *new* LSTM layer\n",
    "    model.add(layers.SimpleRNN(32)) #BEST=32\n",
    "    \n",
    "    # Add output layer\n",
    "    model.add(layers.Dense(1, activation='sigmoid'))\n",
    " \n",
    "    # Compile the model\n",
    "    model.compile(optimizer=optimizers.legacy.Adam(learning_rate = .001), \n",
    "                  loss='bce',\n",
    "                  metrics=['accuracy'])\n",
    "    \n",
    "    model.summary()\n",
    "    return model\n",
    "\n",
    "def get_callbacks(patience=3, monitor='val_accuracy'):\n",
    "    early_stop = tf.keras.callbacks.EarlyStopping(patience=patience, monitor=monitor)\n",
    "    return [early_stop]"
   ]
  },
  {
   "cell_type": "code",
   "execution_count": 104,
   "id": "e1382312-d344-4eac-ae35-55c9ba2f7a37",
   "metadata": {},
   "outputs": [
    {
     "name": "stdout",
     "output_type": "stream",
     "text": [
      "Model: \"sequential_4\"\n",
      "_________________________________________________________________\n",
      " Layer (type)                Output Shape              Param #   \n",
      "=================================================================\n",
      " text_vectorization_2 (TextV  (None, 300)              0         \n",
      " ectorization)                                                   \n",
      "                                                                 \n",
      " embedding_7 (Embedding)     (None, 300, 100)          2448300   \n",
      "                                                                 \n",
      " simple_rnn_4 (SimpleRNN)    (None, 32)                4256      \n",
      "                                                                 \n",
      " dense_4 (Dense)             (None, 1)                 33        \n",
      "                                                                 \n",
      "=================================================================\n",
      "Total params: 2,452,589\n",
      "Trainable params: 2,452,589\n",
      "Non-trainable params: 0\n",
      "_________________________________________________________________\n",
      "Epoch 1/30\n",
      "48/48 [==============================] - 1652s 34s/step - loss: 0.6974 - accuracy: 0.4990 - val_loss: 0.6918 - val_accuracy: 0.5197\n",
      "Epoch 2/30\n",
      "48/48 [==============================] - 1602s 33s/step - loss: 0.6144 - accuracy: 0.6525 - val_loss: 0.6976 - val_accuracy: 0.5118\n",
      "Epoch 3/30\n",
      "48/48 [==============================] - 1578s 33s/step - loss: 0.5591 - accuracy: 0.6702 - val_loss: 0.7309 - val_accuracy: 0.4685\n",
      "Epoch 4/30\n",
      "48/48 [==============================] - 3955s 83s/step - loss: 0.5329 - accuracy: 0.6708 - val_loss: 0.7129 - val_accuracy: 0.4961\n"
     ]
    },
    {
     "data": {
      "image/png": "[encoded data removed]",
      "text/plain": [
       "<Figure size 600x600 with 2 Axes>"
      ]
     },
     "metadata": {},
     "output_type": "display_data"
    },
    {
     "name": "stdout",
     "output_type": "stream",
     "text": [
      "\n",
      "================================================================================\n",
      "- Evaluating Network...\n",
      "================================================================================\n",
      "----------------------------------------------------------------------\n",
      " Classification Metrics: Training Data\n",
      "----------------------------------------------------------------------\n",
      "              precision    recall  f1-score   support\n",
      "\n",
      "           0       0.62      1.00      0.77       813\n",
      "           1       1.00      0.31      0.48       712\n",
      "\n",
      "    accuracy                           0.68      1525\n",
      "   macro avg       0.81      0.66      0.62      1525\n",
      "weighted avg       0.80      0.68      0.63      1525\n",
      "\n"
     ]
    },
    {
     "data": {
      "image/png": "[encoded data removed]",
      "text/plain": [
       "<Figure size 600x400 with 2 Axes>"
      ]
     },
     "metadata": {},
     "output_type": "display_data"
    },
    {
     "name": "stdout",
     "output_type": "stream",
     "text": [
      "\n",
      "- Evaluating Training Data:\n",
      "48/48 [==============================] - 172s 4s/step - loss: 0.5125 - accuracy: 0.6787\n",
      "{'loss': 0.512535810470581, 'accuracy': 0.6786885261535645}\n",
      "----------------------------------------------------------------------\n",
      " Classification Metrics: Test Data\n",
      "----------------------------------------------------------------------\n",
      "              precision    recall  f1-score   support\n",
      "\n",
      "           0       0.54      0.81      0.65       141\n",
      "           1       0.40      0.16      0.23       114\n",
      "\n",
      "    accuracy                           0.52       255\n",
      "   macro avg       0.47      0.48      0.44       255\n",
      "weighted avg       0.48      0.52      0.46       255\n",
      "\n"
     ]
    },
    {
     "data": {
      "image/png": "[encoded data removed]",
      "text/plain": [
       "<Figure size 600x400 with 2 Axes>"
      ]
     },
     "metadata": {},
     "output_type": "display_data"
    },
    {
     "name": "stdout",
     "output_type": "stream",
     "text": [
      "\n",
      "- Evaluating Test Data:\n",
      "8/8 [==============================] - 30s 4s/step - loss: 0.7275 - accuracy: 0.5176\n",
      "{'loss': 0.7274977564811707, 'accuracy': 0.5176470875740051}\n"
     ]
    }
   ],
   "source": [
    "# Build the lstm model and specify the vectorizer\n",
    "rnn_model = build_rnn_model(sequence_vectorizer)\n",
    "\n",
    "# Defien number of epocs\n",
    "EPOCHS = 3\n",
    "# Fit the model\n",
    "history = rnn_model.fit(\n",
    "    train_ds,\n",
    "    epochs=EPOCHS,\n",
    "    validation_data=val_ds,\n",
    "    callbacks=get_callbacks(),\n",
    ")\n",
    "#fn.plot_history(history,figsize=(6,4))\n",
    "\n",
    "# Obtaining the results\n",
    "rnn_results = fn.evaluate_classification_network(rnn_model, \n",
    "                                             X_train=train_ds, \n",
    "                                             X_test=test_ds, \n",
    "                                             history=history\n",
    "                                            );"
   ]
  },
  {
   "cell_type": "code",
   "execution_count": null,
   "id": "d9a443ec-4bcd-44cf-bf9b-4a5a29606afe",
   "metadata": {},
   "outputs": [],
   "source": [
    "# Save the model in tf format \n",
    "fpath_model = \"Models/nlp/simplernn\"\n",
    "rnn_model.save(fpath_model, save_format='tf')"
   ]
  },
  {
   "cell_type": "markdown",
   "id": "411c8afb-f75c-49e3-b340-ab656048ebb0",
   "metadata": {},
   "source": [
    "#### LSTM"
   ]
  },
  {
   "cell_type": "code",
   "execution_count": 62,
   "id": "451f87ed-1b35-4ab1-a6fb-6032a816f5a9",
   "metadata": {},
   "outputs": [
    {
     "ename": "NameError",
     "evalue": "name 'classes' is not defined",
     "output_type": "error",
     "traceback": [
      "\u001b[0;31m---------------------------------------------------------------------------\u001b[0m",
      "\u001b[0;31mNameError\u001b[0m                                 Traceback (most recent call last)",
      "Cell \u001b[0;32mIn[62], line 2\u001b[0m\n\u001b[1;32m      1\u001b[0m \u001b[38;5;66;03m# Building the lstm model and specifying the vectorizer\u001b[39;00m\n\u001b[0;32m----> 2\u001b[0m lstm_model \u001b[38;5;241m=\u001b[39m \u001b[43mbuild_lstm_model\u001b[49m\u001b[43m(\u001b[49m\u001b[43msequence_vectorizer\u001b[49m\u001b[43m)\u001b[49m\n\u001b[1;32m      3\u001b[0m \u001b[38;5;66;03m# Defining number of epocs\u001b[39;00m\n\u001b[1;32m      4\u001b[0m EPOCHS \u001b[38;5;241m=\u001b[39m \u001b[38;5;241m30\u001b[39m\n",
      "Cell \u001b[0;32mIn[60], line 15\u001b[0m, in \u001b[0;36mbuild_lstm_model\u001b[0;34m(text_vectorization_layer)\u001b[0m\n\u001b[1;32m     13\u001b[0m lstm_model\u001b[38;5;241m.\u001b[39madd(layers\u001b[38;5;241m.\u001b[39mLSTM(\u001b[38;5;241m128\u001b[39m))\n\u001b[1;32m     14\u001b[0m \u001b[38;5;66;03m# Adding output layer\u001b[39;00m\n\u001b[0;32m---> 15\u001b[0m lstm_model\u001b[38;5;241m.\u001b[39madd(layers\u001b[38;5;241m.\u001b[39mDense(\u001b[38;5;28mlen\u001b[39m(\u001b[43mclasses\u001b[49m), activation\u001b[38;5;241m=\u001b[39m\u001b[38;5;124m'\u001b[39m\u001b[38;5;124msoftmax\u001b[39m\u001b[38;5;124m'\u001b[39m))\n\u001b[1;32m     16\u001b[0m \u001b[38;5;66;03m# Compile the model with optimizer\u001b[39;00m\n\u001b[1;32m     17\u001b[0m lstm_model\u001b[38;5;241m.\u001b[39mcompile(optimizer\u001b[38;5;241m=\u001b[39moptimizers\u001b[38;5;241m.\u001b[39mlegacy\u001b[38;5;241m.\u001b[39mAdam(learning_rate \u001b[38;5;241m=\u001b[39m \u001b[38;5;241m0.01\u001b[39m), \n\u001b[1;32m     18\u001b[0m                    loss\u001b[38;5;241m=\u001b[39m\u001b[38;5;124m'\u001b[39m\u001b[38;5;124msparse_categorical_crossentropy\u001b[39m\u001b[38;5;124m'\u001b[39m, \n\u001b[1;32m     19\u001b[0m                    metrics\u001b[38;5;241m=\u001b[39m[\u001b[38;5;124m'\u001b[39m\u001b[38;5;124maccuracy\u001b[39m\u001b[38;5;124m'\u001b[39m])\n",
      "\u001b[0;31mNameError\u001b[0m: name 'classes' is not defined"
     ]
    }
   ],
   "source": [
    "# Building the lstm model and specifying the vectorizer\n",
    "lstm_model = build_lstm_model(sequence_vectorizer)\n",
    "# Defining number of epocs\n",
    "EPOCHS = 3\n",
    "# Fitting the model\n",
    "history = lstm_model.fit(train_ds,\n",
    "                         epochs=EPOCHS,\n",
    "                         validation_data=val_ds,\n",
    "                         callbacks=get_callbacks()\n",
    "                        )\n",
    "\n",
    "# Obtaining the results\n",
    "lstm_results = fn.evaluate_classification_network(lstm_model, \n",
    "                                             X_train=train_ds, \n",
    "                                             X_test=test_ds, \n",
    "                                             history=history\n",
    "                                            );"
   ]
  },
  {
   "cell_type": "code",
   "execution_count": null,
   "id": "08331e36-24ff-4c49-bf5e-1fc6ec7c46f4",
   "metadata": {},
   "outputs": [],
   "source": []
  },
  {
   "cell_type": "code",
   "execution_count": null,
   "id": "49fd062f-b4a0-4577-85bb-1aa2cecc1bb1",
   "metadata": {},
   "outputs": [],
   "source": []
  },
  {
   "cell_type": "code",
   "execution_count": null,
   "id": "df42dede-a17d-4607-a469-198ae188a015",
   "metadata": {},
   "outputs": [],
   "source": []
  },
  {
   "cell_type": "code",
   "execution_count": null,
   "id": "8b5e3682-c8db-47a3-801b-032430709d1a",
   "metadata": {},
   "outputs": [],
   "source": []
  },
  {
   "cell_type": "code",
   "execution_count": null,
   "id": "89cd3dcb-ab46-4805-8613-0aa3b58daa19",
   "metadata": {},
   "outputs": [],
   "source": []
  },
  {
   "cell_type": "code",
   "execution_count": null,
   "id": "cfbf6068-1d4f-4c65-be0f-39ea2e4f28b1",
   "metadata": {},
   "outputs": [],
   "source": []
  },
  {
   "cell_type": "code",
   "execution_count": null,
   "id": "bdd2e5bb-f056-4dca-a63a-cfbdd321f902",
   "metadata": {},
   "outputs": [],
   "source": []
  }
 ],
 "metadata": {
  "kernelspec": {
   "display_name": "Python 3 (ipykernel)",
   "language": "python",
   "name": "python3"
  },
  "language_info": {
   "codemirror_mode": {
    "name": "ipython",
    "version": 3
   },
   "file_extension": ".py",
   "mimetype": "text/x-python",
   "name": "python",
   "nbconvert_exporter": "python",
   "pygments_lexer": "ipython3",
   "version": "3.10.10"
  }
 },
 "nbformat": 4,
 "nbformat_minor": 5
}
